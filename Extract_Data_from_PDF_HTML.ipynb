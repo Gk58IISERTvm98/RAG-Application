{
  "cells": [
    {
      "cell_type": "markdown",
      "metadata": {
        "id": "view-in-github",
        "colab_type": "text"
      },
      "source": [
        "<a href=\"https://colab.research.google.com/github/Gk58IISERTvm98/RAG-Application/blob/main/Extract_Data_from_PDF_HTML.ipynb\" target=\"_parent\"><img src=\"https://colab.research.google.com/assets/colab-badge.svg\" alt=\"Open In Colab\"/></a>"
      ]
    },
    {
      "cell_type": "code",
      "source": [
        "!pip install \"unstructured[all-docs]\""
      ],
      "metadata": {
        "id": "vqL6nVHUY_zZ"
      },
      "execution_count": null,
      "outputs": []
    },
    {
      "cell_type": "code",
      "source": [
        "!pip install PyPDF2 pdfminer.six pdfplumber pytesseract langchain openai weaviate-client faiss-cpu pinecone-client\n"
      ],
      "metadata": {
        "collapsed": true,
        "id": "mUT5d0Uo4wK5"
      },
      "execution_count": null,
      "outputs": []
    },
    {
      "cell_type": "code",
      "source": [
        "!pip install pdf2image"
      ],
      "metadata": {
        "collapsed": true,
        "id": "2FHvi4em60RW",
        "outputId": "7dfd8a91-f95d-4f61-e1dc-2e87b6b79b60",
        "colab": {
          "base_uri": "https://localhost:8080/"
        }
      },
      "execution_count": 3,
      "outputs": [
        {
          "output_type": "stream",
          "name": "stdout",
          "text": [
            "Requirement already satisfied: pdf2image in /usr/local/lib/python3.10/dist-packages (1.17.0)\n",
            "Requirement already satisfied: pillow in /usr/local/lib/python3.10/dist-packages (from pdf2image) (10.4.0)\n"
          ]
        }
      ]
    },
    {
      "cell_type": "code",
      "source": [
        "!apt-get install poppler-utils"
      ],
      "metadata": {
        "id": "dAzUdFgdxmt_",
        "outputId": "3bed87f4-ec6b-4dab-eee4-2e0427e3f0fe",
        "colab": {
          "base_uri": "https://localhost:8080/"
        }
      },
      "execution_count": 4,
      "outputs": [
        {
          "output_type": "stream",
          "name": "stdout",
          "text": [
            "Reading package lists... Done\n",
            "Building dependency tree... Done\n",
            "Reading state information... Done\n",
            "poppler-utils is already the newest version (22.02.0-2ubuntu0.5).\n",
            "0 upgraded, 0 newly installed, 0 to remove and 49 not upgraded.\n"
          ]
        }
      ]
    },
    {
      "cell_type": "code",
      "source": [
        "!pip install tesseract-ocr\n",
        "!pip install unstructured-pytesseract\n",
        "# !pip install unstructured"
      ],
      "metadata": {
        "collapsed": true,
        "id": "KGbGzk_A6aju"
      },
      "execution_count": null,
      "outputs": []
    },
    {
      "cell_type": "code",
      "source": [
        "!pip install --upgrade nltk"
      ],
      "metadata": {
        "collapsed": true,
        "id": "isXXKN5J6XKM"
      },
      "execution_count": null,
      "outputs": []
    },
    {
      "cell_type": "code",
      "source": [
        "\n",
        "import nltk\n",
        "nltk.download('punkt')\n",
        "nltk.download('averaged_perceptron_tagger')"
      ],
      "metadata": {
        "id": "FpSnr-hR6f_j"
      },
      "execution_count": null,
      "outputs": []
    },
    {
      "cell_type": "markdown",
      "source": [
        "## **Extract Text from Text-based PDFs**"
      ],
      "metadata": {
        "id": "OLP2xszZ5IiK"
      }
    },
    {
      "cell_type": "code",
      "source": [
        "harry_potter = \"/content/harry_potter.pdf\""
      ],
      "metadata": {
        "id": "doKGXFgT8SGP"
      },
      "execution_count": 8,
      "outputs": []
    },
    {
      "cell_type": "markdown",
      "source": [
        "#### **Using PyPDF2**"
      ],
      "metadata": {
        "id": "4Bf41820vB3q"
      }
    },
    {
      "cell_type": "code",
      "source": [
        "import PyPDF2\n",
        "\n",
        "def extract_text_pypdf2(pdf_path):\n",
        "    with open(pdf_path, 'rb') as file:\n",
        "        reader = PyPDF2.PdfReader(file)\n",
        "        text = \"\"\n",
        "        for page in reader.pages:\n",
        "            text += page.extract_text()\n",
        "    return text\n",
        "\n",
        "def extract_metadata(pdf_path):\n",
        "    with open(pdf_path, 'rb') as file:\n",
        "        reader = PyPDF2.PdfReader(file)\n",
        "        return reader.metadata\n"
      ],
      "metadata": {
        "id": "MO1-ZsdC4wOm"
      },
      "execution_count": 9,
      "outputs": []
    },
    {
      "cell_type": "code",
      "source": [
        "potter = extract_text_pypdf2(harry_potter)"
      ],
      "metadata": {
        "id": "ivPVwEkJ8dsG"
      },
      "execution_count": 10,
      "outputs": []
    },
    {
      "cell_type": "code",
      "source": [
        "potter[0:100]"
      ],
      "metadata": {
        "id": "6DWLJstK9QzS",
        "outputId": "d37c3be6-fd81-4ba5-b3cd-f87b2e3dd624",
        "colab": {
          "base_uri": "https://localhost:8080/",
          "height": 53
        }
      },
      "execution_count": 11,
      "outputs": [
        {
          "output_type": "execute_result",
          "data": {
            "text/plain": [
              "'114\\nCopyright © Canadian Academy of Oriental and Occidental Culture ISSN 1923-1555[Print] \\nISSN 1923'"
            ],
            "application/vnd.google.colaboratory.intrinsic+json": {
              "type": "string"
            }
          },
          "metadata": {},
          "execution_count": 11
        }
      ]
    },
    {
      "cell_type": "code",
      "source": [
        "meta_data = extract_metadata(harry_potter)\n",
        "meta_data"
      ],
      "metadata": {
        "id": "d3DayRw7uGq2",
        "outputId": "dd6c58fa-c5bf-49e5-8234-ddf3b5f91805",
        "colab": {
          "base_uri": "https://localhost:8080/"
        }
      },
      "execution_count": 12,
      "outputs": [
        {
          "output_type": "execute_result",
          "data": {
            "text/plain": [
              "{'/CreationDate': 'D:20240824140400',\n",
              " '/Creator': 'PDFium',\n",
              " '/Producer': 'PDFium'}"
            ]
          },
          "metadata": {},
          "execution_count": 12
        }
      ]
    },
    {
      "cell_type": "markdown",
      "source": [
        "#### **Use Pdf_Miner**"
      ],
      "metadata": {
        "id": "wrqVrI-svNmb"
      }
    },
    {
      "cell_type": "code",
      "source": [
        "from pdfminer.high_level import extract_text\n",
        "\n",
        "def extract_text_pdfminer(pdf_path):\n",
        "    return extract_text(pdf_path)\n"
      ],
      "metadata": {
        "id": "mlinltle4wRF"
      },
      "execution_count": 13,
      "outputs": []
    },
    {
      "cell_type": "code",
      "source": [
        "harry = extract_text_pdfminer(harry_potter)"
      ],
      "metadata": {
        "id": "IVFm__0B9ymA"
      },
      "execution_count": 14,
      "outputs": []
    },
    {
      "cell_type": "code",
      "source": [
        "harry"
      ],
      "metadata": {
        "id": "znXYDhE-99aX",
        "outputId": "8a55bde9-c14d-4755-cb05-73b580a6d354",
        "colab": {
          "base_uri": "https://localhost:8080/",
          "height": 192
        }
      },
      "execution_count": 15,
      "outputs": [
        {
          "output_type": "execute_result",
          "data": {
            "text/plain": [
              "'View metadata, citation and similar papers at core.ac.uk\\n\\nbrought to you by  CORE\\n\\nprovided by CSCanada.net: E-Journals (Canadian Academy of Oriental and Occidental Culture,...\\n\\nStudies in Literature and Language\\nVol. 20, No. 3, 2020, pp. 114-120\\nDOI:10.3968/11731\\n\\nThe Analysis of Harry Potter and the Philosopher’s Stone From the Perspective of \\nMagic Realism\\n\\nZHOU Shuya[a],*\\n\\n[a]Foreign  Language  College,  Jiangxi  Normal  University,  Nanchang, \\nChina.\\n* Corresponding author.\\n\\nStudies  in  Literature  and  Language, 20(3),  114-120. Available \\nfrom:  http://www.cscanada.net/index.php/sll/article/view/11731 \\nDoI: http://dx.doi.org/10.3968/11731\\n\\nReceived 11 February 2020; accepted 9 April 2020\\nPublished online 26 June 2020\\n\\nAbstract\\nThe  little  boy  who  wears  a  pair  of  glasses  and  rides  a \\nbroom in the sky, Harry Potter, has worked on his magic \\non countless teenagers, making the whole world be crazy \\nfor his adventurous story. Published in 1997, Harry Potter \\nand the Philosopher’s Stone, has been translated into more \\nthan 70 languages due to its inviting plot, humorous style \\nand themes, warmly welcomed by the fans all over the \\nworld. Under this circumstance, this paper analyzes and \\nexplores the intersection of imagination and reality in the \\nbook  from  the  perspective  of  magic  realism.  It  is  well \\nacknowledged that magic realism is an approach to reflect \\nreality by the dreamland generated from magic, in which \\nthe magic is a method when the essence is the reality. This \\npaper first introduces the research objective, the first book \\nof Harry Potter series in terms of the reputation it enjoyed \\nand most importantly, the outstanding British novelist, J. \\nK. Rowling. Combined with the characteristics of magic \\nrealism, it discusses about the intersection of imagination \\nand reality in the portrayal of characters, the layout of the \\nscene. Closely related to the attachment of reality from the \\nperspective of magic realism, it finds out and analyzes the \\nvalues of literal life that the writer intends to convey in the \\nnovel. This paper not only points out the shadow of reality \\nin the settings of characters as well as scenes, but also finds \\nout the values that the writer wants to convey like rebellion, \\nthe attitude towards desire and the power of love, which \\nwould  enhance  the  interpretation  of  the  application  of \\nmagic realism in Harry Potter and the Philosopher’s Stone.\\nKey words: Imagination; Reality; Magic realism\\n\\nZ h o u ,   S .   Y.   ( 2 0 2 0 ) .   T h e   A n a l y s i s   o f  H a r r y   P o t t e r   a n d   t h e \\nPhilosopher ’s  Stone  From  the  Perspective  of  Magic  Realism. \\n\\nINTRODUCTION\\nFor ten years, the magic boy with his glasses has grown \\ninto a mature man, and the inviting adventure of Harry \\nPotter  has  become  a  new  star  of  the  world’s  attention. \\nThis ten years, countless fans and the “iron triangle” grow \\ntogether, laugh together and cry together. \\n\\nHarry  Potter  and  the  Philosopher’s  Stone,  the  first \\nbook in Harry Potter books, enjoyed legendary success \\nin  modern  children’s  literature.  Harry  grew  up  in  the \\nhome  of  his  aunt,  suffering  discrimination  and  insult \\nfrom  the  family.  However,  on  the  11th  birthday,  Harry \\nPotter learned his life would change dramatically. Harry’s \\nparents were two good wizards who were killed by the \\nDark Lord. In order to inherit their parents’ behest, Harry \\ncame  to  a  boarding  school  called  Hogwarts  to  learn \\nmagic. After entering Hogwarts School, Harry became a \\nfreshman, and became an inseparable friend with Ron and \\nHermione. Many of the magicians’ courses were waiting \\nfor him to study, such as flight classes, potions and so on. \\nAt the same time, the dark force was finding its way to \\nthe harmonious school life. For the purpose of chasing \\nfor enduring life, the Dark Lord spared no efforts to steal \\nthe  Philosopher’s  Stone  which  was  used  to  make  him \\nimmortal. With the help of the friends and courage, and \\nmost importantly, with love, he made it to save the stone \\nand defeat the Dark Lord.\\n\\nBased on such a fascinating storyline, this paper, to \\nsome extent, analyzed the novel from the perspective of \\nmagic  realism.  Based  on  the  general  understanding  of \\nHarry Potter series, including its distinguished position in \\nliterature world and its writer, it analyzed the definition \\nand the development of magic realism, followed by the \\ncharacteristics  of  magic  realism.  Under  the  guidance \\n\\n114\\n\\nCopyright © Canadian Academy of Oriental and Occidental Culture ISSN 1923-1555[Print] ISSN 1923-1563[Online]   www.cscanada.netwww.cscanada.org\\x0cof the two main features of magic realism, it discussed \\nthe  application  of  theory  in  the Harry  Potter  and  the \\nPhilosopher’s Stone. The first feature would be adopted \\nto  explore  the  setting  of  characters  and  scenes  in  the \\nnovel when the second feature, the essence of which is \\nreflecting the values of reality, would be used to interpret \\nthe importance of rebellion, the attitude towards desire \\nand the lethal weapon of love. With the assistance of the \\ntheory of magic realism, this paper would be meaningful \\nin understanding different images and the values writer \\nintended to convey in the novel. \\n\\n1 .   A N A LY S I S   O N   H A R RY   P O T T E R \\nSERIOUS AND MAGIC REALISM\\nHarry  Potter,  the  boy  not  only  lived  in  fascinating  and \\nintriguing  wizard  world,  but  also  in  the  minds  and \\ncuriosity  of  masses  of  teenagers  all  around  the  world, \\nthe author of which enjoyed the title of “magic mother”. \\nWhen  it  comes  to  analyzing  the  distinguished  place  of \\nHarry  Potter  serious,  the  exploration  of  the  personal \\nexperience of the author J.K. Rowling and her influence \\nbrought by imagination should be presented in the first \\nstage. \\n\\n1.1 The Magic Mother and the First Book in Harry \\nPotter Serious\\nBorn  In  1965,  Joanne  Kathleen  Rowing,  the  British \\nauthor, went from being unemployed and living on state \\nbenefits  to  becoming  a  multi-millionaire  in  five  years. \\nHowever,  as  a  teenager  she  lived  in  a  Grade  II  listed \\ncottage in Gloucestershire, which she states was “not a \\nparticularly  happy  time  in  my  life”,  due  to  her  mother \\nbeing diagnosed with Multiple Sclerosis and a strained \\nrelationship with her father. Sharing the same birthday of \\nthe boy wizard Harry Potter, she wrote her initial Potter \\nideas  on  a  napkin  on  a  delayed  train  from  Manchester \\nto  London  in  1990.  Fans  may  know  that  she  typed  her \\nfirst book, Harry Potter and the Philosopher’s Stone on \\na typewriter, often choosing to write in Edinburgh cafés, \\naccompanied  by  baby  daughter  Jessica,  named  after \\nJessica Mitford, a heroine of Rowling’s youth. After the \\nposition  of  Head  Girl  at Wyedean  School  and  College, \\nshe graduated from the University of Exeter with a BA in \\nFrench and Classics, and then worked as a researcher for \\nAmnesty International. \\n\\nBut J.K. Rowling said she was “still in shock” over \\nthe  response  to  her  highly  popular  Harry  Potter  books. \\nRowling,  the  rags-to-riches  British  writer  whose  series \\non a schoolboy wizard has enthralled children across the \\nworld,  did  not  have  such  smooth  road  before  her  first \\nbook and she has tasted the bitter aspect of life like every \\nstruggling  person  who  was  nearly  begging  for  earning \\na  life. once  she  confessed  in  her  speech  delivered  on \\nthe graduation ceremony that one of the fringe benefits \\nof failure was that she could stop pretending to herself \\n\\nZHoU Shuya (2020). \\nStudies in Literature and Language, 20(3), 114-120\\n\\nthat she was anything other than what she was. Just like \\nthe magic of life, the same went to her speeding rate of \\nsuccess on writing. More than 7 million copies have been \\nsold in the United States alone, where Rowling has been \\ncredited by some with drawing millions of children into \\nthe pleasures of book-reading (Friis C,2013). The books \\nhave been translated into more than 25 languages. Harry \\nPotter has been on the cover of Time Magazine, which \\ncompared  the  books  with  childhood  classics  like  C.S. \\nLewis’ The Lion, the Witch and the Wardrobe and J.R.R. \\nTolkien’s  The  Hobbit (Gong Weifeng,2011).  Incredibly \\nand precisely, she was acclaimed with the title of “ magic \\nmother” by her loving fans who were impressed by her \\nstory. \\n\\nAlmost twenty years ago, the story of a young wizard \\nwas  launched  in  the  Muggle  world  and  stirred  up  a \\nmagical wave across the globe. Since the release of the \\nfirst  novel, Harry  Potter  and  the  Philosopher’s  Stone, \\non June 26, 1997, the book series have earned immense \\npopularity,  critical  acclaim  and  commercial  success \\nworldwide. The series has been adapted into eight fantasy \\nfilms  and  all  received  overwhelmingly  positive  critical \\nreception. The  movie  version  of  Harry  Potter  and  the \\nPhilosopher’s  Stone  earned  more  than  $970  million  at \\nthe box office worldwide, becoming the highest grossing \\nfilm of 2001 (Laura C,2015). It was nominated for many \\nawards including the Academy Award for Best Original \\nScore, Best Art Direction and Best Costume Design.\\n\\n1.2 The Definition and the Development of Magic \\nRealism\\noriginated from Latin American countries, magic realism \\nhas been flourishing since last fifties which had a lasting \\nand far-reaching influence on the world of literary circles. \\nMagic  realism  refers  to  the  approach  of  reflecting \\nand describing reality with the assistance of magic and \\nimagination  instead  of  only  focusing  on  fantasy  at  the \\ncost of losing its authenticity, the principle of which is to \\nconcentrate on the reality by means of pouring the magical \\nelements  into  the  works.  In  essence,  magic  realism  is \\ndirectly related to the reality. Corey L (2015) found out \\nthat magic realism was a special expression of real life \\nby means of rich imagination and artistic exaggeration, \\nwhich  turned  reality  into  a  magical  reality  which  was \\ndifferent from actual literal world, but magic was just a \\nway to reflect reality which was the ultimate goal.  \\n\\nConcerning  the  origin  of  magic  realism,  the \\ndevelopment  of  the  magic  realism  could  be  speculated \\nfrom  the  perspective  of  the  development  of  Latin \\nAmerican countries, the natural resources of which were \\nrich whereas the situation of economy and politic were \\nrather  in  the  backward  state.  (Meng  Ji,2015)  People \\nwere  suffering  from  the  invasion  of  other  countries  as \\nwell as the cruel dictatorship of their own country at the \\nsame time, forcing a lot of writers to escape to Europe \\nor countries like America. It was in other countries that \\n\\n115\\n\\nCopyright © Canadian Academy of Oriental and Occidental Culture\\x0cthey had the chance to get themselves involved in another \\nculture.  Deeply  impressed,  those  who  realized  that  the \\nimperialist aggression, the local dictatorship, the backward \\nsystem and the chain of ignorance and superstition were \\nhindering  the  development  of  Latin America  decided \\nto  arouse  the  spirit  of  people  by  using  their  pens.  on \\nthe  other  hand,  Latin America  was  full  of  magnificent \\nmyths  and  legends  where  there  were  splendid  ancient \\nIndian  culture,  Maya, Aztec  and  so  on. The  European \\nand American colonists have brought in the collision of \\nadvanced scientific and technological tools contradict with \\nthe  traditional  religious  superstitious  feudal  life. These \\ndifferent  ideas  existed  harmoniously  in  Latin America, \\nand profoundly affected the ideas and ways of writing of \\nnative writers, which coincided with the awakening of the \\nself-consciousness of Latin American writers.\\n\\n2.  THE  CHARACTERISTICS  OF  MAGIC \\nREALISM WORKS \\nMagic  realism  works,  warmly  welcomed  by  numerous \\nreaders,  teenagers  in  particular,  are  featured  with  two \\nmain characteristics which are the intersection of reality \\nand imagination as well as the essence of reality.\\n\\n2.1 The Intersection of Reality and Imagination\\none of the most distinct features of magic realism works \\nis the intersection of imagination and literal world. The \\nmagic  realism  shows  a  reality  in  Latin America  that \\nis  full  of  strange  and  unreal  images,  the  distinction  of \\nghost and human no longer existing in the worries of the \\nwriters, because all the imaginary characters and ordinary \\nnormal images are living with myth in the story. (Liang \\nShuang,2015) So in literary works, there are settings of \\nordinary people as well as the roles like demons, celestial \\nbeings and so on, and amazing surreal phenomenons are \\nscattering everywhere in the works. And the characteristic \\nthat  tells  magic  realism  from  traditional  realism  is  the \\nadoption  of  imagination  and  magic.  Deeply  influenced \\nby the Western modernism, magic realism has absorbed \\nthe  features  of  symbolism,  expressionism,  surrealism \\nand  so  on.  Magic  realism  works  would  use  images  of \\nboth  imagination  and  reality  like  different  characters, \\nsymbols to convey the theme of the writer. It seems that \\nthe  imaginary  plot  and  descriptions  are  unreasonable \\nand strange, but as it is, they are prepared either for the \\nenhancement of the characteristics of the protagonist or \\nthe climax of the plot. \\n\\nWriters  of  magic  realism  works  show  partiality  of \\nputting reality into the abstract and illusory environment \\nand background, combining with objective and detailed \\ndescription  so  as  to  dress  the  reality  with  grotesque \\nappearance. Magic realism works not only firmly convey \\nthe  morals  and  principles  of  social  aspects  of  lives, \\nbut also selectively make use  of  the  modernist style of \\nEurope  and America,  in  which  there  are  some  magical \\n\\nand grotesque images and scenes. The adoption of magic \\nrealism in literature works presents a joint picture with a \\ncreative but practical, abstract but concrete style. \\n\\n2.2 The Essence of Reality\\nIn  reference  to  the  contents  and  essence  of  the  magic \\nrealism  works,  it  is  a  literary  phenomenon  in  which \\nwriter uses this special approach of expression to expose \\nthe darkness of society and show the real life of society. \\nHence, to some extent, the second characteristic of magic \\nrealism is the essence of reality. \\n\\nAs  it  is,  most  of  the  so-called  magic  realism  work \\nholds  a  critical  attitude  to  the  reality,  especially  the \\ncriticism of social system and class system. From the point \\nof view of the social background, the social contradictions \\nin the western capitalist society in the twentieth century \\nare  not  as  influential  as  the  social  antagonism  in  the \\nnineteenth century, so the criticism displayed by the magic \\nrealism exactly reveals the outstanding contradictions in \\nthe modern society. \\n\\nIn fact, most of the so-called realism is characterized \\nby criticism, especially the criticism of social system and \\nclass system. Harry Potter and the Philosopher’s Stone as \\na magic realism work for young people, it is impossible to \\ndeepen the criticism of the social system to the degree as \\nother classical literary works of the nineteenth century do. \\nBut it could still be observed that the theme of the novel is \\nnot designed for nothing, through which the writer convey \\nher  attitude  and  value  in  the  formative  development  of \\nthe teenagers. So no matter how strange and different the \\nwizarding word from liter word, the essence of the novel \\nis to reflect the reality. \\n\\n3 .   T H E   A P P L I C AT I O N   O F   M A G I C \\nREALISM  IN HARRY  POTTER AND  THE \\nPHILOSOPHER’S STONE\\nFrom  the  perspective  of  the  characteristics  of  magic \\nrealism, the novel could be analyzed from the intersection \\nof imagination and reality, together with the essence of \\nreality reflected from the values in the novel. \\n\\n3.1  Reality  and  Imagination  in  the  Setting  of \\nCharacters and Scenes\\nThe whole story is unfolded and pushed by the fierce war \\nbetween Harry and Lord Voldemort, the figures of which \\nstill keep the shadow of human characters in literal life. \\nAlso, the scenes described in the novel are constructed \\nbased on the literal spots, which could be traced according \\nto the unique culture and scenery in England as well as \\nhuman lives. \\n3.1.1 The Boy Who Lived\\none of the primary traits that differentiates Harry from \\nthe  more  malevolent  characters  in  the  book,  such  as \\nVoldemort and Draco Malfoy, was his humility which is \\nalso one of the most special characters in literal world. \\n\\n116\\n\\nCopyright © Canadian Academy of Oriental and Occidental CultureThe Analysis of Harry Potter and the Philosopher’s Stone From the Perspective of Magic Realism\\x0cZHoU Shuya (2020). \\nStudies in Literature and Language, 20(3), 114-120\\n\\ncreate the Horcruxes, and it was what made him desire \\nthe stone, otherwise known as the key component of the \\nElixir of Life, which allowed the drinker to live forever. \\nImmortality was seen, of course, as the means to conquer \\ndeath,  but  Philosopher’s  Stone  questioned  the  idea  of \\nwhether that was a triumph at all. \\n\\nou t s t a n d i n g   a s   h e   w a s ,   Vo l d e m o r t   c o u l d n ’t \\ncomprehend  why  love  should  be  so  important,  which \\nbecame one of the crucial reasons why he could not kill \\nHarry; powerful as he was, he was betrayed  by his so-\\ncalled fellows who were chasing after him only because of \\nfear; talented as he was, he had no ideas about friendship, \\nnot  to  mention  the  truly  horrifying  pitfalls  of  teenage \\nlife, relationship problems, jealousy and school exams. \\nThe shadow of selfish, indifferent, isolated character of \\nhuman instinct has all reflected in the figure of Voldemort \\nto some extent. It is true that Harry is the perfect example \\nthat  teenagers  should  learn  from,  so  it  is  true  that  the \\ncharacter of Voldemort is the dark side of the humanity \\nwhich people should despise and look down upon on. \\n\\nThe  unforgettable  scenes  in Harry  Potter  and  the \\nPhilosopher’s Stone mainly consist of the wizarding bank, \\nthe  railway  station  and  the  school  where  young  Harry \\nwas extremely  shocked and amazed at when thousands \\nand millions of readers are fascinated at the same time. \\nobserved carefully, it could be found that those spots are \\ntransformed by the ones in literal life.  \\n3.1.3 The Gringotts\\n\\nEnter, stranger, but take heed\\nof what awaits the sin of greed\\nFor those who take, but do not earn\\nMust pay most dearly in their turn\\nSo if you seek beneath our floors\\nA treasure that was never yours\\nThief, you have been warned, beware\\nof  finding  more  than  treasure  there.  (Harry  Potter  and  the \\nPhilosopher’s Stone,56-57)\\n\\nThis  was  the  poem  craved  on  the  second  door  of \\nGringotts, the bank of wizard. And Harry’s first visit to \\nGringotts occurred in the first book, where he met some of \\nhis first fantastic beings, the proprietors of the wizarding \\nbank. \\n\\nAs the proverb goes well, money makes the mare go. \\nThe finance support of the protagonist is of great necessity \\nwhich enable Harry to buy himself a wand, suitable cloths \\nand  books  required  by  school  under  the  circumstance \\nwhere both of his parents died. And Gringotts, the wizard \\nbank,  was  the  perfect  arrangement  for  this  purpose. \\nAnd the scene of the poem craved on the door actually \\nreflected the moral of literal world which was implicitly \\nconveyed by Rowing. The rule of staying away with the \\ntreasure of others also applied with the wizard world. \\n\\nCompared  with  contemporary  banks  in  reality,  it \\ncould  be  speculated  that  they  shared  many  similarities \\nwhen  differences  also  existed  in  terms  of  scope  of \\nbusiness,  the  degree  of  security  and  the  classification \\n\\nDespite  his  reputation  as  the  boy-who-lived  and  his \\nskills in Quidditch, Harry maintained a modest persona \\nthroughout  the  novel.  If  anything,  the  extra  attention \\nthat  he  received  because  of  his  background  made  him \\nuncomfortable and insecure; he felt that he could never be \\nextraordinary enough to be worthy of such an esteemed \\nreputation. Harry’s humility was, in part, a direct result of \\nhis neglected childhood with the Dursleys. Due to the fact \\nthat he was never treated as someone who was special, \\nHarry grew up with the understanding that respect was not \\nreadily given and must be achieved. When Dumbledore \\nleft Harry with the Dursleys, he knew that Harry would \\nbe mistreated. Yet, he also realized that, by growing up \\naway from the wizarding world that would put him on a \\npedestal, he ensured that Harry would grow up without \\nbeing spoiled by pride and arrogance.\\n\\nHarry’s  humility  became  particularly  significant  as \\na  theme  of  the  book  when  he  faced Voldemort  in  the \\ndungeons of Hogwarts. Neither Voldemort nor Professor \\nQuirrell was able to retrieve the stone from the Mirror of \\nErised because they were both thinking of ways that the \\nstone would benefit themselves. Harry, on the other hand, \\nthought only of retrieving the stone in order to save other \\npeople from Voldemort’s tyranny: with his humble nature, \\nit would never occur to him to use the Sorcerer’s Stone for \\nhis own selfish purposes. The figure of Harry is featured \\nwith truth, kindness and beauty which becomes one of the \\nfactors leading to the success of Harry Potter serious. \\n\\nHarry’s  friendship  with  Ron  and  Hermione  was \\nalso  significant  in  the  way  that  it  further  distinguished \\nHarry  from  Voldemort. Although  Voldemort  was  far \\nmore  powerful  than  Harry,  he  preferred  to  be  isolated \\nand independent from those around him. Even Professor \\nQuirrell, who drunk unicorn blood for him, was nothing \\nmore than a servant to Voldemort. Voldemort lacked the \\nability to form lasting friendships, so he was always alone \\nand has only himself to rely on. Harry, on the other hand, \\nwas able to rely on himself while still drawing upon the \\nsupport  system  and  exceptional  magical  talents  of  his \\nclose friends.\\n3.1.2 The Dark Lord\\nLike  every  coin  has  two  sides  in  life,  the  portrayal  of \\ncharacters in one story must contain the good one and the \\nevil one. Tom Riddle, whose name was later transformed \\ninto  Voldemort  by  himself  was  the  leading  enemy  of \\nHarry when in the most of the time people in wizarding \\nworld dared not to mention his name and replaced it with \\nthe  “  Dark  Lord”. And  he  was  the  most  powerful  evil \\nwizard  who  became  disembodied  when  he  tried  to  kill \\nbaby Harry. \\n\\nLord  Voldemort  was  equal  to  many  things,  evil, \\npowerful,  terrifying,  but  by  contrast,  he  was  scared  of \\ndeath.  This  existential  terror,  as  well  as  a  pursuit  of \\npower, was what drove Voldemort throughout the series. \\nJust  like  the  lust  human  chasing  for  fame  and  money \\nat  the  cost  of  life  and  sincerity.  It  was  what  made  him \\n\\n117\\n\\nCopyright © Canadian Academy of Oriental and Occidental Culture\\x0cof the customers. Compared to the modern commercial \\nbanking  business,  Gringotts  bank  business  was  rather \\nmonotonous  which  was  the  one  of  the  branches  of  the \\ncontemporary ones. It was not difficult to find out from \\nthe novel that the main business of the it was to provide \\nthe treasury for the storage of money or important items \\nwithout  any  interest  income,  only  to  charge  a  certain \\nfee for the use of the treasury, which was the equivalent \\nof  the  concept  of  the  rental  of  the  safe.  In  addition  to \\nstrengthening the construction of hardware facilities in the \\nmodern commercial banks in twenty-first century, with \\nthe  promotion  of  e-banking  business,  the  construction \\nof  network  security  can  not  be  ignored. The  Gringotts \\nbank also had very strong security system, which was the \\nsecond safest bank in the world in addition to Hogwarts. \\nSimilar to the banks in literal world, in the Harry Potter \\nseries, the clientele of the bank could be roughly divided \\ninto  ordinary  customers,  VIP  customers  and  VVIP \\ncustomers according to the strength of the vault secrecy. \\nTake VVIP for example. VVIP not only had strict identity \\nauthentication measures, but also had a dragon to guard \\nthe door. There were also anti-thief waterfalls, as well as \\nthe fire curse and replication curse, absolutely stubborn \\nanti-theft measures.\\n3.1.4 The King’s Cross\\none  of  the  most  significant  scene  in Harry  Potter  and \\nthe  Philosopher’s  Stone  that  related  the  magical  world \\nand literal world was the King’s Cross, a railway station \\nblocked  by  a  wall  that  could  only  be  went  through  by \\nwizards. \\n\\nAfter Rubeus Hagrid handed Harry his ticket for the \\nHogwarts Express, Harry was left to get to the platform \\nnine  and  three-quarters  by  himself. Though  he  found \\nplatforms nine and ten, he was baffled at what to do next. \\nFortunately,  the  wizarding Weasley  family  arrived  and \\nshowed Harry how to go through a brick wall to get onto \\na hidden platform. Throughout the films, going through \\nthe wall to the platform was achieved digitally. However, \\nas Philosopher’s Stone director Chris Columbus preferred \\nto use practical effects when possible, he did have a brick-\\nwalled passageway constructed in the studio for Daniel \\nRadcliffe (Harry) to run through for the first time. The \\nKing’s Cross location was filmed on a Sunday, when the \\nstation would be least crowded. And it was uncrowded, \\nthat is, until weekend passengers noticed the shoot. \\n\\nActually,  the  sympathetic  redevelopment  of  King’s \\nCross  station  in  the  city  of  London  was  turning  an \\nunloved, historic rail terminus into a dynamic transport \\nhub and a destination in its own right. With this multi-\\nphased  development  now  completed,  the  significance \\nof  the  King’s  Cross  Station  redevelopment  was  finally \\nrevealed. The  transformation  of  King’s  Cross  Station \\nfor Network Rail involved three very different styles of \\narchitecture: re-use, restoration and new build. The train \\nshed and ranged buildings have been adapted and re-used, \\nand  a  new,  highly  expressive Western  Concourse  had \\n\\nbeen designed as a centrepiece and the “ beating heart” \\nof  the  project. When  the  station  opened  to  the  public \\non 19 March 2012, King’s Cross would become a new, \\niconic architectural gateway to the city, ready for the 2012 \\nLondon olympics. \\n\\nAnd the tricky thing was that Rowing didn’t replace \\nthe station with another name, which in return, enhanced \\nthe  authenticity  of  the  story.  The  Hogwarts  Express \\ndeparted from Platform 9¾ at King’s Cross Station, which \\nwas  in  the  arched  wall  between  platforms  4  and  5.  If \\nthat seemed short on magic, headed towards the real-life \\nentrance to platforms 9, 10 and 11 on the west side of the \\nstation. There people would find a trolley disappearing \\ninto  the  magical  realm  through  a  wall  with  the  sign: \\nPlatform 9¾.\\n3.1.5 Hogwarts \\nHogwarts, the real home of Harry, was a fictional British \\nschool  of  magic  for  students  aged  eleven  to  eighteen \\nwhere there were many interesting rules, flying ghosts, \\ninviting forbidden books, devious  corered  ways and so \\non. According to Professor Binns, Godric, Helga, Salazar \\nand  Rowena  built  this  castle  together,  far  from  prying \\nMuggle  eyes.  For  the  most  part,  the  four  worked  on \\ncreating Hogwarts in harmony, but it wasn’t long before \\nSalazar  Slytherin’s  troubling  views  on  the  wizarding \\nworld  caused  an  almighty  rift.  It  was  in  Hogwarts  that \\nnumerous  adventures  and  event  could  happen,  and  to \\nsome extent, the scene of Hogwarts was the second home \\nfor the readers where they felt the warmth and love from \\nthe friendship of the triplets, the teaching and caring from \\nprofessors as well as the happiness and contradict from \\nfellow classmates. Hogwarts had a long history of ancient \\nmagic, and Albus Dumbledore admitted that not even he \\nknew all of its secrets. Indeed, much about the design and \\nconstruction of Hogwarts remained a mystery. The tenth \\ncentury was a dangerous time for witches and wizards, \\nwho were being persecuted by Muggles hostile to magic. \\nTherefore, Hogwarts was built somewhere in the Scottish \\nHighlands,  and  concealed  with  numerous  charms  and \\nspells to make it impossible for Muggles to trespass. For \\ninstead of an enormous school, any passing Muggle would \\nonly saw ruins and signs warning them of danger. \\n\\nLeaving  alone  the  charming  history  of  Hogwarts, \\nit could be found that it has similar pattern of ordinary \\nschool  in  literal  world  which  was  featured  with  basic \\ncommunal facilities like bright classrooms, dormitories, \\nlibrary and so on. Most importantly, students here were \\nlearning  the  knowledge  of  the  textbooks  from  teachers \\nwhen  they  were  free  to  participate  in  the  after-class \\nactivities  like  Quidditch  match. And  frankly  speaking, \\nthe main difference lay in the fact that the contents of the \\nknowledge  were  everything  but  the  same.  Students  in \\nreality are busy in improving the grade of varied subjects \\nwhereas the ones in Hogwarts are focusing on their ability \\nof making use of the magic and numerous spells. on the \\nwhole,  the  shadow  of  literal  school  pattern  still  can  be \\n\\n118\\n\\nCopyright © Canadian Academy of Oriental and Occidental CultureThe Analysis of Harry Potter and the Philosopher’s Stone From the Perspective of Magic Realism\\x0cobserved in the developing scene of Hogwarts. \\n\\n3.2  The  Essence  of  Reality  in  the  Transmission \\nof Value\\nThe second characteristic of magic realism would serve \\nthe  purpose  of  interpreting  the  transmission  of  value \\nin the novel. It’s been 21 years since Harry Potter and \\nthe  Philosopher’s  Stone  was  published,  but  the  staff \\nand students of Hogwarts under the pen of Rowing still \\npossessed  sparking  characters  and  precious  life  lesson \\ntrying  to  convey  to  the  readers  and  fans. The  spirit  of \\nrebellion, right attitude towards desire and the faith in love \\nof literal life all reflect in the book of Philosopher’s Stone. \\nIn other words, the roots and foundation of the novel are \\nto convey the values in literal world. \\n3.2.1 The Importance of Rebellion\\nover the course of Harry Potter and the Philosopher’s \\nStone, Harry, Ron, and Hermione broke many school rules \\nin pursuing their adventures. Harry, in particular, was always \\nwilling to break a Hogwarts rule if it meant taking action \\nor doing something that he believed was right. Although \\nRowling did admit that the rules imposed at Hogwarts were \\nmeant to keep the students safe, she also presented Harry’s \\ndisregard for these rules as a heroic quality of his character. \\nHe was able to think for himself and, depending on the \\nsituation, making judgment calls that have the potential to \\nsave lives. Moreover, Harry was perfectly willing to accept \\nthe consequences for his rebellion, just as long as he was \\nable to take action when he can.\\n\\nIn  literal  life,  concepts  like  critical  thinking,  free \\nchasing  are  appealing  people  to  break  the  so-called \\nrules  so  as  to  think  outside  of  the  box  which  could  be \\nperceived as a way of rebellion. But it is significant to \\nnote that Harry never breaks the rules simply for the sake \\nof  breaking  them:  he  breaks  rules  only  when  he  truly \\nbelieves that his actions are necessary. His selfless and \\ncompassionate  nature  (contrasting  sharply  with  that  of \\nLord Voldemort)  is  also  highlighted  in  his  reasons  for \\nbreaking  the  rules.  For  example,  one  of  the  first  rules \\nthat Harry breaks is during the flying lesson with Madam \\nHooch when Harry flies after Malfoy in order to retrieve \\nNeville’s  Remembrall.  Harry  does  not  disobey  Madam \\nHooch’s direct orders in order to show off; he breaks the \\nrules  in  order  to  retrieve  the  gift  that  Neville  received \\nfrom his grandmother. \\n\\nAnother impressive moment that reflects the spirit of \\nrebellion is when Neville was trying to stop Harry, together \\nwith Hermione and Ron, from breaking the rules for the \\nsake of Gryffindor House. He was brave, though——the \\nSorting Hat knew it from the start. At this time, Neville \\nstarted to stand up for himself by defending for what he \\nthought  was  right.  Dumbledore  knew  it,  too,  awarding \\nNeville  ten  points  for  facing  up  to  Harry,  Ron  and \\nHermione, and thus securing Gryffindor the House Cup. \\nThe figure of Neville actually reflects the truth that being \\nscared doesn’t mean people can’t be brave; on the contrary, \\n\\nZHoU Shuya (2020). \\nStudies in Literature and Language, 20(3), 114-120\\n\\nstanding up when you’re scared is what makes you brave. \\nNeville’s was a quiet, quivering kind of courage, but when \\nDumbledore recognized him at the end-of-year feast, it \\nshowed that rebellion comes in many forms.\\n3.2.2 The attitude towards desire\\nDeath  haunts  this  book  from  the  very  first  chapter,  in \\nwhich people learn that something tragic has happened \\nto a baby boy’s parents. Just like Harry himself, we don’t \\nknow it at the time, but these deaths will set the stage for \\nthe entire series, and will shape Harry’s life forever. Harry \\nhad always known the loss of his parents, but he never \\ntruly began to feel it until he turned 11. For beyond being \\nthe age that he found out that he was a wizard; it was also \\nthe age he learned the true fate of his parents, Lily and \\nJames. Contrary to what he had been told, it wasn’t a car \\naccident: they were murdered. It was not until he went \\nto the magic school that he has got to know the Mirror \\nof Erise. This new information allowed Harry to process \\ntheir loss in a whole new way. He saw his parents in the \\nMirror of Erised, which showed the most desperate desire \\nof  a  person’s  heart;  or  rather,  Harry  did. While  others, \\nsuch as Ron, saw themselves achieving greatness, Harry \\nsaw  the  life  he  never  had:  him  and  his  parents,  living \\nhappily together. \\n\\nSimilar to the reality, the magic world also has many \\ntemptations like the lust of enduring life, money, power \\nand  so  on. And  this  arrangement  of  scene  is  eloquent \\nenough  on  the  one  hand  to  illustrate  Harry’s  love  and \\nlonging for seeing his parents even for once; but also, on \\nthe  other  hand,  reflects  the  merciless  and  strict  rule  of \\nhuman nature that death can not be reversed which the \\nauthor is attempting to tell in a tactful way. For that’s the \\nthing about death and grief: people grieve not only for the \\nloss of the person, but the theft of their future, of what \\ncould have been; of stolen moments, stolen potential. In \\nHarry Potter, there is always a penalty for cheating the \\ninevitable. Like people go crazy in front of the Mirror of \\nErise chasing for something that is beyond imagination, \\npeople in reality would finally learn their lessons at the \\nexpense of youth, time and so on. \\n\\none can waste away thinking of what may have been, \\nbut as Albus Dumbledore himself said: “It does not do to \\ndwell on dreams and forget to live.” \\n3.2.3 The Lethal Weapon of Love\\nHarry,  Hermione  and  Ron  encountered  a  series  of \\nobstacles, each of which required unique skills possessed \\nby  one  of  the  three,  and  one  of  which  required  Ron  to \\nsacrifice himself in a life-sized game of wizard’s chess. \\nIn  the  final  room,  Harry,  now  alone,  found  Quirinus \\nQuirrell, the Defence Against the Dark Arts teacher, who \\nhad been the one working behind the scenes to kill Harry \\nby first cursing his broom and then letting a troll into the \\nschool. Professor Snape had been trying to protect Harry \\ninstead, who had wronged him. Now, Quirrell was partly \\npossessed by Voldemort, whose face had sprouted on the \\nback of Quirrell’s head but was constantly concealed by \\n\\n119\\n\\nCopyright © Canadian Academy of Oriental and Occidental Culture\\x0chis oversized turban. Voldemort needed Harry’s help to \\nget past the final obstacle: the Mirror of Erised, forcing \\nhim to stand before the Mirror. It recognized Harry’s lack \\nof greed for the Stone and surreptitiously deposited it into \\nhis pocket. As Quirrell attempted to seize the stone and \\nkill Harry, his flesh burned on contact with the boy’s skin, \\nand Quirrell burned alive. It was later that he got to know \\nthe love of his mother had gave him such magic. \\n\\nLove, one of the most important themes that Rowling \\ndiscusses  in  the  book,  plays  a  crucial  role  in Harry \\nPotter and the Philosopher’s Stone as well as all of the \\nremaining books in the series. Rowling demonstrated the \\npower of love from the very beginning of the narrative \\nby explaining that Harry’s ability to survive Voldemort’s \\nkilling curse was a direct result of his mother’s love. By \\nsacrificing her own life to save that of her son, Lily Potter \\ngave Harry an magical form of protection that shielded \\nhim from Voldemort’s curse and nearly destroyed the dark \\nwizard. As  Professor  Dumbledore  asserted, Voldemort \\nwas  incapable  of  understanding  love,  particularly  in \\ncomparison to the strength of his own dark power, and \\nso  he  was  taken  entirely  by  surprise  when  it  came  to \\nLily’s sacrifice. In literal world, there are also may people \\nabandon the ability to love by showing no mercy to the \\nstruggle and disaster of human being. Moreover, Harry’s \\nown ability to love and be loved were the key traits that \\ndistinguished him from Voldemort and ensured that Harry \\nwould never be seduced by the Dark Arts. Harry’s love for \\nhis parents instilled him with an earnest determination to \\ndefeat Voldemort and helped him fight against anything \\nassociated with the Dark Arts ( thus, Harry’s refusal to \\nbe sorted into Slytherin House). Harry’s ability to love \\nalso providesd him with a support system of friends that \\nVoldemort could never hope to match. \\n\\nCONCLUSION\\nNot  a  fan  of  the  Harry  Potter  stories  has  not  been \\nattracted  by  the  magnificent  scenes  on  the  intensive \\nconflicts between the good wizards and the evil ones. As \\na popular contemporary popular literature, Harry Porter \\ncreates  a  clear  and  sensible  magic  Utopia  based  on  his \\nbold  imagination,  meticulous  setting  and  thick  culture, \\nwhich makes people feel familiar through reading. The \\nmysterious  flying  broomstick  and  cars  stimulate  and \\nexpand our capability of imagination to the very extreme. \\nEveryone is crazy by the magic. Speculating the whole \\nstory, evidence or say, the shadow of literal world would \\nbe observed in the characters, the different scenes as well \\nas the spirit conveyed in the book. \\n\\nThis  paper  mainly  discussed  different  images  and \\nvalues in Harry Potter and the Philosopher’s Stone from \\nthe perspective of magic realism. Apart from the general \\nabstract, introduction, conclusion and reference, it first \\nintroduced the research objective, Harry Potter series in \\nterms of the reputation they enjoy and most importantly, \\nthe  outstanding  British novelist and screenwriter,  J.  K. \\n\\nRowling,  who  had  overall  approval  on  the  scripts  and \\nwas  a  producer  on  the  final  films  in  the  series. And \\ntheoretically, it introduced the definition together with the \\ndevelopment of magic realism and the characteristics of \\nit. Then it discussed about the intersection of imagination \\nand reality in the portrayal of characters, the layout of the \\nscene as well as the transmission of the spirit based on the \\ncharacteristics  of  magic  realism.  Significant  characters \\nlike the protagonist, Harry Potter was comprehensively \\nanalyzed of his growing background, his characteristic, \\ntogether with the arrangement of his destination. Crucial \\nscenes like the home-like magical school, Hogwarts would \\nalso be represented as the objective to observe how does \\nthe writer construct this intersection of both imagination \\nand reality. Last but not least, the value reflected in the \\nmain storyline of this book of saving the Philosopher’s \\nStone  would  be  sorted  out.  Under  the  guidance  of  the \\ntheory of magic realism, this paper would be meaningful \\nin understanding different images and the values writer \\nintended to convey in the novel. \\n\\nREFERENCES\\nCrysel,  L.  C.,  Cook,  C.  L.,  Schember, T. o.,  & Webster,  G. \\nD.  (2015).  Harry  Potter  and  the  measures  of  personality: \\nExtraverted  Gryffindors,  agreeable  Hufflepuffs,  clever \\nRavenclaws, and manipulative Slytherins. Personality and \\nIndividual Differences, 83(10), 174-178.\\n\\nDempster,  S., oliver, A.,  Sunderland,  J.,  & Thistlethwaite,  J. \\n(2016). What  has  Harry  Potter  Done  for  Me?  Children’s \\nReflections on their Potter Experience. Children’s Literature \\nin Education, 47(2), 268-269.\\n\\nEdwards, G. (1999). Addiction and the truth in magic realism. \\n\\nLancet, 3(13), 354.\\n\\nFriis, C. (2013). Abandoned Children in Literature: The orphans \\nin J.K. Rowling’s Harry Potter and the Philosopher’s Stone. \\nLanguages & Literatures, 68(3), 1-10.\\n\\nGong, W. F., & Zhang, J. (2011). The analysis on the reasons to \\nthe success of Harry Potter and the Philosopher’s Stone. \\nJournal  of  Chifeng  University  (Philosophy  and  Social \\nSciences Edition), 32(7), 173-175.\\n\\nLiang, S. (2015). Magic realism in beloved. Campus English, \\n\\n12(01), 254-255.\\n\\nLiu, Y. Y.,  &  Liu,  H. Y. (2016). The image transformation of \\nmagic  realism  novels  in  Britain  and America.  Cinematic \\nLiterature, 3(13), 115-117.\\n\\nMeng,  J.  (2015).  Exploring  Chinese  Experimental  Literary \\nTranslation: Translation of Latin American Magic Realism \\ninto Modern Chinese. Fudan Journal of the Humanities and \\nSocial Sciences, 8(3), 357-358.\\n\\nRodríguez,  M.  M.  G.  (2003). The  problem  of  the  translation \\nof  proper  names  in  “Harry  Potter”  and  “The  Lord  of  the \\nRings”. Paleoceanography, 19(3), 131-132.\\n\\nRowing, J. K. (1997). Harry Potter and the Philosopher’s Stone. \\n\\nLondon: Bloomybury Publishing Plc, 1997.\\n\\nYang, X. L. (2002). on the “magic” expression of magic realism \\n\\nliterature. Journal of Yuxi University, 7(01), 46-51.\\n\\n120\\n\\nCopyright © Canadian Academy of Oriental and Occidental CultureThe Analysis of Harry Potter and the Philosopher’s Stone From the Perspective of Magic Realism\\x0c'"
            ],
            "application/vnd.google.colaboratory.intrinsic+json": {
              "type": "string"
            }
          },
          "metadata": {},
          "execution_count": 15
        }
      ]
    },
    {
      "cell_type": "code",
      "source": [
        "from pdfminer.pdfparser import PDFParser\n",
        "from pdfminer.pdfdocument import PDFDocument\n",
        "\n",
        "def extract_metadata_pdfminer(pdf_path):\n",
        "    with open(pdf_path, 'rb') as f:\n",
        "        parser = PDFParser(f)\n",
        "        doc = PDFDocument(parser)\n",
        "        metadata = doc.info  # This is a list of dictionaries with metadata\n",
        "        return metadata\n"
      ],
      "metadata": {
        "id": "_THRlo6rutBA"
      },
      "execution_count": 16,
      "outputs": []
    },
    {
      "cell_type": "code",
      "source": [
        "harry_meta = extract_metadata_pdfminer(harry_potter)\n",
        "harry_meta"
      ],
      "metadata": {
        "id": "nTOdGYcBuzvf",
        "outputId": "c3d73bf8-9fbe-414c-fc4b-2288b8e7f38e",
        "colab": {
          "base_uri": "https://localhost:8080/"
        }
      },
      "execution_count": 17,
      "outputs": [
        {
          "output_type": "execute_result",
          "data": {
            "text/plain": [
              "[{'CreationDate': b'D:20240824140400',\n",
              "  'Creator': b'PDFium',\n",
              "  'Producer': b'PDFium'}]"
            ]
          },
          "metadata": {},
          "execution_count": 17
        }
      ]
    },
    {
      "cell_type": "markdown",
      "source": [
        "#### **Pdf Plumber**"
      ],
      "metadata": {
        "id": "tiJe-MIevZOK"
      }
    },
    {
      "cell_type": "code",
      "source": [
        "import pdfplumber\n",
        "\n",
        "def extract_text_pdfplumber(pdf_path):\n",
        "    with pdfplumber.open(pdf_path) as pdf:\n",
        "        text = \"\"\n",
        "        for page in pdf.pages:\n",
        "            text += page.extract_text()\n",
        "    return text\n"
      ],
      "metadata": {
        "id": "vxe1I3Ks4wUB"
      },
      "execution_count": 18,
      "outputs": []
    },
    {
      "cell_type": "code",
      "source": [
        "harry = extract_text_pdfplumber(harry_potter)\n",
        "harry"
      ],
      "metadata": {
        "id": "ucB71ZTk_9Z7",
        "outputId": "d3061893-016a-4c37-f3fd-ba8933add9e3",
        "colab": {
          "base_uri": "https://localhost:8080/",
          "height": 192
        }
      },
      "execution_count": 19,
      "outputs": [
        {
          "output_type": "execute_result",
          "data": {
            "text/plain": [
              "'View metadata, citation and similar papers at core.ac.uk brought to you by CORE\\nprovided by CSCanada.net: E-Journals (Canadian Academy of Oriental and Occidental Culture,...\\nISSN 1923-1555[Print]\\nStudies in Literature and Language ISSN 1923-1563[Online]\\nVol. 20, No. 3, 2020, pp. 114-120 www.cscanada.net\\nDOI:10.3968/11731 www.cscanada.org\\nThe Analysis of Harry Potter and the Philosopher’s Stone From the Perspective of\\nMagic Realism\\nZHOU Shuya[a],*\\n[a]Foreign Language College, Jiangxi Normal University, Nanchang, Studies in Literature and Language, 20(3), 114-120. Available\\nChina. from: http://www.cscanada.net/index.php/sll/article/view/11731\\n* Corresponding author. DoI: http://dx.doi.org/10.3968/11731\\nReceived 11 February 2020; accepted 9 April 2020\\nPublished online 26 June 2020\\nINTRODUCTION\\nAbstract For ten years, the magic boy with his glasses has grown\\nThe little boy who wears a pair of glasses and rides a into a mature man, and the inviting adventure of Harry\\nbroom in the sky, Harry Potter, has worked on his magic Potter has become a new star of the world’s attention.\\non countless teenagers, making the whole world be crazy This ten years, countless fans and the “iron triangle” grow\\nfor his adventurous story. Published in 1997, Harry Potter together, laugh together and cry together.\\nand the Philosopher’s Stone, has been translated into more Harry Potter and the Philosopher’s Stone, the first\\nthan 70 languages due to its inviting plot, humorous style book in Harry Potter books, enjoyed legendary success\\nand themes, warmly welcomed by the fans all over the in modern children’s literature. Harry grew up in the\\nworld. Under this circumstance, this paper analyzes and home of his aunt, suffering discrimination and insult\\nexplores the intersection of imagination and reality in the from the family. However, on the 11th birthday, Harry\\nbook from the perspective of magic realism. It is well Potter learned his life would change dramatically. Harry’s\\nacknowledged that magic realism is an approach to reflect parents were two good wizards who were killed by the\\nreality by the dreamland generated from magic, in which Dark Lord. In order to inherit their parents’ behest, Harry\\nthe magic is a method when the essence is the reality. This came to a boarding school called Hogwarts to learn\\npaper first introduces the research objective, the first book magic. After entering Hogwarts School, Harry became a\\nof Harry Potter series in terms of the reputation it enjoyed freshman, and became an inseparable friend with Ron and\\nand most importantly, the outstanding British novelist, J. Hermione. Many of the magicians’ courses were waiting\\nK. Rowling. Combined with the characteristics of magic for him to study, such as flight classes, potions and so on.\\nrealism, it discusses about the intersection of imagination At the same time, the dark force was finding its way to\\nand reality in the portrayal of characters, the layout of the the harmonious school life. For the purpose of chasing\\nscene. Closely related to the attachment of reality from the for enduring life, the Dark Lord spared no efforts to steal\\nperspective of magic realism, it finds out and analyzes the the Philosopher’s Stone which was used to make him\\nvalues of literal life that the writer intends to convey in the immortal. With the help of the friends and courage, and\\nnovel. This paper not only points out the shadow of reality most importantly, with love, he made it to save the stone\\nin the settings of characters as well as scenes, but also finds and defeat the Dark Lord.\\nout the values that the writer wants to convey like rebellion,\\nBased on such a fascinating storyline, this paper, to\\nthe attitude towards desire and the power of love, which\\nsome extent, analyzed the novel from the perspective of\\nwould enhance the interpretation of the application of\\nmagic realism. Based on the general understanding of\\nmagic realism in Harry Potter and the Philosopher’s Stone.\\nHarry Potter series, including its distinguished position in\\nKey words: Imagination; Reality; Magic realism literature world and its writer, it analyzed the definition\\nand the development of magic realism, followed by the\\nZhou, S. Y. (2020). The Analysis of Harry Potter and the\\ncharacteristics of magic realism. Under the guidance\\nPhilosopher’s Stone From the Perspective of Magic Realism.\\nCopyright © Canadian Academy of Oriental and Occidental Culture 114ZHoU Shuya (2020).\\nStudies in Literature and Language, 20(3), 114-120\\nof the two main features of magic realism, it discussed that she was anything other than what she was. Just like\\nthe application of theory in the Harry Potter and the the magic of life, the same went to her speeding rate of\\nPhilosopher’s Stone. The first feature would be adopted success on writing. More than 7 million copies have been\\nto explore the setting of characters and scenes in the sold in the United States alone, where Rowling has been\\nnovel when the second feature, the essence of which is credited by some with drawing millions of children into\\nreflecting the values of reality, would be used to interpret the pleasures of book-reading (Friis C,2013). The books\\nthe importance of rebellion, the attitude towards desire have been translated into more than 25 languages. Harry\\nand the lethal weapon of love. With the assistance of the Potter has been on the cover of Time Magazine, which\\ntheory of magic realism, this paper would be meaningful compared the books with childhood classics like C.S.\\nin understanding different images and the values writer Lewis’ The Lion, the Witch and the Wardrobe and J.R.R.\\nintended to convey in the novel. Tolkien’s The Hobbit (Gong Weifeng,2011). Incredibly\\nand precisely, she was acclaimed with the title of “ magic\\n1. ANALYSIS ON HARRY POTTER mother” by her loving fans who were impressed by her\\nstory.\\nSERIOUS AND MAGIC REALISM\\nAlmost twenty years ago, the story of a young wizard\\nHarry Potter, the boy not only lived in fascinating and was launched in the Muggle world and stirred up a\\nintriguing wizard world, but also in the minds and magical wave across the globe. Since the release of the\\ncuriosity of masses of teenagers all around the world, first novel, Harry Potter and the Philosopher’s Stone,\\nthe author of which enjoyed the title of “magic mother”. on June 26, 1997, the book series have earned immense\\nWhen it comes to analyzing the distinguished place of popularity, critical acclaim and commercial success\\nHarry Potter serious, the exploration of the personal worldwide. The series has been adapted into eight fantasy\\nexperience of the author J.K. Rowling and her influence films and all received overwhelmingly positive critical\\nbrought by imagination should be presented in the first reception. The movie version of Harry Potter and the\\nstage. Philosopher’s Stone earned more than $970 million at\\nthe box office worldwide, becoming the highest grossing\\n1.1 The Magic Mother and the First Book in Harry\\nPotter Serious film of 2001 (Laura C,2015). It was nominated for many\\nawards including the Academy Award for Best Original\\nBorn In 1965, Joanne Kathleen Rowing, the British\\nScore, Best Art Direction and Best Costume Design.\\nauthor, went from being unemployed and living on state\\nbenefits to becoming a multi-millionaire in five years. 1.2 The Definition and the Development of Magic\\nHowever, as a teenager she lived in a Grade II listed Realism\\ncottage in Gloucestershire, which she states was “not a originated from Latin American countries, magic realism\\nparticularly happy time in my life”, due to her mother has been flourishing since last fifties which had a lasting\\nbeing diagnosed with Multiple Sclerosis and a strained and far-reaching influence on the world of literary circles.\\nrelationship with her father. Sharing the same birthday of Magic realism refers to the approach of reflecting\\nthe boy wizard Harry Potter, she wrote her initial Potter and describing reality with the assistance of magic and\\nideas on a napkin on a delayed train from Manchester imagination instead of only focusing on fantasy at the\\nto London in 1990. Fans may know that she typed her cost of losing its authenticity, the principle of which is to\\nfirst book, Harry Potter and the Philosopher’s Stone on concentrate on the reality by means of pouring the magical\\na typewriter, often choosing to write in Edinburgh cafés, elements into the works. In essence, magic realism is\\naccompanied by baby daughter Jessica, named after directly related to the reality. Corey L (2015) found out\\nJessica Mitford, a heroine of Rowling’s youth. After the that magic realism was a special expression of real life\\nposition of Head Girl at Wyedean School and College, by means of rich imagination and artistic exaggeration,\\nshe graduated from the University of Exeter with a BA in which turned reality into a magical reality which was\\nFrench and Classics, and then worked as a researcher for different from actual literal world, but magic was just a\\nAmnesty International. way to reflect reality which was the ultimate goal.\\nBut J.K. Rowling said she was “still in shock” over Concerning the origin of magic realism, the\\nthe response to her highly popular Harry Potter books. development of the magic realism could be speculated\\nRowling, the rags-to-riches British writer whose series from the perspective of the development of Latin\\non a schoolboy wizard has enthralled children across the American countries, the natural resources of which were\\nworld, did not have such smooth road before her first rich whereas the situation of economy and politic were\\nbook and she has tasted the bitter aspect of life like every rather in the backward state. (Meng Ji,2015) People\\nstruggling person who was nearly begging for earning were suffering from the invasion of other countries as\\na life. once she confessed in her speech delivered on well as the cruel dictatorship of their own country at the\\nthe graduation ceremony that one of the fringe benefits same time, forcing a lot of writers to escape to Europe\\nof failure was that she could stop pretending to herself or countries like America. It was in other countries that\\n115 Copyright © Canadian Academy of Oriental and Occidental CultureThe Analysis of Harry Potter and the Philosopher’s Stone From the\\nPerspective of Magic Realism\\nthey had the chance to get themselves involved in another and grotesque images and scenes. The adoption of magic\\nculture. Deeply impressed, those who realized that the realism in literature works presents a joint picture with a\\nimperialist aggression, the local dictatorship, the backward creative but practical, abstract but concrete style.\\nsystem and the chain of ignorance and superstition were\\n2.2 The Essence of Reality\\nhindering the development of Latin America decided\\nIn reference to the contents and essence of the magic\\nto arouse the spirit of people by using their pens. on\\nrealism works, it is a literary phenomenon in which\\nthe other hand, Latin America was full of magnificent\\nwriter uses this special approach of expression to expose\\nmyths and legends where there were splendid ancient\\nthe darkness of society and show the real life of society.\\nIndian culture, Maya, Aztec and so on. The European\\nHence, to some extent, the second characteristic of magic\\nand American colonists have brought in the collision of\\nrealism is the essence of reality.\\nadvanced scientific and technological tools contradict with\\nAs it is, most of the so-called magic realism work\\nthe traditional religious superstitious feudal life. These\\nholds a critical attitude to the reality, especially the\\ndifferent ideas existed harmoniously in Latin America,\\ncriticism of social system and class system. From the point\\nand profoundly affected the ideas and ways of writing of\\nof view of the social background, the social contradictions\\nnative writers, which coincided with the awakening of the\\nin the western capitalist society in the twentieth century\\nself-consciousness of Latin American writers.\\nare not as influential as the social antagonism in the\\nnineteenth century, so the criticism displayed by the magic\\n2. THE CHARACTERISTICS OF MAGIC\\nrealism exactly reveals the outstanding contradictions in\\nREALISM WORKS the modern society.\\nIn fact, most of the so-called realism is characterized\\nMagic realism works, warmly welcomed by numerous\\nby criticism, especially the criticism of social system and\\nreaders, teenagers in particular, are featured with two\\nclass system. Harry Potter and the Philosopher’s Stone as\\nmain characteristics which are the intersection of reality\\na magic realism work for young people, it is impossible to\\nand imagination as well as the essence of reality.\\ndeepen the criticism of the social system to the degree as\\n2.1 The Intersection of Reality and Imagination other classical literary works of the nineteenth century do.\\none of the most distinct features of magic realism works But it could still be observed that the theme of the novel is\\nis the intersection of imagination and literal world. The not designed for nothing, through which the writer convey\\nmagic realism shows a reality in Latin America that her attitude and value in the formative development of\\nis full of strange and unreal images, the distinction of the teenagers. So no matter how strange and different the\\nghost and human no longer existing in the worries of the wizarding word from liter word, the essence of the novel\\nwriters, because all the imaginary characters and ordinary is to reflect the reality.\\nnormal images are living with myth in the story. (Liang\\nShuang,2015) So in literary works, there are settings of 3. THE APPLICATION OF MAGIC\\nordinary people as well as the roles like demons, celestial\\nREALISM IN HARRY POTTER AND THE\\nbeings and so on, and amazing surreal phenomenons are\\nscattering everywhere in the works. And the characteristic PHILOSOPHER’S STONE\\nthat tells magic realism from traditional realism is the From the perspective of the characteristics of magic\\nadoption of imagination and magic. Deeply influenced realism, the novel could be analyzed from the intersection\\nby the Western modernism, magic realism has absorbed of imagination and reality, together with the essence of\\nthe features of symbolism, expressionism, surrealism reality reflected from the values in the novel.\\nand so on. Magic realism works would use images of\\nboth imagination and reality like different characters, 3.1 Reality and Imagination in the Setting of\\nCharacters and Scenes\\nsymbols to convey the theme of the writer. It seems that\\nThe whole story is unfolded and pushed by the fierce war\\nthe imaginary plot and descriptions are unreasonable\\nbetween Harry and Lord Voldemort, the figures of which\\nand strange, but as it is, they are prepared either for the\\nstill keep the shadow of human characters in literal life.\\nenhancement of the characteristics of the protagonist or\\nAlso, the scenes described in the novel are constructed\\nthe climax of the plot.\\nbased on the literal spots, which could be traced according\\nWriters of magic realism works show partiality of\\nto the unique culture and scenery in England as well as\\nputting reality into the abstract and illusory environment\\nhuman lives.\\nand background, combining with objective and detailed\\ndescription so as to dress the reality with grotesque 3.1.1 The Boy Who Lived\\nappearance. Magic realism works not only firmly convey one of the primary traits that differentiates Harry from\\nthe morals and principles of social aspects of lives, the more malevolent characters in the book, such as\\nbut also selectively make use of the modernist style of Voldemort and Draco Malfoy, was his humility which is\\nEurope and America, in which there are some magical also one of the most special characters in literal world.\\nCopyright © Canadian Academy of Oriental and Occidental Culture 116ZHoU Shuya (2020).\\nStudies in Literature and Language, 20(3), 114-120\\nDespite his reputation as the boy-who-lived and his create the Horcruxes, and it was what made him desire\\nskills in Quidditch, Harry maintained a modest persona the stone, otherwise known as the key component of the\\nthroughout the novel. If anything, the extra attention Elixir of Life, which allowed the drinker to live forever.\\nthat he received because of his background made him Immortality was seen, of course, as the means to conquer\\nuncomfortable and insecure; he felt that he could never be death, but Philosopher’s Stone questioned the idea of\\nextraordinary enough to be worthy of such an esteemed whether that was a triumph at all.\\nreputation. Harry’s humility was, in part, a direct result of outstanding as he was, Voldemort couldn’t\\nhis neglected childhood with the Dursleys. Due to the fact comprehend why love should be so important, which\\nthat he was never treated as someone who was special, became one of the crucial reasons why he could not kill\\nHarry grew up with the understanding that respect was not Harry; powerful as he was, he was betrayed by his so-\\nreadily given and must be achieved. When Dumbledore called fellows who were chasing after him only because of\\nleft Harry with the Dursleys, he knew that Harry would fear; talented as he was, he had no ideas about friendship,\\nbe mistreated. Yet, he also realized that, by growing up not to mention the truly horrifying pitfalls of teenage\\naway from the wizarding world that would put him on a life, relationship problems, jealousy and school exams.\\npedestal, he ensured that Harry would grow up without The shadow of selfish, indifferent, isolated character of\\nbeing spoiled by pride and arrogance. human instinct has all reflected in the figure of Voldemort\\nHarry’s humility became particularly significant as to some extent. It is true that Harry is the perfect example\\na theme of the book when he faced Voldemort in the that teenagers should learn from, so it is true that the\\ndungeons of Hogwarts. Neither Voldemort nor Professor character of Voldemort is the dark side of the humanity\\nQuirrell was able to retrieve the stone from the Mirror of which people should despise and look down upon on.\\nErised because they were both thinking of ways that the The unforgettable scenes in Harry Potter and the\\nstone would benefit themselves. Harry, on the other hand, Philosopher’s Stone mainly consist of the wizarding bank,\\nthought only of retrieving the stone in order to save other the railway station and the school where young Harry\\npeople from Voldemort’s tyranny: with his humble nature, was extremely shocked and amazed at when thousands\\nit would never occur to him to use the Sorcerer’s Stone for and millions of readers are fascinated at the same time.\\nhis own selfish purposes. The figure of Harry is featured observed carefully, it could be found that those spots are\\nwith truth, kindness and beauty which becomes one of the transformed by the ones in literal life.\\nfactors leading to the success of Harry Potter serious.\\n3.1.3 The Gringotts\\nHarry’s friendship with Ron and Hermione was\\nalso significant in the way that it further distinguished Enter, stranger, but take heed\\nof what awaits the sin of greed\\nHarry from Voldemort. Although Voldemort was far\\nFor those who take, but do not earn\\nmore powerful than Harry, he preferred to be isolated\\nMust pay most dearly in their turn\\nand independent from those around him. Even Professor So if you seek beneath our floors\\nQuirrell, who drunk unicorn blood for him, was nothing A treasure that was never yours\\nmore than a servant to Voldemort. Voldemort lacked the Thief, you have been warned, beware\\nof finding more than treasure there. (Harry Potter and the\\nability to form lasting friendships, so he was always alone\\nPhilosopher’s Stone,56-57)\\nand has only himself to rely on. Harry, on the other hand,\\nwas able to rely on himself while still drawing upon the This was the poem craved on the second door of\\nsupport system and exceptional magical talents of his Gringotts, the bank of wizard. And Harry’s first visit to\\nclose friends. Gringotts occurred in the first book, where he met some of\\nhis first fantastic beings, the proprietors of the wizarding\\n3.1.2 The Dark Lord\\nbank.\\nLike every coin has two sides in life, the portrayal of\\nAs the proverb goes well, money makes the mare go.\\ncharacters in one story must contain the good one and the\\nThe finance support of the protagonist is of great necessity\\nevil one. Tom Riddle, whose name was later transformed\\nwhich enable Harry to buy himself a wand, suitable cloths\\ninto Voldemort by himself was the leading enemy of\\nand books required by school under the circumstance\\nHarry when in the most of the time people in wizarding\\nwhere both of his parents died. And Gringotts, the wizard\\nworld dared not to mention his name and replaced it with\\nbank, was the perfect arrangement for this purpose.\\nthe “ Dark Lord”. And he was the most powerful evil\\nAnd the scene of the poem craved on the door actually\\nwizard who became disembodied when he tried to kill\\nreflected the moral of literal world which was implicitly\\nbaby Harry.\\nconveyed by Rowing. The rule of staying away with the\\nLord Voldemort was equal to many things, evil,\\ntreasure of others also applied with the wizard world.\\npowerful, terrifying, but by contrast, he was scared of\\nCompared with contemporary banks in reality, it\\ndeath. This existential terror, as well as a pursuit of\\ncould be speculated that they shared many similarities\\npower, was what drove Voldemort throughout the series.\\nwhen differences also existed in terms of scope of\\nJust like the lust human chasing for fame and money\\nbusiness, the degree of security and the classification\\nat the cost of life and sincerity. It was what made him\\n117 Copyright © Canadian Academy of Oriental and Occidental CultureThe Analysis of Harry Potter and the Philosopher’s Stone From the\\nPerspective of Magic Realism\\nof the customers. Compared to the modern commercial been designed as a centrepiece and the “ beating heart”\\nbanking business, Gringotts bank business was rather of the project. When the station opened to the public\\nmonotonous which was the one of the branches of the on 19 March 2012, King’s Cross would become a new,\\ncontemporary ones. It was not difficult to find out from iconic architectural gateway to the city, ready for the 2012\\nthe novel that the main business of the it was to provide London olympics.\\nthe treasury for the storage of money or important items And the tricky thing was that Rowing didn’t replace\\nwithout any interest income, only to charge a certain the station with another name, which in return, enhanced\\nfee for the use of the treasury, which was the equivalent the authenticity of the story. The Hogwarts Express\\nof the concept of the rental of the safe. In addition to departed from Platform 9¾ at King’s Cross Station, which\\nstrengthening the construction of hardware facilities in the was in the arched wall between platforms 4 and 5. If\\nmodern commercial banks in twenty-first century, with that seemed short on magic, headed towards the real-life\\nthe promotion of e-banking business, the construction entrance to platforms 9, 10 and 11 on the west side of the\\nof network security can not be ignored. The Gringotts station. There people would find a trolley disappearing\\nbank also had very strong security system, which was the into the magical realm through a wall with the sign:\\nsecond safest bank in the world in addition to Hogwarts. Platform 9¾.\\nSimilar to the banks in literal world, in the Harry Potter 3.1.5 Hogwarts\\nseries, the clientele of the bank could be roughly divided Hogwarts, the real home of Harry, was a fictional British\\ninto ordinary customers, VIP customers and VVIP school of magic for students aged eleven to eighteen\\ncustomers according to the strength of the vault secrecy. where there were many interesting rules, flying ghosts,\\nTake VVIP for example. VVIP not only had strict identity inviting forbidden books, devious corered ways and so\\nauthentication measures, but also had a dragon to guard on. According to Professor Binns, Godric, Helga, Salazar\\nthe door. There were also anti-thief waterfalls, as well as and Rowena built this castle together, far from prying\\nthe fire curse and replication curse, absolutely stubborn Muggle eyes. For the most part, the four worked on\\nanti-theft measures. creating Hogwarts in harmony, but it wasn’t long before\\n3.1.4 The King’s Cross Salazar Slytherin’s troubling views on the wizarding\\none of the most significant scene in Harry Potter and world caused an almighty rift. It was in Hogwarts that\\nthe Philosopher’s Stone that related the magical world numerous adventures and event could happen, and to\\nand literal world was the King’s Cross, a railway station some extent, the scene of Hogwarts was the second home\\nblocked by a wall that could only be went through by for the readers where they felt the warmth and love from\\nwizards. the friendship of the triplets, the teaching and caring from\\nAfter Rubeus Hagrid handed Harry his ticket for the professors as well as the happiness and contradict from\\nHogwarts Express, Harry was left to get to the platform fellow classmates. Hogwarts had a long history of ancient\\nnine and three-quarters by himself. Though he found magic, and Albus Dumbledore admitted that not even he\\nplatforms nine and ten, he was baffled at what to do next. knew all of its secrets. Indeed, much about the design and\\nFortunately, the wizarding Weasley family arrived and construction of Hogwarts remained a mystery. The tenth\\nshowed Harry how to go through a brick wall to get onto century was a dangerous time for witches and wizards,\\na hidden platform. Throughout the films, going through who were being persecuted by Muggles hostile to magic.\\nthe wall to the platform was achieved digitally. However, Therefore, Hogwarts was built somewhere in the Scottish\\nas Philosopher’s Stone director Chris Columbus preferred Highlands, and concealed with numerous charms and\\nto use practical effects when possible, he did have a brick- spells to make it impossible for Muggles to trespass. For\\nwalled passageway constructed in the studio for Daniel instead of an enormous school, any passing Muggle would\\nRadcliffe (Harry) to run through for the first time. The only saw ruins and signs warning them of danger.\\nKing’s Cross location was filmed on a Sunday, when the Leaving alone the charming history of Hogwarts,\\nstation would be least crowded. And it was uncrowded, it could be found that it has similar pattern of ordinary\\nthat is, until weekend passengers noticed the shoot. school in literal world which was featured with basic\\nActually, the sympathetic redevelopment of King’s communal facilities like bright classrooms, dormitories,\\nCross station in the city of London was turning an library and so on. Most importantly, students here were\\nunloved, historic rail terminus into a dynamic transport learning the knowledge of the textbooks from teachers\\nhub and a destination in its own right. With this multi- when they were free to participate in the after-class\\nphased development now completed, the significance activities like Quidditch match. And frankly speaking,\\nof the King’s Cross Station redevelopment was finally the main difference lay in the fact that the contents of the\\nrevealed. The transformation of King’s Cross Station knowledge were everything but the same. Students in\\nfor Network Rail involved three very different styles of reality are busy in improving the grade of varied subjects\\narchitecture: re-use, restoration and new build. The train whereas the ones in Hogwarts are focusing on their ability\\nshed and ranged buildings have been adapted and re-used, of making use of the magic and numerous spells. on the\\nand a new, highly expressive Western Concourse had whole, the shadow of literal school pattern still can be\\nCopyright © Canadian Academy of Oriental and Occidental Culture 118ZHoU Shuya (2020).\\nStudies in Literature and Language, 20(3), 114-120\\nobserved in the developing scene of Hogwarts. standing up when you’re scared is what makes you brave.\\nNeville’s was a quiet, quivering kind of courage, but when\\n3.2 The Essence of Reality in the Transmission\\nDumbledore recognized him at the end-of-year feast, it\\nof Value\\nshowed that rebellion comes in many forms.\\nThe second characteristic of magic realism would serve\\n3.2.2 The attitude towards desire\\nthe purpose of interpreting the transmission of value\\nDeath haunts this book from the very first chapter, in\\nin the novel. It’s been 21 years since Harry Potter and\\nwhich people learn that something tragic has happened\\nthe Philosopher’s Stone was published, but the staff\\nto a baby boy’s parents. Just like Harry himself, we don’t\\nand students of Hogwarts under the pen of Rowing still\\nknow it at the time, but these deaths will set the stage for\\npossessed sparking characters and precious life lesson\\nthe entire series, and will shape Harry’s life forever. Harry\\ntrying to convey to the readers and fans. The spirit of\\nhad always known the loss of his parents, but he never\\nrebellion, right attitude towards desire and the faith in love\\ntruly began to feel it until he turned 11. For beyond being\\nof literal life all reflect in the book of Philosopher’s Stone.\\nthe age that he found out that he was a wizard; it was also\\nIn other words, the roots and foundation of the novel are\\nthe age he learned the true fate of his parents, Lily and\\nto convey the values in literal world.\\nJames. Contrary to what he had been told, it wasn’t a car\\n3.2.1 The Importance of Rebellion\\naccident: they were murdered. It was not until he went\\nover the course of Harry Potter and the Philosopher’s\\nto the magic school that he has got to know the Mirror\\nStone, Harry, Ron, and Hermione broke many school rules\\nof Erise. This new information allowed Harry to process\\nin pursuing their adventures. Harry, in particular, was always\\ntheir loss in a whole new way. He saw his parents in the\\nwilling to break a Hogwarts rule if it meant taking action\\nMirror of Erised, which showed the most desperate desire\\nor doing something that he believed was right. Although\\nof a person’s heart; or rather, Harry did. While others,\\nRowling did admit that the rules imposed at Hogwarts were\\nsuch as Ron, saw themselves achieving greatness, Harry\\nmeant to keep the students safe, she also presented Harry’s\\nsaw the life he never had: him and his parents, living\\ndisregard for these rules as a heroic quality of his character.\\nhappily together.\\nHe was able to think for himself and, depending on the\\nSimilar to the reality, the magic world also has many\\nsituation, making judgment calls that have the potential to\\ntemptations like the lust of enduring life, money, power\\nsave lives. Moreover, Harry was perfectly willing to accept\\nand so on. And this arrangement of scene is eloquent\\nthe consequences for his rebellion, just as long as he was\\nenough on the one hand to illustrate Harry’s love and\\nable to take action when he can.\\nlonging for seeing his parents even for once; but also, on\\nIn literal life, concepts like critical thinking, free\\nthe other hand, reflects the merciless and strict rule of\\nchasing are appealing people to break the so-called human nature that death can not be reversed which the\\nrules so as to think outside of the box which could be author is attempting to tell in a tactful way. For that’s the\\nperceived as a way of rebellion. But it is significant to thing about death and grief: people grieve not only for the\\nnote that Harry never breaks the rules simply for the sake loss of the person, but the theft of their future, of what\\nof breaking them: he breaks rules only when he truly could have been; of stolen moments, stolen potential. In\\nbelieves that his actions are necessary. His selfless and Harry Potter, there is always a penalty for cheating the\\ncompassionate nature (contrasting sharply with that of inevitable. Like people go crazy in front of the Mirror of\\nLord Voldemort) is also highlighted in his reasons for Erise chasing for something that is beyond imagination,\\nbreaking the rules. For example, one of the first rules people in reality would finally learn their lessons at the\\nthat Harry breaks is during the flying lesson with Madam expense of youth, time and so on.\\nHooch when Harry flies after Malfoy in order to retrieve one can waste away thinking of what may have been,\\nNeville’s Remembrall. Harry does not disobey Madam but as Albus Dumbledore himself said: “It does not do to\\nHooch’s direct orders in order to show off; he breaks the dwell on dreams and forget to live.”\\nrules in order to retrieve the gift that Neville received\\n3.2.3 The Lethal Weapon of Love\\nfrom his grandmother.\\nHarry, Hermione and Ron encountered a series of\\nAnother impressive moment that reflects the spirit of\\nobstacles, each of which required unique skills possessed\\nrebellion is when Neville was trying to stop Harry, together\\nby one of the three, and one of which required Ron to\\nwith Hermione and Ron, from breaking the rules for the\\nsacrifice himself in a life-sized game of wizard’s chess.\\nsake of Gryffindor House. He was brave, though——the\\nIn the final room, Harry, now alone, found Quirinus\\nSorting Hat knew it from the start. At this time, Neville\\nQuirrell, the Defence Against the Dark Arts teacher, who\\nstarted to stand up for himself by defending for what he\\nhad been the one working behind the scenes to kill Harry\\nthought was right. Dumbledore knew it, too, awarding\\nby first cursing his broom and then letting a troll into the\\nNeville ten points for facing up to Harry, Ron and\\nschool. Professor Snape had been trying to protect Harry\\nHermione, and thus securing Gryffindor the House Cup.\\ninstead, who had wronged him. Now, Quirrell was partly\\nThe figure of Neville actually reflects the truth that being\\npossessed by Voldemort, whose face had sprouted on the\\nscared doesn’t mean people can’t be brave; on the contrary,\\nback of Quirrell’s head but was constantly concealed by\\n119 Copyright © Canadian Academy of Oriental and Occidental CultureThe Analysis of Harry Potter and the Philosopher’s Stone From the\\nPerspective of Magic Realism\\nhis oversized turban. Voldemort needed Harry’s help to Rowling, who had overall approval on the scripts and\\nget past the final obstacle: the Mirror of Erised, forcing was a producer on the final films in the series. And\\nhim to stand before the Mirror. It recognized Harry’s lack theoretically, it introduced the definition together with the\\nof greed for the Stone and surreptitiously deposited it into development of magic realism and the characteristics of\\nhis pocket. As Quirrell attempted to seize the stone and it. Then it discussed about the intersection of imagination\\nkill Harry, his flesh burned on contact with the boy’s skin, and reality in the portrayal of characters, the layout of the\\nand Quirrell burned alive. It was later that he got to know scene as well as the transmission of the spirit based on the\\nthe love of his mother had gave him such magic. characteristics of magic realism. Significant characters\\nLove, one of the most important themes that Rowling like the protagonist, Harry Potter was comprehensively\\ndiscusses in the book, plays a crucial role in Harry analyzed of his growing background, his characteristic,\\nPotter and the Philosopher’s Stone as well as all of the together with the arrangement of his destination. Crucial\\nremaining books in the series. Rowling demonstrated the scenes like the home-like magical school, Hogwarts would\\npower of love from the very beginning of the narrative also be represented as the objective to observe how does\\nby explaining that Harry’s ability to survive Voldemort’s the writer construct this intersection of both imagination\\nkilling curse was a direct result of his mother’s love. By and reality. Last but not least, the value reflected in the\\nsacrificing her own life to save that of her son, Lily Potter main storyline of this book of saving the Philosopher’s\\ngave Harry an magical form of protection that shielded Stone would be sorted out. Under the guidance of the\\nhim from Voldemort’s curse and nearly destroyed the dark theory of magic realism, this paper would be meaningful\\nwizard. As Professor Dumbledore asserted, Voldemort in understanding different images and the values writer\\nwas incapable of understanding love, particularly in intended to convey in the novel.\\ncomparison to the strength of his own dark power, and\\nso he was taken entirely by surprise when it came to REFERENCES\\nLily’s sacrifice. In literal world, there are also may people\\nCrysel, L. C., Cook, C. L., Schember, T. o., & Webster, G.\\nabandon the ability to love by showing no mercy to the\\nD. (2015). Harry Potter and the measures of personality:\\nstruggle and disaster of human being. Moreover, Harry’s\\nExtraverted Gryffindors, agreeable Hufflepuffs, clever\\nown ability to love and be loved were the key traits that\\nRavenclaws, and manipulative Slytherins. Personality and\\ndistinguished him from Voldemort and ensured that Harry\\nIndividual Differences, 83(10), 174-178.\\nwould never be seduced by the Dark Arts. Harry’s love for\\nDempster, S., oliver, A., Sunderland, J., & Thistlethwaite, J.\\nhis parents instilled him with an earnest determination to\\n(2016). What has Harry Potter Done for Me? Children’s\\ndefeat Voldemort and helped him fight against anything\\nReflections on their Potter Experience. Children’s Literature\\nassociated with the Dark Arts ( thus, Harry’s refusal to\\nin Education, 47(2), 268-269.\\nbe sorted into Slytherin House). Harry’s ability to love\\nEdwards, G. (1999). Addiction and the truth in magic realism.\\nalso providesd him with a support system of friends that\\nLancet, 3(13), 354.\\nVoldemort could never hope to match.\\nFriis, C. (2013). Abandoned Children in Literature: The orphans\\nin J.K. Rowling’s Harry Potter and the Philosopher’s Stone.\\nCONCLUSION\\nLanguages & Literatures, 68(3), 1-10.\\nNot a fan of the Harry Potter stories has not been Gong, W. F., & Zhang, J. (2011). The analysis on the reasons to\\nattracted by the magnificent scenes on the intensive the success of Harry Potter and the Philosopher’s Stone.\\nconflicts between the good wizards and the evil ones. As Journal of Chifeng University (Philosophy and Social\\na popular contemporary popular literature, Harry Porter Sciences Edition), 32(7), 173-175.\\ncreates a clear and sensible magic Utopia based on his Liang, S. (2015). Magic realism in beloved. Campus English,\\nbold imagination, meticulous setting and thick culture, 12(01), 254-255.\\nwhich makes people feel familiar through reading. The Liu, Y. Y., & Liu, H. Y. (2016). The image transformation of\\nmysterious flying broomstick and cars stimulate and magic realism novels in Britain and America. Cinematic\\nexpand our capability of imagination to the very extreme. Literature, 3(13), 115-117.\\nEveryone is crazy by the magic. Speculating the whole Meng, J. (2015). Exploring Chinese Experimental Literary\\nstory, evidence or say, the shadow of literal world would Translation: Translation of Latin American Magic Realism\\nbe observed in the characters, the different scenes as well into Modern Chinese. Fudan Journal of the Humanities and\\nas the spirit conveyed in the book. Social Sciences, 8(3), 357-358.\\nThis paper mainly discussed different images and Rodríguez, M. M. G. (2003). The problem of the translation\\nvalues in Harry Potter and the Philosopher’s Stone from of proper names in “Harry Potter” and “The Lord of the\\nthe perspective of magic realism. Apart from the general Rings”. Paleoceanography, 19(3), 131-132.\\nabstract, introduction, conclusion and reference, it first Rowing, J. K. (1997). Harry Potter and the Philosopher’s Stone.\\nintroduced the research objective, Harry Potter series in London: Bloomybury Publishing Plc, 1997.\\nterms of the reputation they enjoy and most importantly, Yang, X. L. (2002). on the “magic” expression of magic realism\\nthe outstanding British novelist and screenwriter, J. K. literature. Journal of Yuxi University, 7(01), 46-51.\\nCopyright © Canadian Academy of Oriental and Occidental Culture 120'"
            ],
            "application/vnd.google.colaboratory.intrinsic+json": {
              "type": "string"
            }
          },
          "metadata": {},
          "execution_count": 19
        }
      ]
    },
    {
      "cell_type": "markdown",
      "source": [
        "## **Extract Text from Scanned PDFs (OCR)**"
      ],
      "metadata": {
        "id": "UyWO2G6h5b8o"
      }
    },
    {
      "cell_type": "code",
      "source": [
        "!sudo apt-get install tesseract-ocr"
      ],
      "metadata": {
        "id": "_YKryHj2yWS-"
      },
      "execution_count": null,
      "outputs": []
    },
    {
      "cell_type": "code",
      "source": [
        "ragllm = \"/content/RAG_LLM.pdf\""
      ],
      "metadata": {
        "id": "P54cNyC7EPqq"
      },
      "execution_count": 20,
      "outputs": []
    },
    {
      "cell_type": "code",
      "source": [
        "from pdf2image import convert_from_path\n",
        "import pytesseract\n",
        "from PIL import Image\n",
        "\n",
        "def convert_pdf_to_images(pdf_path):\n",
        "    return convert_from_path(pdf_path)\n",
        "\n",
        "\n",
        "def extract_text_from_images(images):\n",
        "    text = \"\"\n",
        "    for image in images:\n",
        "        text += pytesseract.image_to_string(image)\n",
        "    return text\n",
        "\n",
        "def extract_text_from_scanned_pdf(pdf_path):\n",
        "  images = convert_pdf_to_images(pdf_path)\n",
        "  return extract_text_from_images(images)\n"
      ],
      "metadata": {
        "id": "98PtSUCZ5pgM"
      },
      "execution_count": 21,
      "outputs": []
    },
    {
      "cell_type": "code",
      "source": [
        "ragllm_text = extract_text_from_scanned_pdf(ragllm)"
      ],
      "metadata": {
        "id": "hwASgmfBFS3W"
      },
      "execution_count": 22,
      "outputs": []
    },
    {
      "cell_type": "code",
      "source": [
        "ragllm_text"
      ],
      "metadata": {
        "id": "z_XhnFnzLyeo",
        "outputId": "96a4afe3-c582-47be-cac9-c3874a6fd4e6",
        "colab": {
          "base_uri": "https://localhost:8080/",
          "height": 192
        }
      },
      "execution_count": 55,
      "outputs": [
        {
          "output_type": "execute_result",
          "data": {
            "text/plain": [
              "'2312.10997v5 [cs.CL] 27 Mar 2024\\n\\narXiv\\n\\nRetrieval-Augmented Generation for Large\\nLanguage Models: A Survey\\n\\nYunfan Gao*, Yun Xiong>, Xinyu Gao?, Kangxiang Jia, Jinliu Pan>, Yuxi Bi®, Yi Dai*, Jiawei Sun*, Meng\\nWang*, and Haofen Wang **\\n\\n*Shanghai Research Institute for Intelligent Autonomous Systems, Tongji University\\n>Shanghai Key Laboratory of Data Science, School of Computer Science, Fudan University\\n“College of Design and Innovation, Tongji University\\n\\nAbstract—Large Language Models (LLMs) showcase impres-\\nsive capabilities but encounter challenges like hallucination,\\noutdated knowledge, and non-transparent, untraceable reasoning\\nprocesses. Retrieval-Augmented Generation (RAG) has emerged\\nas a promising solution by incorporating knowledge from external\\ndatabases. This enhances the accuracy and credibility of the\\ngeneration, particularly for knowledge-intensive tasks, and allows\\nfor continuous knowledge updates and integration of domain-\\nspecific information. RAG synergistically merges LLMs’ intrin-\\nsic knowledge with the vast, dynamic repositories of external\\ndatabases. This comprehensive review paper offers a detailed\\nexamination of the progression of RAG paradigms, encompassing\\nthe Naive RAG, the Advanced RAG, and the Modular RAG.\\nIt meticulously scrutinizes the tripartite foundation of RAG\\nframeworks, which includes the retrieval, the generation and the\\naugmentation techniques. The paper highlights the state-of-the-\\nart technologies embedded in each of these critical components,\\nproviding a profound understanding of the advancements in RAG\\nsystems. Furthermore, this paper introduces up-to-date evalua-\\ntion framework and benchmark. At the end, this article delineates\\nthe challenges currently faced and points out prospective avenues\\nfor research and development\\n\\nIndex Terms—Large language model, retrieval-augmented gen-\\neration, natural language processing, information retrieval\\n\\nI. INTRODUCTION\\n\\nARGE language models (LLMs) have achieved remark-\\nable success, though they still face significant limitations,\\nespecially in domain-specific or knowledge-intensive task:\\nnotably producing “hallucinations” when handling queries\\nbeyond their training data or requiring current information. To\\novercome challenges, Retrieval-Augmented Generation (RAG)\\nenhances LLMs by retrieving relevant document chunks from\\nexternal knowledge base through semantic similarity calcu-\\nlation. By referencing external knowledge, RAG effectively\\nreduces the problem of generating factually incorrect content.\\nIts integration into LLMs has resulted in widespread adoption,\\nestablishing RAG as a key technology in advancing chatbots\\nand enhancing the suitability of LLMs for real-world applica-\\ntions.\\nRAG technology has rapidly developed in recent years, and\\nthe technology tree summarizing related research is shown\\n\\nCorresponding Author.Email\\n\\nResources are —_ available\\n\\n  \\n\\n \\n  \\n\\nin Figure |1] The development trajectory of RAG in the era\\nof large models exhibits several distinct stage characteristics.\\nInitially, RAG’s inception coincided with the rise of the\\nTransformer architecture, focusing on enhancing language\\nmodels by incorporating additional knowledge through Pre-\\nTraining Models (PTM). This early stage was characterized\\nby foundational work aimed at refining pre-training techniques\\n[5].The subsequent arrival of ChatGPT [6] marked a\\npivotal moment, with LLM demonstrating powerful in context\\nlearning (ICL) capabilities. RAG research shifted towards\\nproviding better information for LLMs to answer more com-\\nplex and knowledge-intensive tasks during the inference stage,\\nleading to rapid development in RAG studies. As research\\nprogressed, the enhancement of RAG was no longer limited\\nto the inference stage but began to incorporate more with LLM\\nfine-tuning techniques.\\n\\nThe burgeoning field of RAG has experienced swift growth,\\nyet it has not been accompanied by a systematic synthesis that\\ncould clarify its broader trajectory. This survey endeavors to\\nfill this gap by mapping out the RAG process and charting\\nits evolution and anticipated future paths, with a focus on the\\nintegration of RAG within LLMs. This paper considers both\\ntechnical paradigms and research methods, summarizing three\\nmain research paradigms from over 100 RAG studies, and\\nanalyzing key technologies in the core stages of “Retrieval,”\\n“Generation,” and “Augmentation.” On the other hand, current\\nresearch tends to focus more on methods, lacking analysis and\\nsummarization of how to evaluate RAG. This paper compre-\\nhensively reviews the downstream tasks, datasets, benchmarks,\\nand evaluation methods applicable to RAG. Overall, this\\npaper sets out to meticulously compile and categorize the\\nfoundational technical concepts, historical progression, and\\nthe spectrum of RAG methodologies and applications that\\nhave emerged post-LLMs. It is designed to equip readers and\\nprofessionals with a detailed and structured understanding of\\nboth large models and RAG. It aims to illuminate the evolution\\nof retrieval augmentation techniques, assess the strengths and\\nweaknesses of various approaches in their respective contexts,\\nand speculate on upcoming trends and innovations.\\n\\nOur contributions are as follows:\\n\\ne In this survey, we present a thorough and systematic\\n\\nreview of the state-of-the-art RAG methods, delineating\\nits evolution through paradigms including naive RAG,\\n\\n \\n\\x0cFine-tuning\\n\\n2023\\n\\nRetrieval—Augmented Generation\\n\\nPre-training\\n\\nInference\\n\\n    \\n   \\n     \\n\\nRADA,\\n\\nEicee\\n\\nFig. 1. Technology tree of RAG research. The stages of involving RAG mainly include pre-training, fine-tuning, and inference. With the emergence of LLMs,\\nresearch on RAG initially focused on leveraging the powerful in context learning abilities of LLMs, primarily concentrating on the inference stage. Subsequent\\nresearch has delved deeper, gradually integrating more with the fine-tuning of LLMs. Researchers have also been exploring ways to enhance language models\\n\\nin the pre-training stage through retrieval-augmented techniques.\\n\\nadvanced RAG, and modular RAG. This review contex-\\ntualizes the broader scope of RAG research within the\\nlandscape of LLMs.\\n\\n« We identify and discuss the central technologies integral\\nto the RAG process, specifically focusing on the aspects\\nof “Retrieval”, “Generation” and “Augmentation”, and\\ndelve into their synergies, elucidating how these com-\\nponents intricately collaborate to form a cohesive and\\neffective RAG framework.\\n\\ne We have summarized the current assessment methods of\\nRAG, covering 26 tasks, nearly 50 datasets, outlining\\nthe evaluation objectives and metrics, as well as the\\ncurrent evaluation benchmarks and tools. Additionally,\\nwe anticipate future directions for RAG, emphasizing\\npotential enhancements to tackle current challenges.\\n\\nThe paper unfolds as follows: Section [I] introduces the\\nmain concept and current paradigms of RAG. The following\\nthree sections explore core components—‘Retrieval”, “Gen-\\n\\n \\n\\non RAG’s downstream tasks and evaluation system. Sec-\\n\\ntion mainly discusses the challenges that RAG currently\\n\\n \\n\\nfaces and its future development directions. At last, the paper\\nconcludes in Section [V\\n\\n \\n\\nIl. OVERVIEW OF RAG\\n\\nA typical application of RAG is illustrated in Figure\\nHere, a user poses a question to ChatGPT about a recent,\\nwidely discussed news. Given ChatGPT’s reliance on pre-\\ntraining data, it initially lacks the capacity to provide up-\\ndates on recent developments. RAG bridges this information\\ngap by sourcing and incorporating knowledge from external\\ndatabases. In this case, it gathers relevant news articles related\\nto the user’s query. These articles, combined with the original\\nquestion, form a comprehensive prompt that empowers LLMs\\nto generate a well-informed answer.\\n\\nThe RAG research paradigm is continuously evolving, and\\nwe categorize it into three stages: Naive RAG, Advanced\\nRAG, and Modular RAG, as showed in Figure B} Despite\\nRAG method are cost-effective and surpass the performance\\nof the native LLM, they also exhibit several limitations.\\nThe development of Advanced RAG and Modular RAG is\\na response to these specific shortcomings in Naive RAG.\\n\\nA. Naive RAG\\n\\nThe Naive RAG research paradigm represents the earli-\\nest methodology, which gained prominence shortly after the\\n\\x0cOutput\\n\\n   \\n \\n \\n\\nam unable to\\nfuture events.\\nany inform: ae LLM\\n\\n \\n\\nQuestion\\n\\n \\n\\n(CY wit RAG == === ===\\n\\n| .aThis suggests significant internal |\\n‘| disagreements within Opendl regarding:\\n1 |the company\\'s future direction and\\n\\nOpendls CEO,\\n\\n  \\n \\n\\n| and rehiring\\n\\n1 \\'strategic decisions. All of these twists + cnet\\n\\' Vand turns reflect power struggles and: ! Chunk 3:\\n\\n\\' | corporate governance issues within\\n+ !Opendl\\n\\n  \\n  \\n\\n  \\n\\n \\n\\nHow do you evaluate the fact\\nthat Opendl\\'s CEO, Sam Altman,\\nwent through a sudden dismissal\\nby the board in just three days,\\nand then was rehired by the\\ncompany, resembling a real-life\\nversion of \"Game of Thrones\" in\\nterms of power dynamics?\\n\\n| How do you evaluate the fact that the |\\n} .. dynamics? {\\n! Please answer the above questions +\\n| based on the following information: |\\n\\nCombine Context\\nand Prompts\\n\\nIndexing\\n\\n  \\n  \\n\\nChunk 1: \"Sam Altman Returns to \\'\\nOpenAl as CEO, Silicon Valley Drama!\\nResembles the \\'Zhen Huan’ Comedy\" |\\nChunk 2: \"The Drama Concludes? Sam |\\nAltman to Return as CEO of Opendl, |\\nBoard to Undergo Restructuring}\\n\\nOpendl Comes to an End: Who Won\\n\\nChunk 3: \"The Personnel Turmoil at!\\nand Who Lost?’ 7\\n\\nFig. 2. A representative instance of the RAG process applied to question answering. It mainly consists of 3 steps. 1) Indexing. Documents are split into chunks,\\nencoded into vectors, and stored in a vector database. 2) Retrieval. Retrieve the Top k chunks most relevant to the question based on semantic similarity. 3)\\nGeneration. Input the original question and the retrieved chunks together into LLM to generate the final answer.\\n\\nwidespread adoption of ChatGPT. The Naive RAG follows\\na traditional process that includes indexing, retrieval, and\\ngeneration, which is also characterized as a “Retrieve-Read”\\nframework [7].\\nIndexing starts with the cleaning and extraction of raw data\\nin diverse formats like PDF, HTML, Word, and Markdown,\\nwhich is then converted into a uniform plain text format. To\\naccommodate the context limitations of language models, text\\nis segmented into smaller, digestible chunks. Chunks are then\\nencoded into vector representations using an embedding model\\nand stored in vector database. This step is crucial for enabling\\nefficient similarity searches in the subsequent retrieval phase.\\nRetrieval. Upon receipt of a user query, the RAG system\\nemploys the same encoding model utilized during the indexing\\nphase to transform the query into a vector representation.\\nIt then computes the similarity scores between the query\\nvector and the vector of chunks within the indexed corpus.\\nThe system prioritizes and retrieves the top K chunks that\\ndemonstrate the greatest similarity to the query. These chunks\\nare subsequently used as the expanded context in prompt.\\nGeneration. The posed query and selected documents are\\nsynthesized into a coherent prompt to which a large language\\nmodel is tasked with formulating a response. The model’s\\napproach to answering may vary depending on task-specific\\ncriteria, allowing it to either draw upon its inherent parametric\\nknowledge or restrict its responses to the information con-\\ntained within the provided documents. In cases of ongoing\\ndialogues, any existing conversational history can be integrated\\ninto the prompt, enabling the model to engage in multi-turn\\ndialogue interactions effectively.\\nHowever, Naive RAG encounters notable drawbacks:\\n\\n \\n\\nRetrieval Challenges. The retrieval phase often struggles\\nwith precision and recall, leading to the selection of misaligned\\nor irrelevant chunks, and the missing of crucial information.\\n\\nGeneration Difficulties. In generating responses, the model\\nmay face the issue of hallucination, where it produces con-\\ntent not supported by the retrieved context. This phase can\\nalso suffer from irrelevance, toxicity, or bias in the outputs,\\ndetracting from the quality and reliability of the responses.\\n\\nAugmentation Hurdles. Integrating retrieved information\\nwith the different task can be challenging, sometimes resulting\\nin disjointed or incoherent outputs. The process may also\\nencounter redundancy when similar information is retrieved\\nfrom multiple sources, leading to repetitive responses. Deter-\\nmining the significance and relevance of various passages and\\nensuring stylistic and tonal consistency add further complexity.\\nFacing complex issues, a single retrieval based on the original\\nquery may not suffice to acquire adequate context information.\\n\\nMoreover, there’s a concern that generation models might\\noverly rely on augmented information, leading to outputs that\\nsimply echo retrieved content without adding insightful or\\nsynthesized information.\\n\\nB. Advanced RAG\\n\\nAdvanced RAG introduces specific improvements to over-\\ncome the limitations of Naive RAG. Focusing on enhancing re-\\ntrieval quality, it employs pre-retrieval and post-retrieval strate-\\ngies. To tackle the indexing issues, Advanced RAG refines\\nits indexing techniques through the use of a sliding window\\napproach, fine-grained segmentation, and the incorporation of\\nmetadata. Additionally, it incorporates several optimization\\nmethods to streamline the retrieval process (8).\\n\\x0c \\n\\n \\n\\n \\n\\n \\n\\n \\n\\n \\n\\n \\n\\n \\n\\n \\n\\n \\n\\n \\n\\n \\n\\n \\n\\n \\n\\n \\n\\n \\n\\n \\n\\n \\n\\n \\n\\n \\n\\n \\n\\n     \\n \\n\\nModules\\n= yy S = 5S\\nA RICE A kA||e@bs - ~\\nUser Query Documents User Query Documents Routing Predict\\nr r\\n| J | \\' w--{ Retrieve )--~,\\n\\' ri \\\\ \\'\\nPre-Retrieval ql h i i\\n, * aay Pong - i \\'\\nIndexing ceey cones Indexing ! RAG !\\n“+ Query Expansion 1 !\\n\\' \\'\\n\\' ‘ \\'\\n{ 5 \\'\\nPost-Retrieval\\nxX tlle\\nRerank — Summery sion\\nPrompt Frozen LLM\\nPrompt Frozen LLM\\nOutput Output NalveRAG AdvancedRAG — wnettebsta.cme) (Staves SE]\\nNaive RAG Advanced RAG Modular RAG\\n\\nFig. 3. Comparison between the three paradigms of RAG. (Left) Naive RAG mainly consists of three parts: indexing, retrieval and generation. (Middle)\\nAdvanced RAG proposes multiple optimization strategies around pre-retrieval and post-retrieval, with a process similar to the Naive RAG, still following a\\nchain-like structure. (Right) Modular RAG inherits and develops from the previous paradigm, showcasing greater flexibility overall. This is evident in the\\nintroduction of multiple specific functional modules and the replacement of existing modules. The overall process is not limited to sequential retrieval and\\n\\ngeneration; it includes methods such as iterative and adaptive retrieval.\\n\\nPre-retrieval process. In this stage, the primary focus is\\non optimizing the indexing structure and the original query.\\nThe goal of optimizing indexing is to enhance the quality of\\nthe content being indexed. This involves strategies: enhancing\\ndata granularity, optimizing index structures, adding metadata,\\nalignment optimization, and mixed retrieval. While the goal\\nof query optimization is to make the user’s original question\\nclearer and more suitable for the retrieval task. Common\\nmethods include query rewriting query transformation, query\\nexpansion and other techniques [7], [9]\\n\\n \\n\\nPost-Retrieval Process. Once relevant context is retrieved,\\nit’s crucial to integrate it effectively with the query. The main\\nmethods in post-retrieval process include rerank chunks and\\ncontext compressing. Re-ranking the retrieved information to\\nrelocate the most relevant content to the edges of the prompt is\\na key strategy. This concept has been implemented in frame-\\nworks such as Llamalndex?] LangChaitf and HayStack [12].\\nFeeding all relevant documents directly into LLMs can lead\\nto information overload, diluting the focus on key details with\\nirrelevant content.To mitigate this, post-retrieval efforts con-\\ncentrate on selecting the essential information, emphasizing\\ncritical sections, and shortening the context to be processed.\\n\\n \\n\\n \\n\\nC. Modular RAG\\n\\nThe modular RAG architecture advances beyond the for-\\nmer two RAG paradigms, offering enhanced adaptability and\\nversatility. It incorporates diverse strategies for improving its\\ncomponents, such as adding a search module for similarity\\nsearches and refining the retriever through fine-tuning. Inno-\\nvations like restructured RAG modules and rearranged\\nRAG pipelines (14) have been introduced to tackle specific\\nchallenges. The shift towards a modular RAG approach is\\nbecoming prevalent, supporting both sequential processing and\\nintegrated end-to-end training across its components. Despite\\nits distinctiveness, Modular RAG builds upon the foundational\\nprinciples of Advanced and Naive RAG, illustrating a progres-\\nsion and refinement within the RAG family.\\n\\n1) New Modules: The Modular RAG framework introduces\\nadditional specialized components to enhance retrieval and\\nprocessing capabilities. The Search module adapts to spe-\\ncific scenarios, enabling direct searches across various data\\nsources like search engines, databases, and knowledge graphs,\\nusing LLM-generated code and query languages\\nFusion addresses traditional search limitations by employing\\na multi-query strategy that expands user queries into diverse\\nperspectives, utilizing parallel vector searches and intelligent\\nre-ranking to uncover both explicit and transformative knowl-\\nedge [16]. The Memory module leverages the LLM’s memory\\nto guide retrieval, creating an unbounded memory pool that\\n\\n \\n\\x0caligns the text more closely with data distribution through iter-\\native self-enhancement [17], [18]. Routing in the RAG system\\nnavigates through diverse data sources, selecting the optimal\\npathway for a query, whether it involves summarization,\\nspecific database searches, or merging different information\\nstreams (19). The Predict module aims to reduce redundancy\\nand noise by generating context directly through the LLM,\\nensuring relevance and accuracy [13]. Lastly, the Task Adapter\\nmodule tailors RAG to various downstream tasks, automating\\nprompt retrieval for zero-shot inputs and creating task-specific\\nretrievers through few-shot query generation [2\\' -This\\ncomprehensive approach not only streamlines the retrieval pro-\\ncess but also significantly improves the quality and relevance\\nof the information retrieved, catering to a wide array of tasks\\nand queries with enhanced precision and flexibility.\\n\\n2) New Patterns: Modular RAG offers remarkable adapt-\\nability by allowing module substitution or reconfiguration\\nto address specific challenges. This goes beyond the fixed\\nstructures of Naive and Advanced RAG, characterized by a\\nsimple “Retrieve” and “Read” mechanism. Moreover, Modular\\nRAG expands this flexibility by integrating new modules or\\nadjusting interaction flow among existing ones, enhancing its\\napplicability across different tasks.\\n\\nInnovations such as the Rewrite-Retrieve-Read [7model\\nleverage the LLM’s capabilities to refine retrieval queries\\nthrough a rewriting module and a LM-feedback mechanism\\nto update rewriting model., improving task performance.\\nSimilarly, approaches like Generate-Read (13) replace tradi-\\ntional retrieval with LLM-generated content, while Recite-\\nRead emphasizes retrieval from model weights, enhanc-\\ning the model’s ability to handle knowledge-intensive tasks.\\nHybrid retrieval strategies integrate keyword, semantic, and\\nvector searches to cater to diverse queries. Additionally, em-\\nploying sub-queries and hypothetical document embeddings\\n(HyDE) seeks to improve retrieval relevance by focusing\\non embedding similarities between generated answers and real\\ndocuments.\\n\\nAdjustments in module arrangement and interaction, such\\nas the Demonstrate-Search-Predict (DSP) framework\\nand the iterative Retrieve-Read-Retrieve-Read flow of ITER-\\nRETGEN ], showcase the dynamic use of module out-\\nputs to bolster another module’s functionality, illustrating a\\nsophisticated understanding of enhancing module synergy.\\nThe flexible orchestration of Modular RAG Flow showcases\\nthe benefits of adaptive retrieval through techniques such as\\nFLARE [24] and Self-RAG [25]. This approach transcends\\nthe fixed RAG retrieval process by evaluating the necessity\\nof retrieval based on different scenarios. Another benefit of\\na flexible architecture is that the RAG system can more\\neasily integrate with other technologies (such as fine-tuning\\nor reinforcement learning) (26). For example, this can involve\\nfine-tuning the retriever for better retrieval results, fine-tuning\\nthe generator for more personalized outputs, or engaging in\\ncollaborative fine-tuning (27).\\n\\n \\n\\n \\n\\n \\n\\nD. RAG vs Fine-tuning\\n\\nThe augmentation of LLMs has attracted considerable atten-\\ntion due to their growing prevalence. Among the optimization\\n\\nmethods for LLMs, RAG is often compared with Fine-tuning\\n(FT) and prompt engineering. Each method has distinct charac-\\nteristics as illustrated in Figure [4] We used a quadrant chart to\\nillustrate the differences among three methods in two dimen-\\nsions: external knowledge requirements and model adaption\\nrequirements. Prompt engineering leverages a model’s inherent\\ncapabilities with minimum necessity for external knowledge\\nand model adaption. RAG can be likened to providing a model\\nwith a tailored textbook for information retrieval, ideal for pre-\\ncise information retrieval tasks. In contrast, FT is comparable\\nto a student internalizing knowledge over time, suitable for\\nscenarios requiring replication of specific structures, styles, or\\nformats.\\n\\nRAG excels in dynamic environments by offering real-\\ntime knowledge updates and effective utilization of external\\nknowledge sources with high interpretability. However, it\\ncomes with higher latency and ethical considerations regarding\\ndata retrieval. On the other hand, FT is more static, requiring\\nretraining for updates but enabling deep customization of the\\nmodel’s behavior and style. It demands significant compu-\\ntational resources for dataset preparation and training, and\\nwhile it can reduce hallucinations, it may face challenges with\\nunfamiliar data.\\n\\nIn multiple evaluations of their performance on various\\nknowledge-intensive tasks across different topics, re-\\nvealed that while unsupervised fine-tuning shows some im-\\nprovement, RAG consistently outperforms it, for both exist-\\ning knowledge encountered during training and entirely new\\nknowledge. Additionally, it was found that LLMs struggle\\nto learn new factual information through unsupervised fine-\\ntuning. The choice between RAG and FT depends on the\\nspecific needs for data dynamics, customization, and com-\\nputational capabilities in the application context. RAG and\\nFT are not mutually exclusive and can complement each\\nother, enhancing a model’s capabilities at different levels.\\nIn some instances, their combined use may lead to optimal\\nperformance. The optimization process involving RAG and FT\\nmay require multiple iterations to achieve satisfactory results.\\n\\nIII. RETRIEVAL\\n\\nIn the context of RAG, it is crucial to efficiently retrieve\\nrelevant documents from the data source. There are several\\nkey issues involved, such as the retrieval source, retrieval\\ngranularity, pre-processing of the retrieval, and selection of\\nthe corresponding embedding model.\\n\\nA. Retrieval Source\\n\\nRAG relies on external knowledge to enhance LLMs, while\\nthe type of retrieval source and the granularity of retrieval\\nunits both affect the final generation results.\\n\\n1) Data Structure: Initially, text is s the mainstream source\\nof retrieval. Subsequently, the retrieval source expanded to in-\\nclude semi-structured data (PDF) and structured data (Knowl-\\nedge Graph, KG) for enhancement. In addition to retrieving\\nfrom original external sources, there is also a growing trend in\\nrecent researches towards utilizing content generated by LLMs\\nthemselves for retrieval and enhancement purposes.\\n\\x0cTABLE I\\nSUMMARY OF RAG METHODS\\n\\n \\n\\n \\n\\n    \\n\\n    \\n   \\n   \\n  \\n \\n\\n  \\n\\n \\n\\nMethod Retrieval Source Retrieval Retrieval Augmentation Retrieval\\nData Type Granularity Stage process\\nCoG Wikipedia Text Phrase Pre-training Iterative\\nDenseX [31 FactoidWiki Text Proposition Inference Once\\nEAR Dataset-base Text Sentence Tuning Once\\nUPRIS Dataset-base Text Sentence Tuning Once\\nRAST Dataset-base Text Sentence Tuning Once\\nSelf-Mem Dataset-base Text Sentence Tuning Iterative\\nFLARE Search Engine, Wikipedia Text Sentence Tuning Adaptive\\nPGRA Wikipedia Text Sentence Inference Once\\nFILCO [34] Wikipedia Text Sentence Inference Once\\nRADA Dataset-base Text Sentence Inference Once\\nFilter-reran! Synthesized dataset Text Sentence Inference Once\\nR-GQA 37) Dataset-base Text Sentence Pair Tuning Once\\nLLM-R Dataset-base Text Sentence Pair Inference Iterative\\nTIGER Dataset-base Text Item-base Pre-training Once\\nLM-Indexer Dataset-base Text Item-base Tuning Once\\nBEQUE |9 Dataset-base Text Item-base Tuning Once\\nCT-RAG Synthesized dataset Text Item-base Tuning Once\\nAtlas Wikipedia, Common Crawl Text Chunk Pre-training Iterative\\nRAVE) Wikipedia Text Chunk Pre-training Once\\nRETRO++ Pre-training Corpus Text Chunk Pre-training Iterative\\nINSTRUCTRETR Pre-training corpus Text Chunk Pre-training Iterative\\nRRR Search Engine Text Chunk Tuning Once\\nener i) Dataset-base Text Chunk Tuning Once\\nPROMPTAGA BEIR. Text Chunk Tuning Once\\nMSMARCO, Wikipedia Text Chunk Tuning Once\\nCommon Crawl,Wikipedia Text Chunk Tuning Once\\nWikipedia Text Chunk Tuning Once\\nDataset-base Text Chunk Tuning Once\\nWikipedia Text Chunk Tuning Once\\nWikipedia Text Chunk Tuning Adaptive\\nWikipedia Text Chunk Inference Once\\nWikipedia Text Chunk Inference Iterative\\nWikipedia Text Chunk Inference Once\\nPaperQA Arxiv,Online Database,PubMed Text Chunk Inference Iterative\\nNoiseRAG FactoidWiki Text Chunk Inference Once\\nSearch Engine, Wikipedia Text Chunk Inference Once\\nWikipedia Text Chunk Inference Once\\nSearch Engine, Wikipedia Text Chunk Inference Recursive\\nDataset-base, Wikipedia Text Chunk Inference Adaptive\\nWikipedia Text Chunk Inference Iterative\\nRAG-LongContext (60) Dataset-base Text Chunk Inference Once\\nITER-RETGEN Wikipedia Text Chunk Inference Iterative\\nIRCoT Wikipedia Text Chunk Inference Recursive\\nLLM-Knowledge-Boundary Wikipedia Text Chunk Inference Once\\nRAPTOR Dataset-base Text Chunk Inference Recursive\\nRECITE LLMs Text Chunk Inference Once\\nICRALM Pile, Wikipedia Text Chunk Inference Iterative\\nRetrieve-and-Sample Dataset-base Text Doc Tuning Once\\nC4 Text Doc Tuning Once\\nArxiv Text Doc Inference Once\\nWikipedia Text Doc Inference Iterative\\nDataset-base Text Doc Inference Once\\nDataset-base Text Doc Inference Once\\nWikipedia Text Doc Inference Once\\nWikipedia Text Doc Inference Iterative\\nPile Text Doc Inference Once\\nDataset-base Text Doc Inference Iterative\\nLLMs Text Doc Inference Iterative\\nDataset-base Text Multi Tuning Once\\nDataset-base Crosslingual,Text Sentence Inference Once\\nLLM Tabular,Text Chunk Inference Once\\nDataset-base Code,Text Item Pre-training Once\\nFreebase KG Sub-Graph Tuning Once\\nDataset-base KG Entity Tuning Once\\nDataset-base KG Entity Sequence Tuning Once\\nDataset-base KG Triplet Inference Muti-time\\nDataset-base,Graph KG Entity Inference Once\\nCMeKG KG Entity Inference Once\\nWikipedia KG Triplet Inference Iterative\\nFreebase KG Triplet Inference Iterative\\nDataset-base TextGraph Sub-Graph Inference Once\\n\\n \\n\\n \\n\\x0cExternal Knowledge\\nRequired\\n»\\n\\nHigh\\n\\n \\n  \\n\\n  \\n       \\n\\nAdvanced RAG\\n\\nIndex/pre-retrieval/post-retrieval\\n‘optimization\\n\\nFew-shot Prompt\\na Standard Prompt\\n\\nLow\\n\\n \\n\\n \\n\\nRetriever Fine-tuning\\n“ _--~’( Collaborative Fine-tuning\\n\\nModel Adaptation\\n\\n \\n\\nLow\\n\\n> Required\\nHigh\\n\\nFig. 4. RAG compared with other model optimization methods in the aspects of “External Knowledge Required” and “Model Adaption Required”. Prompt\\nEngineering requires low modifications to the model and external knowledge, focusing on harnessing the capabilities of LLMs themselves. Fine-tuning, on\\nthe other hand, involves further training the model. In the early stages of RAG (Naive RAG), there is a low demand for model modifications. As research\\nprogresses, Modular RAG has become more integrated with fine-tuning techniques.\\n\\nUnstructured Data, such as text, is the most widely used\\nretrieval source, which are mainly gathered from corpus. For\\nopen-domain question-answering (ODQA) tasks, the primary\\nretrieval sources are Wikipedia Dump with the current major\\nversions including HotpotQa | (1st October , 2017), DPRS|(20\\nDecember, 2018). In addition to encyclopedic data, common\\nunstructured data includes cross-lingual text and domain-\\nspecific data (such as medical (67Jand legal domains (29).\\n\\nSemi-structured data. typically refers to data that contains a\\ncombination of text and table information, such as PDF. Han-\\ndling semi-structured data poses challenges for conventional\\nRAG systems due to two main reasons. Firstly, text splitting\\nprocesses may inadvertently separate tables, leading to data\\ncorruption during retrieval. Secondly, incorporating tables into\\nthe data can complicate semantic similarity searches. When\\ndealing with semi-structured data, one approach involves lever-\\naging the code capabilities of LLMs to execute Text-2-SQL\\nqueries on tables within databases, such as TableGPT [85].\\nAlternatively, tables can be transformed into text format for\\nfurther analysis using text-based methods However, both\\nof these methods are not optimal solutions, indicating substan-\\ntial research opportunities in this area.\\n\\nStructured data, such as knowledge graphs (KGs) :\\nwhich are typically verified and can provide more precise in-\\nformation. KnowledGPT generates KB search queries and\\nstores knowledge in a personalized base, enhancing the RAG\\nmodel’s knowledge richness. In response to the limitations of\\nLLMs in understanding and answering questions about textual\\ngraphs, G-Retriever (84) integrates Graph Neural Networks\\n\\n \\n\\n \\n\\n \\n\\n(GNNs), LLMs and RAG, enhancing graph comprehension\\nand question-answering capabilities through soft prompting\\nof the LLM, and employs the Prize-Collecting Steiner Tree\\n(PCST) optimization problem for targeted graph retrieval. On\\nthe contrary, it requires additional effort to build, validate,\\nand maintain structured databases. On the contrary, it requires\\nadditional effort to build, validate, and maintain structured\\ndatabases.\\n\\nLLMs-Generated Content. Addressing the limitations of\\nexternal auxiliary information in RAG, some research has\\nfocused on exploiting LLMs’ internal knowledge. SKR\\nclassifies questions as known or unknown, applying retrieval\\nenhancement selectively. GenRead [13] replaces the retriever\\nwith an LLM generator, finding that LLM-generated contexts\\noften contain more accurate answers due to better alignment\\nwith the pre-training objectives of causal language modeling.\\nSelfmem iteratively creates an unbounded memory pool\\nwith a retrieval-enhanced generator, using a memory selec-\\ntor to choose outputs that serve as dual problems to the\\noriginal question, thus self-enhancing the generative model.\\nThese methodologies underscore the breadth of innovative\\ndata source utilization in RAG, striving to improve model\\nperformance and task effectiveness.\\n\\n2) Retrieval Granularity: Another important factor besides\\nthe data format of the retrieval source is the granularity of\\nthe retrieved data. Coarse-grained retrieval units theoretically\\ncan provide more relevant information for the problem, but\\nthey may also contain redundant content, which could distract\\nthe retriever and language models in downstream tasks [|\\n. On the other hand, fine-grained retrieval unit granularity\\nincreases the burden of retrieval and does not guarantee seman-\\ntic integrity and meeting the required knowledge. Choosing\\n\\n \\n\\n \\n\\n \\n\\n \\n \\n\\x0cthe appropriate retrieval granularity during inference can be\\na simple and effective strategy to improve the retrieval and\\ndownstream task performance of dense retrievers.\\n\\nIn text, retrieval granularity ranges from fine to coarse,\\nincluding Token, Phrase, Sentence, Proposition, Chunks, Doc-\\nument. Among them, DenseX [30}proposed the concept of\\nusing propositions as retrieval units. Propositions are defined\\nas atomic expressions in the text, each encapsulating a unique\\nfactual segment and presented in a concise, self-contained nat-\\nural language format. This approach aims to enhance retrieval\\nprecision and relevance. On the Knowledge Graph (KG),\\nretrieval granularity includes Entity, Triplet, and sub-Graph.\\nThe granularity of retrieval can also be adapted to downstream\\ntasks, such as retrieving Item IDs in recommendation tasks\\nand Sentence pairs [38]. Detailed information is illustrated in\\nTable\\n\\n \\n\\nB. Indexing Optimization\\n\\nIn the Indexing phase, documents will be processed, seg-\\nmented, and transformed into Embeddings to be stored in a\\nvector database. The quality of index construction determines\\nwhether the correct context can be obtained in the retrieval\\nphase.\\n\\n1) Chunking Strategy: The most common method is to split\\nthe document into chunks on a fixed number of tokens (e.g.,\\n100, 256, 512) (88). Larger chunks can capture more context,\\nbut they also generate more noise, requiring longer processing\\ntime and higher costs. While smaller chunks may not fully\\nconvey the necessary context, they do have less noise. How-\\never, chunks leads to truncation within sentences, prompting\\nthe optimization of a recursive splits and sliding window meth-\\nods, enabling layered retrieval by merging globally related\\ninformation across multiple retrieval processes (89). Never-\\ntheless, these approaches still cannot strike a balance between\\nsemantic completeness and context length. Therefore, methods\\nlike Small2Big have been proposed, where sentences (small)\\nare used as the retrieval unit, and the preceding and following\\nsentences are provided as (big) context to LLMs {90}.\\n\\n2) Metadata Attachments: Chunks can be enriched with\\nmetadata information such as page number, file name, au-\\nthor,category timestamp. Subsequently, retrieval can be filtered\\nbased on this metadata, limiting the scope of the retrieval.\\nAssigning different weights to document timestamps during\\nretrieval can achieve time-aware RAG, ensuring the freshness\\nof knowledge and avoiding outdated information.\\n\\nIn addition to extracting metadata from the original doc-\\numents, metadata can also be artificially constructed. For\\nexample, adding summaries of paragraph, as well as intro-\\nducing hypothetical questions. This method is also known as\\nReverse HyDE. Specifically, using LLM to generate questions\\nthat can be answered by the document, then calculating the\\nsimilarity between the original question and the hypothetical\\nquestion during retrieval to reduce the semantic gap between\\nthe question and the answer.\\n\\n3) Structural Index: One effective method for enhancing\\ninformation retrieval is to establish a hierarchical structure for\\nthe documents. By constructing In structure, RAG system can\\nexpedite the retrieval and processing of pertinent data.\\n\\nHierarchical index structure. File are arranged in parent-\\nchild relationships, with chunks linked to them. Data sum-\\nmaries are stored at each node, aiding in the swift traversal\\nof data and assisting the RAG system in determining which\\nchunks to extract. This approach can also mitigate the illusion\\ncaused by block extraction issues.\\n\\nKnowledge Graph index. Utilize KG in constructing the\\nhierarchical structure of documents contributes to maintaining\\nconsistency. It delineates the connections between different\\nconcepts and entities, markedly reducing the potential for\\nillusions. Another advantage is the transformation of the\\ninformation retrieval process into instructions that LLM can\\ncomprehend, thereby enhancing the accuracy of knowledge\\nretrieval and enabling LLM to generate contextually coherent\\nresponses, thus improving the overall efficiency of the RAG\\nsystem. To capture the logical relationship between document\\ncontent and structure, KGP proposed a method of building\\nan index between multiple documents using KG. This KG\\nconsists of nodes (representing paragraphs or structures in the\\ndocuments, such as pages and tables) and edges (indicating\\nsemantic/lexical similarity between paragraphs or relationships\\nwithin the document structure), effectively addressing knowl-\\nedge retrieval and reasoning problems in a multi-document\\nenvironment.\\n\\nC. Query Optimization\\n\\nOne of the primary challenges with Naive RAG is its\\ndirect reliance on the user’s original query as the basis for\\nretrieval. Formulating a precise and clear question is difficult,\\nand imprudent queries result in subpar retrieval effectiveness.\\nSometimes, the question itself is complex, and the language\\nis not well-organized. Another difficulty lies in language\\ncomplexity ambiguity. Language models often struggle when\\ndealing with specialized vocabulary or ambiguous abbrevi-\\nations with multiple meanings. For instance, they may not\\ndiscern whether “LLM” refers to large language model or a\\nMaster of Laws in a legal context.\\n\\n1) Query Expansion: Expanding a single query into mul-\\ntiple queries enriches the content of the query, providing\\nfurther context to address any lack of specific nuances, thereby\\nensuring the optimal relevance of the generated answers.\\n\\nMulti-Query. By employing prompt engineering to expand\\nqueries via LLMs, these queries can then be executed in\\nparallel. The expansion of queries is not random, but rather\\nmeticulously designed.\\n\\nSub-Query. The process of sub-question planning represents\\nthe generation of the necessary sub-questions to contextualize\\nand fully answer the original question when combined. This\\nprocess of adding relevant context is, in principle, similar\\nto query expansion. Specifically, a complex question can be\\ndecomposed into a series of simpler sub-questions using the\\nleast-to-most prompting method (92).\\n\\nChain-of-Verification(CoVe). The expanded queries undergo\\nvalidation by LLM to achieve the effect of reducing halluci-\\nnations. Validated expanded queries typically exhibit higher\\n\\nreliability [93].\\n\\x0c2) Query Transformation: The core concept is to retrieve\\nchunks based on a transformed query instead of the user’s\\noriginal query.\\n\\nQuery Rewrite.The original queries are not always optimal\\nfor LLM retrieval, especially in real-world scenarios. There-\\nfore, we can prompt LLM to rewrite the queries. In addition to\\nusing LLM for query rewriting, specialized smaller language\\nmodels, such as RRR (Rewrite-retrieve-read) (7). The imple-\\nmentation of the query rewrite method in the Taobao, known\\nas BEQUE (9) has notably enhanced recall effectiveness for\\nlong-tail queries, resulting in a rise in GMV.\\n\\nAnother query transformation method is to use prompt\\nengineering to let LLM generate a query based on the original\\nquery for subsequent retrieval. HyDE construct hypothet-\\nical documents (assumed answers to the original query). It\\nfocuses on embedding similarity from answer to answer rather\\nthan seeking embedding similarity for the problem or query.\\nUsing the Step-back Prompting method [10], the original\\nquery is abstracted to generate a high-level concept question\\n(step-back question). In the RAG system, both the step-back\\nquestion and the original query are used for retrieval, and both\\nthe results are utilized as the basis for language model answer\\ngeneration.\\n\\n3) Query Routing: Based on varying queries, routing to\\ndistinct RAG pipeline,which is suitable for a versatile RAG\\nsystem designed to accommodate diverse scenarios.\\n\\nMetadata Router/ Filter. The first step involves extracting\\nkeywords (entity) from the query, followed by filtering based\\non the keywords and metadata within the chunks to narrow\\ndown the search scope.\\n\\nSemantic Router is another method of routing involves\\nleveraging the semantic information of the query. Specific\\napprach see Semantic Router |*| Certainly, a hybrid routing\\napproach can also be employed, combining both semantic and\\nmetadata-based methods for enhanced query routing.\\n\\n \\n\\nD. Embedding\\n\\nIn RAG, retrieval is achieved by calculating the similarity\\n(e.g. cosine similarity) between the embeddings of the ques-\\ntion and document chunks, where the semantic representation\\ncapability of embedding models plays a key role. This mainly\\nincludes a sparse encoder (BM25) and a dense retriever (BERT\\narchitecture Pre-training language models). Recent research\\nhas introduced prominent embedding models such as AnglE,\\nVoyage, BGE,ete [9 (96), which are benefit from multi-task\\ninstruct tuning. Hugging Face’s MTEB leaderboard[\"]evaluates\\nembedding models across 8 tasks, covering 58 datasests. Ad-\\nditionally, C-MTEB focuses on Chinese capability, covering\\n6 tasks and 35 datasets. There is no one-size-fits-all answer\\nto “which embedding model to use.” However, some specific\\nmodels are better suited for particular use cases.\\n\\n1) Mix/hybrid Retrieval : Sparse and dense embedding\\napproaches capture different relevance features and can ben-\\nefit from each other by leveraging complementary relevance\\ninformation. For instance, sparse retrieval models can be used\\n\\n \\n\\n \\n\\nto provide initial search results for training dense retrieval\\nmodels. Additionally, pre-training language models (PLMs)\\ncan be utilized to learn term weights to enhance sparse\\nretrieval. Specifically, it also demonstrates that sparse retrieval\\nmodels can enhance the zero-shot retrieval capability of dense\\nretrieval models and assist dense retrievers in handling queries\\ncontaining rare entities, thereby improving robustness.\\n\\n2) Fine-tuning Embedding Model: In instances where the\\ncontext significantly deviates from pre-training corpus, partic-\\nularly within highly specialized disciplines such as healthcare,\\nlegal practice, and other sectors replete with proprietary jargon,\\nfine-tuning the embedding model on your own domain dataset\\nbecomes essential to mitigate such discrepancies.\\n\\nIn addition to supplementing domain knowledge, another\\npurpose of fine-tuning is to align the retriever and generator,\\nfor example, using the results of LLM as the supervision signal\\nfor fine-tuning, known as LSR (LM-supervised Retriever).\\nPROMPTAGATOR (21) utilizes the LLM as a few-shot query\\ngenerator to create task-specific retrievers, addressing chal-\\nlenges in supervised fine-tuning, particularly in data-scarce\\ndomains. Another approach, LLM-Embedder (97, exploits\\nLLMs to generate reward signals across multiple downstream\\ntasks. The retriever is fine-tuned with two types of supervised\\nsignals: hard labels for the dataset and soft rewards from\\nthe LLMs. This dual-signal approach fosters a more effective\\nfine-tuning process, tailoring the embedding model to diverse\\ndownstream applications. REPLUG utilizes a retriever\\nand an LLM to calculate the probability distributions of the\\nretrieved documents and then performs supervised training\\nby computing the KL divergence. This straightforward and\\neffective training method enhances the performance of the\\nretrieval model by using an LM as the supervisory signal,\\neliminating the need for specific cross-attention mechanisms.\\nMoreover, inspired by RLHF (Reinforcement Learning from\\nHuman Feedback), utilizing LM-based feedback to reinforce\\nthe retriever through reinforcement learning.\\n\\nE. Adapter\\n\\nFine-tuning models may present challenges, such as in-\\ntegrating functionality through an API or addressing con-\\nstraints arising from limited local computational resources.\\nConsequently, some approaches opt to incorporate an external\\nadapter to aid in alignment.\\n\\nTo optimize the multi-task capabilities of LLM, UP-\\nRISE trained a lightweight prompt retriever that can\\nautomatically retrieve prompts from a pre-built prompt pool\\nthat are suitable for a given zero-shot task input. AAR\\n(Augmentation-Adapted Retriver) introduces a universal\\nadapter designed to accommodate multiple downstream tasks.\\nWhile PRCA add a pluggable reward-driven contextual\\nadapter to enhance performance on specific tasks. BGM\\nkeeps the retriever and LLM fixed,and trains a bridge Seq2Seq\\nmodel in between. The bridge model aims to transform the\\nretrieved information into a format that LLMs can work with\\neffectively, allowing it to not only rerank but also dynami-\\ncally select passages for each query, and potentially employ\\nmore advanced strategies like repetition. Furthermore, PKG\\n\\x0cintroduces an innovative method for integrating knowledge\\ninto white-box models via directive fine-tuning [75]. In this\\napproach, the retriever module is directly substituted to gen-\\nerate relevant documents according to a query. This method\\nassists in addressing the difficulties encountered during the\\nfine-tuning process and enhances model performance.\\n\\n \\n\\nIV. GENERATION\\n\\nAfter retrieval, it is not a good practice to directly input all\\nthe retrieved information to the LLM for answering questions.\\nFollowing will introduce adjustments from two perspectives:\\nadjusting the retrieved content and adjusting the LLM.\\n\\nA. Context Curation\\n\\nRedundant information can interfere with the final gener-\\nation of LLM, and overly long contexts can also lead LLM\\nto the “Lost in the middle” problem {98}. Like humans, LLM\\ntends to only focus on the beginning and end of long texts,\\nwhile forgetting the middle portion. Therefore, in the RAG\\nsystem, we typically need to further process the retrieved\\ncontent.\\n\\n1) Reranking: Reranking fundamentally reorders document\\nchunks to highlight the most pertinent results first, effectively\\nreducing the overall document pool, severing a dual purpose\\nin information retrieval, acting as both an enhancer and a\\nfilter, delivering refined inputs for more precise language\\nmodel processing [70]. Reranking can be performed using\\nrule-based methods that depend on predefined metrics like\\nDiversity, Relevance, and MRR, or model-based approaches\\nlike Encoder-Decoder models from the BERT series (e.g.,\\nSpanBERT), specialized reranking models such as Cohere\\nrerank or bge-raranker-large, and general large language mod-\\nels like GPT [12], [99}.\\n\\n2) Context Selection/Compression: A common misconcep-\\ntion in the RAG process is the belief that retrieving as many\\nrelevant documents as possible and concatenating them to form\\na lengthy retrieval prompt is beneficial. However, excessive\\ncontext can introduce more noise, diminishing the LLM’s\\nperception of key information .\\n\\n(Long) LLMLingua [100], [101] utilize small language\\nmodels (SLMs) such as GPT-2 Small or LLaMA-7B, to\\ndetect and remove unimportant tokens, transforming it into\\na form that is challenging for humans to comprehend but\\nwell understood by LLMs. This approach presents a direct\\nand practical method for prompt compression, eliminating the\\nneed for additional training of LLMs while balancing language\\nintegrity and compression ratio. PRCA tackled this issue by\\ntraining an information extractor [69]. Similarly, RECOMP\\nadopts a comparable approach by training an information\\ncondenser using contrastive learning ]. Each training data\\npoint consists of one positive sample and five negative sam-\\nples, and the encoder undergoes training using contrastive loss\\nthroughout this process [1 .\\n\\nIn addition to compressing the context, reducing the num-\\nber of documents aslo helps improve the accuracy of the\\nmodel’s answers. Ma et al. propose the “‘Filter-Reranker”\\nparadigm, which combines the strengths of LLMs and SLMs.\\n\\n \\n\\n \\n\\n \\n\\nIn this paradigm, SLMs serve as filters, while LLMs function\\nas reordering agents. The research shows that instructing\\nLLMs to rearrange challenging samples identified by SLMs\\nleads to significant improvements in various Information\\nExtraction (IE) tasks. Another straightforward and effective\\napproach involves having the LLM evaluate the retrieved\\ncontent before generating the final answer. This allows the\\nLLM to filter out documents with poor relevance through LLM\\ncritique. For instance, in Chatlaw [104], the LLM is prompted\\nto self-suggestion on the referenced legal provisions to assess\\ntheir relevance.\\n\\nB. LLM Fine-tuning\\n\\nTargeted fine-tuning based on the scenario and data char-\\nacteristics on LLMs can yield better results. This is also one\\nof the greatest advantages of using on-premise LLMs. When\\nLLMs lack data in a specific domain, additional knowledge can\\nbe provided to the LLM through fine-tuning. Huggingface’s\\nfine-tuning data can also be used as an initial step.\\n\\nAnother benefit of fine-tuning is the ability to adjust the\\nmodel’s input and output. For example, it can enable LLM to\\nadapt to specific data formats and generate responses in a par-\\nticular style as instructed (37). For retrieval tasks that engage\\nwith structured data, the SANTA framework implements\\na tripartite training regimen to effectively encapsulate both\\nstructural and semantic nuances. The initial phase focuses on\\nthe retriever, where contrastive learning is harnessed to refine\\nthe query and document embeddings.\\n\\nAligning LLM outputs with human or retriever preferences\\nthrough reinforcement learning is a potential approach. For\\ninstance, manually annotating the final generated answers\\nand then providing feedback through reinforcement learning.\\nIn addition to aligning with human preferences, it is also\\npossible to align with the preferences of fine-tuned models\\nand retrievers [79]. When circumstances prevent access to\\npowerful proprietary models or larger parameter open-source\\nmodels, a simple and effective method is to distill the more\\npowerful models(e.g. GPT-4). Fine-tuning of LLM can also\\nbe coordinated with fine-tuning of the retriever to align pref-\\nerences. A typical approach, such as RA-DIT (27). aligns the\\nscoring functions between Retriever and Generator using KL\\ndivergence.\\n\\n \\n\\nV. AUGMENTATION PROCESS IN RAG\\n\\nIn the domain of RAG, the standard practice often involves\\na singular (once) retrieval step followed by generation, which\\ncan lead to inefficiencies and sometimes is typically insuffi-\\ncient for complex problems demanding multi-step reasoning,\\nas it provides a limited scope of information (105). Many\\nstudies have optimized the retrieval process in response to this\\nissue, and we have summarised them in Figure 5]\\n\\nA. Iterative Retrieval\\n\\nIterative retrieval is a process where the knowledge base\\nis repeatedly searched based on the initial query and the text\\ngenerated so far, providing a more comprehensive knowledge\\n\\x0cRECURSIVE\\n\\n \\n\\nITERATIVE\\nProvide more context information\\n\\n   \\n\\n \\n\\nIterate\\nN\\nTimes\\n\\nBreak down complex problems step by step\\n\\nQuery\\nTransformation /\\nDecomposition\\n\\nADAPTIVE\\n\\nFlexible and active control of retrieval and generation\\n\\n   \\n\\nRetrieve On Demand\\n\\n \\n\\n \\n\\n  \\n\\n| Max Times / Threshold\\n\\n   \\n\\n| Max Depth (Tree) / Threshold\\n\\nQuery\\nTransformation /\\nDecomposition\\n\\n‘ !\\nGi G\\nenerate =\\n\\n \\n\\n| Generate Special Token / Threshold\\n\\n \\n\\nFig. 5. In addition to the most common once retrieval, RAG also includes three types of retrieval augmentation processes. (left) Iterative retrieval involves\\nalternating between retrieval and generation, allowing for richer and more targeted context from the knowledge base at each step. (Middle) Recursive retrieval\\ninvolves gradually refining the user query and breaking down the problem into sub-problems, then continuously solving complex problems through retrieval\\nand generation. (Right) Adaptive retrieval focuses on enabling the RAG system to autonomously determine whether external knowledge retrieval is necessary\\nand when to stop retrieval and generation, often utilizing LLM-generated special tokens for control.\\n\\nbase for LLMs. This approach has been shown to enhance\\nthe robustness of subsequent answer generation by offering\\nadditional contextual references through multiple retrieval\\niterations. However, it may be affected by semantic discon-\\ntinuity and the accumulation of irrelevant information. ITER-\\nRETGEN employs a synergistic approach that lever-\\nages “retrieval-enhanced generation” alongside “generation-\\nenhanced retrieval” for tasks that necessitate the reproduction\\nof specific information. The model harnesses the content\\nrequired to address the input task as a contextual basis for\\nretrieving pertinent knowledge, which in turn facilitates the\\ngeneration of improved responses in subsequent iterations.\\n\\n \\n\\nB. Recursive Retrieval\\n\\nRecursive retrieval is often used in information retrieval and\\nNLP to improve the depth and relevance of search results.\\nThe process involves iteratively refining search queries based\\non the results obtained from previous searches. Recursive\\nRetrieval aims to enhance the search experience by gradu-\\nally converging on the most pertinent information through a\\nfeedback loop. IRCoT uses chain-of-thought to guide\\nthe retrieval process and refines the CoT with the obtained\\nretrieval results. ToC creates a clarification tree that\\nsystematically optimizes the ambiguous parts in the Query. It\\ncan be particularly useful in complex search scenarios where\\nthe user’s needs are not entirely clear from the outset or where\\nthe information sought is highly specialized or nuanced. The\\nrecursive nature of the process allows for continuous learning\\nand adaptation to the user’s requirements, often resulting in\\nimproved satisfaction with the search outcomes.\\n\\nTo address specific data scenarios, recursive retrieval and\\nmulti-hop retrieval techniques are utilized together. Recursive\\n\\n \\n\\n \\n\\nretrieval involves a structured index to process and retrieve\\ndata in a hierarchical manner, which may include summarizing\\nsections of a document or lengthy PDF before performing a\\nretrieval based on this summary. Subsequently, a secondary\\nretrieval within the document refines the search, embodying\\nthe recursive nature of the process. In contrast, multi-hop\\nretrieval is designed to delve deeper into graph-structured data\\nsources, extracting interconnected information\\n\\n \\n\\nC. Adaptive Retrieval\\n\\nAdaptive retrieval methods, exemplified by Flare | and\\nSelf-RAG (25). refine the RAG framework by enabling LLMs\\nto actively determine the optimal moments and content for\\nretrieval, thus enhancing the efficiency and relevance of the\\ninformation sourced.\\n\\nThese methods are part of a broader trend wherein\\nLLMs employ active judgment in their operations, as seen\\nin model agents like AutoGPT, Toolformer, and Graph-\\nToolformer 9]. Graph-Toolformer, for instance, di-\\nvides its retrieval process into distinct steps where LLMs\\nproactively use retrievers, apply Self-Ask techniques, and em-\\nploy few-shot prompts to initiate search queries. This proactive\\nstance allows LLMs to decide when to search for necessary\\ninformation, akin to how an agent utilizes tools.\\n\\nWebGPT integrates a reinforcement learning frame-\\nwork to train the GPT-3 model in autonomously using a\\nsearch engine during text generation. It navigates this process\\nusing special tokens that facilitate actions such as search\\nengine queries, browsing results, and citing references, thereby\\nexpanding GPT-3’s capabilities through the use of external\\nsearch engines. Flare automates timing retrieval by monitoring\\nthe confidence of the generation process, as indicated by the\\n\\n \\n\\n \\n\\n \\n\\x0cprobability of generated terms (24). When the probability falls\\nbelow a certain threshold would activates the retrieval system\\nto collect relevant information, thus optimizing the retrieval\\ncycle. Self-RAG introduces “reflection tokens” that allow\\nthe model to introspect its outputs. These tokens come in\\ntwo varieties: “retrieve” and “critic”. The model autonomously\\ndecides when to activate retrieval, or alternatively, a predefined\\nthreshold may trigger the process. During retrieval, the gen-\\nerator conducts a fragment-level beam search across multiple\\nparagraphs to derive the most coherent sequence. Critic scores\\nare used to update the subdivision scores, with the flexibility\\nto adjust these weights during inference, tailoring the model’s\\nbehavior. Self-RAG’s design obviates the need for additional\\nclassifiers or reliance on Natural Language Inference (NLI)\\nmodels, thus streamlining the decision-making process for\\nwhen to engage retrieval mechanisms and improving the\\nmodel’s autonomous judgment capabilities in generating ac-\\ncurate responses.\\n\\n \\n\\nVI. TASK AND EVALUATION\\n\\nThe rapid advancement and growing adoption of RAG\\nin the field of NLP have propelled the evaluation of RAG\\nmodels to the forefront of research in the LLMs community.\\nThe primary objective of this evaluation is to comprehend\\nand optimize the performance of RAG models across diverse\\napplication scenarios.This chapter will mainly introduce the\\nmain downstream tasks of RAG, datasets, and how to evaluate\\nRAG systems.\\n\\nA. Downstream Task\\n\\nThe core task of RAG remains Question Answering (QA),\\nincluding traditional single-hop/multi-hop QA, multiple-\\nchoice, domain-specific QA as well as long-form scenarios\\nsuitable for RAG. In addition to QA, RAG is continuously\\nbeing expanded into multiple downstream tasks, such as Infor-\\nmation Extraction (IE), dialogue generation, code search, etc.\\nThe main downstream tasks of RAG and their corresponding\\ndatasets are summarized in Table\\n\\nB. Evaluation Target\\n\\nHistorically, RAG models assessments have centered on\\ntheir execution in specific downstream tasks. These evaluations\\nemploy established metrics suitable to the tasks at hand. For\\ninstance, question answering evaluations might rely on EM\\n[72]. whereas fact-checking\\n\\n  \\n  \\n\\n \\n\\n. BLEU and ROUGE metrics are also commonly\\nused to evaluate answer quality (26], 32}. (52). (78}. Tools\\nlike RALLE, designed for the automatic evaluation of RAG\\napplications, similarly base their assessments on these task-\\nspecific metrics (160). Despite this, there is a notable paucity\\nof research dedicated to evaluating the distinct characteristics\\nof RAG models.The main evaluation objectives include:\\nRetrieval Quality. Evaluating the retrieval quality is crucial\\nfor determining the effectiveness of the context sourced by\\nthe retriever component. Standard metrics from the domains\\n\\n \\n\\nof search engines, recommendation systems, and information\\nretrieval systems are employed to measure the performance of\\nthe RAG retrieval module. Metrics such as Hit Rate, MRR, and\\nNDCG are commonly utilized for this purpose\\n\\nGeneration Quality. The assessment of generation quality\\ncenters on the generator’s capacity to synthesize coherent and\\nrelevant answers from the retrieved context. This evaluation\\ncan be categorized based on the content’s objectives: unlabeled\\nand labeled content. For unlabeled content, the evaluation\\nencompasses the faithfulness, relevance, and non-harmfulness\\nof the generated answers. In contrast, for labeled content,\\nthe focus is on the accuracy of the information produced by\\nthe model [161]. Additionally, both retrieval and generation\\nquality assessments can be conducted through manual or\\nautomatic evaluation methods |\\n\\n \\n\\n  \\n\\nC. Evaluation Aspects\\n\\nContemporary evaluation practices of RAG models empha-\\nsize three primary quality scores and four essential abilities,\\nwhich collectively inform the evaluation of the two principal\\ntargets of the RAG model: retrieval and generation.\\n\\n1) Quality Scores: Quality scores include context rele-\\nvance, answer faithfulness, and answer relevance. These qual-\\nity scores evaluate the efficiency of the RAG model from\\ndifferent perspectives in the process of information retrieval\\nand generation [1\\n\\nContext Relevance evaluates the precision and specificity\\nof the retrieved context, ensuring relevance and minimizing\\nprocessing costs associated with extraneous content.\\n\\nAnswer Faithfulness ensures that the generated answers\\nremain true to the retrieved context, maintaining consistency\\nand avoiding contradictions.\\n\\nAnswer Relevance requires that the generated answers are\\ndirectly pertinent to the posed questions, effectively addressing\\nthe core inquiry.\\n\\n2) Required Abilities: RAG evaluation also encompasses\\nfour abilities indicative of its adaptability and efficiency:\\nnoise robustness, negative rejection, information integration,\\nand counterfactual robustness [167], [168]. These abilities are\\ncritical for the model’s performance under various challenges\\nand complex scenarios, impacting the quality scores.\\n\\nNoise Robustness appraises the model’s capability to man-\\nage noise documents that are question-related but lack sub-\\nstantive information.\\n\\nNegative Rejection assesses the model’s discernment in\\nrefraining from responding when the retrieved documents do\\nnot contain the necessary knowledge to answer a question.\\n\\nInformation Integration evaluates the model’s proficiency in\\nsynthesizing information from multiple documents to address\\ncomplex questions.\\n\\nCounterfactual Robustness tests the model’s ability to rec-\\nognize and disregard known inaccuracies within documents,\\neven when instructed about potential misinformation.\\n\\nContext relevance and noise robustness are important for\\nevaluating the quality of retrieval, while answer faithfulness,\\nanswer relevance, negative rejection, information integration,\\nand counterfactual robustness are important for evaluating the\\nquality of generation.\\n\\n \\n\\x0cTABLE II\\nDOWNSTREAM TASKS AND DATASETS OF RAG\\n\\n \\n\\n \\n\\n \\n\\n \\n\\n \\n\\n \\n\\n \\n\\n \\n\\n \\n\\n \\n\\n \\n\\n \\n\\n \\n\\n \\n\\n \\n\\n \\n\\n \\n\\n \\n\\n \\n\\n \\n\\n \\n\\n \\n\\n \\n\\n \\n\\n \\n\\n \\n\\n \\n\\n \\n\\n \\n\\n \\n\\n \\n\\n \\n\\n \\n\\n \\n\\n \\n\\n \\n\\n \\n \\n\\n   \\n\\n \\n\\n \\n\\n \\n\\n \\n\\n \\n\\n \\n\\n \\n\\n \\n\\n \\n\\n \\n\\n \\n\\n \\n\\n \\n\\n \\n\\n \\n\\n \\n\\n \\n\\n \\n\\n \\n\\n \\n\\n \\n\\n \\n\\n \\n\\n \\n\\n \\n\\n \\n\\n \\n\\n \\n\\n  \\n\\nTask Sub Task Dataset\\nQA Single-hop Natural Qustion(NQ) [111\\nTriviaQA(TQA) [113\\nSQuAD [114]\\nWeb Questions(WebQ) {115}\\nPopQa [116]\\nMS MARCO 117}\\nMulti-hop HotpotQA ni\\n2WikiMultiHopQA [119]\\nMuSiQue\\nLong-form QA ELI5 121)\\nNarrativeQA(NQA)\\nASQA [124\\nQMSum(QM) [125]\\nDomain QA Qasper [126] 63\\nCOVID-QA [127|\\nCMB 128], MMi U_Medical 129}\\nMulti-Choice QA QuALITY [130] 63\\nARC [131]\\nCommonsenseQA 132)\\nGraph QA GraphQA\\nDialog Dialog Generation Wizard of Wikipedia (WoW) 133} 271,\\nPersonal Dialog KBP 134) 5\\nDuleMon [136]\\nTask-oriented Dialog CamRest (137 79\\nRecommendation Amazon(Toys,Sport,Beauty) [138|\\nJE Event Argument Extraction WikiEvent [139] 27\\\\,\\nRAMS [140] 7\\nRelation Extraction T-REx [14] »ZSRE [142|\\nReasoning Commonsense Reasoning HellaSwag [143] (66}\\nCoT Reasoning CoT Reasoning\\nComplex Reasoning CSQA 145}\\nOthers Language Understanding MMLU (146)\\nLanguage Modeling WikiText-\\nStrategyQA\\nFact Checking/Verification FEVER\\nPubHealt!\\nText Generation Biography\\nText Summarization WikiASP [152]\\nXSum 153]\\nText Classification VioLens [15\\n\\nSentiment\\n\\nCode Search\\nRobustness Evaluation\\nMath\\n\\nMachine Translation\\n\\n   \\n \\n\\nCodeSearchNet\\nNoMIRACL [56]\\nGSM8K\\nJRC-Acquis [159|\\n\\n \\n       \\n  \\n\\n \\n\\n \\n\\x0cTABLE III\\nSUMMARY OF METRICS APPLICABLE FOR EVALUATION ASPECTS OF RAG\\n\\n \\n\\n \\n\\nContext Faithfulness Answer Noise Negative Information Counterfactual\\nRelevance Relevance Robustness Rejection _Integration Robustness\\nAccuracy v v v v v v v\\nEM v\\nRecall v\\nPrecision v v\\nR-Rate v\\nCosine Similarity v\\nHit Rate v\\nMRR v\\nNDCG v\\nBLEU v v v\\nROUGE/ROUGE-L v v v\\n\\n \\n\\nThe specific metrics for each evaluation aspect are sum-\\nmarized in Table [III] It is essential to recognize that these\\nmetrics, derived from related work, are traditional measures\\nand do not yet represent a mature or standardized approach for\\nquantifying RAG evaluation aspects. Custom metrics tailored\\nto the nuances of RAG models, though not included here, have\\nalso been developed in some evaluation studies.\\n\\n \\n\\nD. Evaluation Benchmarks and Tools\\n\\nA series of benchmark tests and tools have been proposed\\nto facilitate the evaluation of RAG.These instruments furnish\\nquantitative metrics that not only gauge RAG model perfor-\\nmance but also enhance comprehension of the model’s capabil-\\nities across various evaluation aspects. Prominent benchmarks\\nsuch as RGB, RECALL and CRUD [167]-[169] focus on\\nappraising the essential abilities of RAG models. Concur-\\nrently, state-of-the-art automated tools like RAGAS [164],\\nARES (165), and TruLeng} employ LLMs to adjudicate the\\nquality scores. These tools and benchmarks collectively form\\na robust framework for the systematic evaluation of RAG\\nmodels, as summarized in Table\\n\\nVII. DISCUSSION AND FUTURE PROSPECTS\\n\\nDespite the considerable progress in RAG technology, sev-\\neral challenges persist that warrant in-depth research.This\\nchapter will mainly introduce the current challenges and future\\nresearch directions faced by RAG.\\n\\nA. RAG vs Long Context\\n\\nWith the deepening of related research, the context of LLMs\\nis continuously expanding [1 . Presently, LLMs can\\neffortlessly manage contexts exceeding 200,000 tokens[?] This\\ncapability signifies that long-document question answering,\\npreviously reliant on RAG, can now incorporate the entire\\ndocument directly into the prompt. This has also sparked\\ndiscussions on whether RAG is still necessary when LLMs\\n\\n \\n\\n/trulens_eval/core_concepts_rag_triad/|\\n\\n    \\n\\nare not constrained by context. In fact, RAG still plays an\\nirreplaceable role. On one hand, providing LLMs with a\\nlarge amount of context at once will significantly impact its\\ninference speed, while chunked retrieval and on-demand input\\ncan significantly improve operational efficiency. On the other\\nhand, RAG-based generation can quickly locate the original\\nreferences for LLMs to help users verify the generated an-\\nswers. The entire retrieval and reasoning process is observable,\\nwhile generation solely relying on long context remains a\\nblack box. Conversely, the expansion of context provides new\\nopportunities for the development of RAG, enabling it to\\naddress more complex problems and integrative or summary\\nquestions that require reading a large amount of material to\\nanswer (49). Developing new RAG methods in the context of\\nsuper-long contexts is one of the future research trends.\\n\\nB. RAG Robustness\\n\\nThe presence of noise or contradictory information during\\nretrieval can detrimentally affect RAG’s output quality. This\\nsituation is figuratively referred to as “Misinformation can\\nbe worse than no information at all”. Improving RAG’s\\nresistance to such adversarial or counterfactual inputs is gain-\\ning research momentum and has become a key performance\\nmetric (48). (50), (82). Cuconasu et al. analyze which\\ntype of documents should be retrieved, evaluate the relevance\\nof the documents to the prompt, their position, and the\\nnumber included in the context. The research findings reveal\\nthat including irrelevant documents can unexpectedly increase\\naccuracy by over 30%, contradicting the initial assumption\\nof reduced quality. These results underscore the importance\\nof developing specialized strategies to integrate retrieval with\\nlanguage generation models, highlighting the need for further\\nresearch and exploration into the robustness of RAG.\\n\\nC. Hybrid Approaches\\n\\nCombining RAG with fine-tuning is emerging as a leading\\nstrategy. Determining the optimal integration of RAG and\\nfine-tuning whether sequential, alternating, or through end-to-\\nend joint training—and how to harness both parameterized\\n\\x0cTABLE IV\\n\\nSUMMARY OF EVALUATION FRAMEWORKS\\n\\n \\n\\nEvaluation Framework\\n\\nEvaluation Targets\\n\\nEvaluation Aspects\\n\\nQuantitative Metrics\\n\\n \\n\\n \\n\\n \\n\\n \\n\\n \\n\\n \\n\\nNoise Robustness Accuracy\\nRGBt Retrieval Quality Negative Rejection EM\\nGeneration Quality Information Integration Accuracy\\nCounterfactual Robustness Accuracy\\nRECALLt Generation Quality Counterfactual Robustness R-Rate (Reappearance Rate)\\n. . Context Relevance *\\nRAGAS! Generation Onan Faithfulness cs\\ny Answer Relevance Cosine Similarity\\n. . Context Relevance Accuracy\\nARES? Generation Ouuly Faithfulness Accuracy\\n\" y Answer Relevance Accuracy\\n. . Context Relevance\\nTruLens* Retrieval Quality Faithfulness\\nGeneration Quality Answer Relevance\\nCreative Generation BLEU\\nCRUDi Retrieval Quality Knowledge-intensive QA ROUGE-L\\nGeneration Quality Error Correction BertScore\\nSummarization RAGQuestEval\\n\\n \\n\\n¢ represents a benchmark, and i represents a tool. * denotes customized quantitative metrics, which deviate from traditional\\nmetrics. Readers are encouraged to consult pertinent literature for the specific quantification formulas associated with these\\nmetrics, as required.\\n\\nand non-parameterized advantages are areas ripe for explo-\\nAnother trend is to introduce SLMs with specific\\nfunctionalities into RAG and fine-tuned by the results of RAG\\nsystem. For example, CRAG trains a lightweight retrieval\\nevaluator to assess the overall quality of the retrieved docu-\\nments for a query and triggers different knowledge retrieval\\nactions based on confidence levels.\\n\\n \\n\\nD. Scaling laws of RAG\\n\\nEnd-to-end RAG models and pre-trained models based\\non RAG are still one of the focuses of current re-\\nsearchers |173].The parameters of these models are one of\\nthe key factors.While scaling laws are established for\\nLLMs, their applicability to RAG remains uncertain. Initial\\nstudies like RETRO++ have begun to address this, yet the\\nparameter count in RAG models still lags behind that of LLMs.\\nThe possibility of an Inverse Scaling Law where smaller\\nmodels outperform larger ones, is particularly intriguing and\\nmerits further investigation.\\n\\n \\n\\nE. Production-Ready RAG\\n\\nRAG’s practicality and alignment with engineering require-\\nments have facilitated its adoption. However, enhancing re-\\ntrieval efficiency, improving document recall in large knowl-\\nedge bases, and ensuring data security—such as preventing\\n\\n \\n\\ninadvertent disclosure of document sources or metadata by\\nLLMs—are critical engineering challenges that remain to be\\naddressed [175]\\n\\nThe development of the RAG ecosystem is greatly impacted\\nby the progression of its technical stack. Key tools like\\nLangChain and LLamalIndex have quickly gained popularity\\nwith the emergence of ChatGPT, providing extensive RAG-\\nrelated APIs and becoming essential in the realm of LLMs.The\\nemerging technology stack, while not as rich in features as\\nLangChain and LLamalIndex, stands out through its specialized\\nproducts. For example, Flowise AI prioritizes a low-code\\napproach, allowing users to deploy AI applications, including\\nRAG, through a user-friendly drag-and-drop interface. Other\\ntechnologies like HayStack, Meltano, and Cohere Coral are\\nalso gaining attention for their unique contributions to the field.\\n\\nIn addition to Al-focused vendors, traditional software and\\ncloud service providers are expanding their offerings to include\\nRAG-centric services. Weaviate’s Verba is designed for\\npersonal assistant applications, while Amazon’s Kendra\\noffers intelligent enterprise search services, enabling users to\\nbrowse various content repositories using built-in connectors.\\nIn the development of RAG technology, there is a clear\\ntrend towards different specialization directions, such as: 1)\\nCustomization - tailoring RAG to meet specific requirements.\\n2) Simplification - making RAG easier to use to reduce the\\n\\n \\n\\n \\n\\x0c \\n\\n» RAG Ecosystem\\n\\nDownstream Tasks Technology Stacks\\n\\nDialogue} ( Question answering Langchain |{ Llamaindex\\nSummarization Fact verification FlowiseAl AutoGen\\n\\n~\\n\\n» RAG Prospect\\nChallenges\\n\\nRAG in Long Context Length\\nHybrid Robustness ‘Audio\\n\\nModality Extension.\\n\\nEcosystem\\n\\n \\n\\n \\n\\n/» The RAG Paradigm\\n\\nModular RAG\\n\\nRana) Advanced RAG\\n\\n~S\\n\\n> Techniques for Better RAG\\n\\n!\\n\\' (Chunk Optimization )(__ Iterative Retrieval) ( Retriever Fine-tuning\\n!\\n\\n| (Query Transformation) (_Recutsive Retrieval_ (Generator Fine-tuning\\n| (context selection} Adeotive Retieval Dual Fine-tuning\\n\\'\\n1\\n!\\nI\\n1\\n\\'\\n1\\n\\'\\n\\n» Key Issues of RAG\\n\\nWhat to When to cL)\\nretrieve retrieve Retrieval\\n\\nwae Jf\\n\\n\\' \\'\\n1 t\\n\\' t\\n1 t\\n1 t\\n1 t\\n1 t\\n1 t\\n1 t\\n1 t\\n1 t\\n1 t\\n1 t\\n1 t\\n1 t\\n1 t\\n1 t\\n1 t\\n1 t\\n\\' t\\n1 t\\n1 t\\n1 t\\n1 t\\n\\' \\'\\n\\n \\n\\n \\n\\nScaling-laws for RAG Video\\n\\n \\n\\nAnswer Faithfulness Counterfactual Robustness\\n\\nEvaluation Frameworl\\n\\n  \\n  \\n\\nso \\\\\\n, » Evaluation of RAG \\\\\\n! Evaluation Target \\'\\n! Retrieval Quality Generation Quality {\\n\\' (\\n\\' . (\\n} Evaluation Aspects {\\n\\' {\\nNoise Robustness) |\\nH Negation Rejection {\\nH Context Relevance i\\n! Information Integration \\'\\n\\' (\\n\\' (\\n\\' {\\n\\' {\\n\\' (\\n\\' (\\n1 {\\n\\nBenchmarks\\n\\n \\n\\n \\n\\nFig. 6. Summary of RAG ecosystem\\n\\ninitial learning curve. 3) Specialization - optimizing RAG to\\nbetter serve production environments.\\n\\nThe mutual growth of RAG models and their technology\\nstacks is evident; technological advancements continuously\\nestablish new standards for existing infrastructure. In turn,\\nenhancements to the technology stack drive the development\\nof RAG capabilities. RAG toolkits are converging into a\\nfoundational technology stack, laying the groundwork for\\nadvanced enterprise applications. However, a fully integrated,\\ncomprehensive platform concept is still in the future, requiring\\nfurther innovation and development.\\n\\nF. Multi-modal RAG\\n\\nRAG has transcended its initial text-based question-\\nanswering confines, embracing a diverse array of modal data.\\nThis expansion has spawned innovative multimodal models\\nthat integrate RAG concepts across various domains:\\n\\nImage. RA-CM3 ] stands as a pioneering multimodal\\nmodel of both retrieving and generating text and images.\\nBLIP-2 leverages frozen image encoders alongside\\nLLMs for efficient visual language pre-training, enabling zero-\\nshot image-to-text conversions. The “Visualize Before You\\nWrite” method employs image generation to steer the\\nLM’s text generation, showing promise in open-ended text\\ngeneration tasks.\\n\\nAudio and Video. The GSS method retrieves and stitches\\ntogether audio clips to convert machine-translated data into\\nspeech-translated data [179]. UEOP marks a significant ad-\\nvancement in end-to-end automatic speech recognition by\\nincorporating external, offline strategies for voice-to-text con-\\nversion |. Additionally, KNN-based attention fusion lever-\\nages audio embeddings and semantically related text embed-\\ndings to refine ASR, thereby accelerating domain adaptation.\\n\\n \\n\\n \\n\\n \\n\\n \\n\\nVid2Seq augments language models with specialized temporal\\nmarkers, facilitating the prediction of event boundaries and\\ntextual descriptions within a unified output sequence (18ip.\\n\\nCode. RBPS ] excels in small-scale learning tasks by\\nretrieving code examples that align with developers’ objectives\\nthrough encoding and frequency analysis. This approach has\\ndemonstrated efficacy in tasks such as test assertion genera-\\ntion and program repair. For structured knowledge, the Cok\\nmethod first extracts facts pertinent to the input query\\nfrom a knowledge graph, then integrates these facts as hints\\nwithin the input, enhancing performance in knowledge graph\\nquestion-answering tasks.\\n\\n \\n\\n \\n\\nVII. CONCLUSION\\n\\nThe summary of this paper, as depicted in Figure [6] empha-\\nsizes RAG’s significant advancement in enhancing the capa-\\nbilities of LLMs by integrating parameterized knowledge from\\nlanguage models with extensive non-parameterized data from\\nexternal knowledge bases. The survey showcases the evolution\\nof RAG technologies and their application on many different\\ntasks. The analysis outlines three developmental paradigms\\nwithin the RAG framework: Naive, Advanced, and Modu-\\nlar RAG, each representing a progressive enhancement over\\nits predecessors. RAG’s technical integration with other AI\\nmethodologies, such as fine-tuning and reinforcement learning,\\nhas further expanded its capabilities. Despite the progress in\\nRAG technology, there are research opportunities to improve\\nits robustness and its ability to handle extended contexts.\\nRAG’s application scope is expanding into multimodal do-\\nmains, adapting its principles to interpret and process diverse\\ndata forms like images, videos, and code. This expansion high-\\nlights RAG’s significant practical implications for AI deploy-\\nment, attracting interest from academic and industrial sectors.\\n\\x0cThe\\n\\ngrowing ecosystem of RAG is evidenced by the rise in\\n\\nRAG-centric AI applications and the continuous development\\nof supportive tools. As RAG’s application landscape broadens,\\nthere is a need to refine evaluation methodologies to keep\\npace with its evolution. Ensuring accurate and representative\\nperformance assessments is crucial for fully capturing RAG’s\\ncontributions to the AI research and development community.\\n\\n \\n\\n \\n\\n \\n\\nREFERENCES\\n\\nN. Kandpal, H. Deng, A. Roberts, E. Wallace, and C. Raffel, “Large\\nlanguage models struggle to learn long-tail knowledge,” in Interna-\\ntional Conference on Machine Learning. PMLR, 2023, pp. 15696—\\n15707.\\n\\nY. Zhang, Y. Li, L. Cui, D. Cai, L. Liu, T. Fu, X. Huang, E. Zhao,\\nY. Zhang, Y. Chen et al., “Siren’s song in the ai ocean: A survey on hal-\\nlucination in large language models,” arXiv preprint arXiv:2309.01219,\\n2023.\\n\\nD. Arora, A. Kini, S. R. Chowdhury, N. Natarajan, G. Sinha, and\\nA. Sharma, “Gar-meets-rag paradigm for zero-shot information re-\\ntrieval,” arXiv preprint arXiv:2310.20158, 2023.\\n\\nP. Lewis, E. Perez, A. Piktus, F. Petroni, V. Karpukhin, N. Goyal,\\nH. Kiittler, M. Lewis, W.-t. Yih, T. Rocktischel er al., “Retrieval-\\naugmented generation for knowledge-intensive mp tasks,” Advances in\\nNeural Information Processing Systems, vol. 33, pp. 9459-9474, 2020.\\nS. Borgeaud, A. Mensch, J. Hoffmann, T. Cai, E. Rutherford, K. Milli-\\ncan, G. B. Van Den Driessche, J.-B. Lespiau, B. Damoc, A. Clark et al.,\\n“Improving language models by retrieving from trillions of tokens,”\\nin International conference on machine learning. PMLR, 2022, pp.\\n2206-2240.\\n\\nL. Ouyang, J. Wu, X. Jiang, D. Almeida, C. Wainwright, P. Mishkin,\\nC. Zhang, S. Agarwal, K. Slama, A. Ray et al., “Training language\\nmodels to follow instructions with human feedback,” Advances in\\nneural information processing systems, vol. 35, pp. 27730-27744,\\n2022.\\n\\nX. Ma, Y. Gong, P. He, H. Zhao, and N. Duan,\\ning for retrieval-augmented large language models,”\\narXiv:2305.14283, 2023.\\n\\nL ILIN, “Advanced\\nlustrated overview,”\\n\\n“Query rewrit-\\narXiv preprint\\n\\nrag techniques:\\n\\n \\n\\n \\n\\nW. Peng, G. Li, Y. Jiang, Z. Wang, D. Ou, X. Zeng, E. Chen et al.,\\n“Large language model based long-tail query rewriting in taobao\\nsearch,” arXiv preprint arXiv:2311.03758, 2023.\\n\\nH. S. Zheng, S. Mishra, X. Chen, H.-T. Cheng, E. H. Chi, Q. V. Le,\\nand D. Zhou, “Take a step back: Evoking reasoning via abstraction in\\n\\nlarge language models,” arXiv preprint arXiv:2310.06117, 2023.\\n\\nL. Gao, X. Ma, J. Lin, and J. Callan, “Precise zero-shot dense retrieval\\nwithout relevance labels,” arXiv preprint arXiv:2212.10496, 2022.\\n\\nV. Blagojevi, “Enhancing rag Pipelines i in haystack: introducing « diver-\\nsityranker and lostinthemiddleranker,”\\nenhancing-rag- pipelines-in-haystack-: 5\\nW. Yu, D. Iter, S. Wang, Y. Xu, M. Ju, S. cad Cc. Zhu, M. Zeng,\\nand M. Jiang, “Generate rather than retrieve: Large language models\\nare strong context generators,” arXiv preprint arXiv:2209.10063, 2022.\\nZ. Shao, Y. Gong, Y. Shen, M. Huang, N. Duan, and W. Chen,\\n“Enhancing retrieval-augmented large language models with iterative\\nretrieval-generation synergy,” arXiv preprint arXiv:2305.15294, 2023.\\nX. Wang, Q. Yang, Y. Qiu, J. Liang, Q. He, Z. Gu, Y. Xiao,\\nand W. Wang, “Knowledgpt: Enhancing large language models with\\nretrieval and storage access on knowledge bases,” arXiv preprint\\narXiv:2308.11761, 2023.\\nA. H. Raudaschl,\\nis tags -fusion, ”\\n\\n      \\n\\nthe future\\n\\n  \\n \\n\\nX. Cheng, D. Luo, X. Chen, L. Liu, D. Zhao, and R. Yan, “Lift\\nyourself up: Retrieval-augmented text generation with self memory,”\\narXiv preprint arXiv:2305.02437, 2023.\\n\\nS. Wang, Y. Xu, Y. Fang, Y. Liu, S. Sun, R. Xu, C. Zhu, and\\nM. Zeng, “Training data is more valuable than you think: A simple\\nand effective method by retrieving from training data,” arXiv preprint\\narXiv:2203.08773, 2022.\\n\\n \\n\\n20)\\n\\n21\\n\\n22\\n\\n23\\n\\n24\\n\\n25\\n\\n26\\n\\n27\\n\\n28\\n\\n29\\n\\n30)\\n\\n31\\n\\n32\\n\\n33\\n\\n34)\\n\\n35\\n\\n36\\n\\n37\\n\\n38\\n\\n39\\n\\n40\\n\\n41\\n\\n42\\n\\n43\\n\\n \\n\\nX. Li, E. Nie, and S. Liang, “From classification to generation:\\nInsights into crosslingual retrieval augmented icl,’ arXiv preprint\\narXiv:2311.06595, 2023.\\n\\nD. Cheng, S. Huang, J. Bi, Y. Zhan, J. Liu, Y. Wang, H. Sun,\\nF. Wei, D. Deng, and Q. Zhang, “Uprise: Universal prompt retrieval\\nfor improving zero-shot evaluation,” arXiv preprint arXiv:2303.08518,\\n2023.\\n\\nZ. Dai, V. Y. Zhao, J. Ma, Y. Luan, J. Ni, J. Lu, A. Bakalov, K. Guu,\\nK. B. Hall, and M.-W. Chang, “Promptagator: Few-shot dense retrieval\\nfrom 8 examples,” arXiv preprint arXiv:2209.11755, 2022.\\n\\nZ. Sun, X. Wang, Y. Tay, Y. Yang, and D. Zhou, “Recitation-augmented\\nlanguage models,” arXiv preprint arXiv:2210.01296, 2022.\\n\\nO. Khattab, K. Santhanam, X. L. Li, D. Hall, P. Liang, C. Potts,\\nand M. Zaharia, “Demonstrate-search-predict: Composing retrieval\\nand language models for knowledge-intensive nlp,” arXiv preprint\\narXiv:2212.14024, 2022.\\n\\nZ. Jiang, F. F. Xu, L. Gao, Z. Sun, Q. Liu, J. Dwivedi-Yu, Y. Yang,\\nJ. Callan, and G. Neubig, “Active retrieval augmented generation,”\\narXiv preprint arXiv:2305.06983, 2023.\\n\\nA. Asai, Z. Wu, Y. Wang, A. Sil, and H. Hajishirzi, “Self-rag:\\nLearning to retrieve, generate, and critique through self-reflection,”\\narXiv preprint arXiv:2310.11511, 2023.\\n\\nZ. Ke, W. Kong, C. Li, M. Zhang, Q. Mei, and M. Bendersky,\\n\\n“Bridging the preference gap between retrievers and Ilms,” arXiv\\npreprint arXiv:2401.06954, 2024.\\nX. V. Lin, X. Chen, M. Chen, W. Shi, M. Lomeli, R. James, P. Ro-\\n\\ndriguez, J. Kahn, G. Szilvasy, M. Lewis ef al., “Ra-dit: Retrieval-\\naugmented dual instruction tuning,” arXiv preprint arXiv:2310.01352,\\n2023.\\n\\nO. Ovadia, M. Brief, M. Mishaeli, and O. Elisha,\\nretrieval? comparing knowledge injection in Ilms,”\\narXiv:2312.05934, 2023.\\n\\nT. Lan, D. Cai, Y. Wang, H. Huang, and X.-L. Mao, “Copy is all\\nyou need,” in The Eleventh International Conference on Learning\\nRepresentations, 2022.\\n\\nT. Chen, H. Wang, S. Chen, W. Yu, K. Ma, X. Zhao, D. Yu, and\\nH. Zhang, “Dense x retrieval: What retrieval granularity should we\\nuse?” arXiv preprint arXiv:2312.06648, 2023.\\n\\nF. Luo and M. Surdeanu, “Divide & conquer for entailment-aware\\nmulti-hop evidence retrieval,” arXiv preprint arXiv:2311.02616, 2023.\\nQ. Gou, Z. Xia, B. Yu, H. Yu, F Huang, Y. Li, and N. Cam-Tu,\\n“Diversify question generation with retrieval-augmented style transfer,”\\narXiv preprint arXiv:2310.14503, 2023.\\n\\nZ. Guo, S. Cheng, Y. Wang, P. Li, and Y. Liu, “Prompt-guided re-\\ntrieval augmentation for non-knowledge-intensive tasks,” arXiv preprint\\narXiv:2305.17653, 2023.\\n\\nZ. Wang, J. Araki, Z. Jiang, M. R. Parvez, and G. Neubig, “Learning\\nto filter context for retrieval-augmented generation,” arXiv preprint\\narXiv:2311.08377, 2023.\\n\\nM. Seo, J. Baek, J. Thorne, and S. J. Hwang, “Retrieval-augmented\\ndata augmentation for low-resource domain tasks,” arXiv preprint\\narXiv:2402. 13482, 2024.\\n\\nY. Ma, Y. Cao, Y. Hong, and A. Sun, “Large language model is not\\na good few-shot information extractor, but a good reranker for hard\\nsamples!” arXiv preprint arXiv:2303.08559, 2023.\\n\\nX. Du and H. Ji, “Retrieval-augmented generative question answering\\nfor event argument extraction,” arXiv preprint arXiv:221 1.07067, 2022.\\nL. Wang, N. Yang, and F. Wei, “Learning to retrieve in-context\\nexamples for large language models,” arXiv preprint arXiv:2307.07164,\\n2023.\\n\\nS. Rajput, N. Mehta, A. Singh, R. H. Keshavan, T. Vu, L. Heldt,\\nL. Hong, Y. Tay, V. Q. Tran, J. Samost ef al., “Recommender systems\\nwith generative retrieval,” arXiv preprint arXiv:2305.05065, 2023.\\n\\nB. Jin, H. Zeng, G. Wang, X. Chen, T. Wei, R. Li, Z. Wang, Z. Li,\\nY. Li, H. Lu er al., “Language models as semantic indexers,” arXiv\\npreprint arXiv:2310.07815, 2023.\\n\\nR. Anantha, T. Bethi, D. Vodianik, and S. Chappidi, “Context tuning\\nfor retrieval augmented generation,” arXiv preprint arXiv:2312.05708,\\n2023.\\n\\nG. Izacard, P. Lewis, M. Lomeli, L. Hosseini, F. Petroni, T. Schick,\\nJ. Dwivedi-Yu, A. Joulin, S. Riedel, and E. Grave, “Few-shot\\nlearning with retrieval augmented language models,” arXiv preprint\\narXiv:2208.03299, 2022.\\n\\nJ. Huang, W. Ping, P. Xu, M. Shoeybi, K. C.-C. Chang, and B. Catan-\\nzaro, “Raven: In-context learning with retrieval augmented encoder-\\ndecoder language models,” arXiv preprint arXiv:2308.07922, 2023.\\n\\n“Fine-tuning or\\narXiv preprint\\n\\x0c \\n\\n44\\n\\n45\\n\\n46\\n\\n47\\n\\n48)\\n\\n49\\n\\n50)\\n\\nSI\\n\\n52)\\n\\n53\\n\\n54\\n\\n55\\n\\n56\\n\\n57\\n\\n58\\n\\n59\\n\\n60)\\n\\n61\\n\\n62)\\n\\n63\\n\\n64,\\n\\n65\\n\\n \\n\\nB. Wang, W. Ping, P. Xu, L. McAfee, Z. Liu, M. Shoeybi, Y. Dong,\\nO. Kuchaiev, B. Li, C. Xiao et al., “Shall we pretrain autoregressive\\nlanguage models with retrieval? a comprehensive study,” arXiv preprint\\narXiv:2304.06762, 2023.\\n\\nB. Wang, W. Ping, L. McAfee, P. Xu, B. Li, M. Shoeybi, and B. Catan-\\nzaro, “Instructretro: Instruction tuning post retrieval-augmented pre-\\ntraining,” arXiv preprint arXiv:2310.07713, 2023.\\n\\nS. Siriwardhana, R. Weerasekera, E. Wen, T. Kaluarachchi, R. Rana,\\nand S. Nanayakkara, “Improving the domain adaptation of retrieval\\naugmented generation (rag) models for open domain question answer-\\ning,” Transactions of the Association for Computational Linguistics,\\nvol. 11, pp. 1-17, 2023.\\n\\nZ. Yu, C. Xiong, S. Yu, and Z. Liu, “Augmentation-adapted retriever\\nimproves generalization of language models as generic plug-in,” arXiv\\npreprint arXiv:2305.17331, 2023.\\n\\nO. Yoran, T. Wolfson, O. Ram, and J. Berant, “Making retrieval-\\naugmented language models robust to irrelevant context,” arXiv\\npreprint arXiv:2310.01558, 2023.\\n\\nH.-T. Chen, F. Xu, S. A. Arora, and E. Choi, “Understanding re-\\ntrieval augmentation for long-form question answering,” arXiv preprint\\narXiv:2310.12150, 2023.\\n\\nW. Yu, H. Zhang, X. Pan, K. Ma, H. Wang, and D. Yu, “Chain-of-note:\\nEnhancing robustness in retrieval-augmented language models,” arXiv\\npreprint arXiv:2311.09210, 2023.\\n\\nS. Xu, L. Pang, H. Shen, X. Cheng, and T.-S. Chua, “Search-in-the-\\nchain: Towards accurate, credible and traceable large language models\\nfor knowledgeintensive tasks,” CoRR, vol. abs/2304.14732, 2023.\\n\\nM. Berchansky, P. Izsak, A. Caciularu, I. Dagan, and M. Wasserblat,\\n“Optimizing retrieval-augmented reader models via token elimination,”\\narXiv preprint arXiv:2310.13682, 2023.\\n\\nJ. Lala, O. O\\'Donoghue, A. Shtedritski, S. Cox, S. G. Rodriques,\\nand A. D. White, “Paperqa: Retrieval-augmented generative agent for\\nscientific research,” arXiv preprint arXiv:2312.07559, 2023.\\n\\nF. Cuconasu, G. Trappolini, F. Siciliano, S. Filice, C. Campagnano,\\nY. Maarek, N. Tonellotto, and F. Silvestri, “The power of noise:\\nRedefining retrieval for rag systems,” arXiv preprint arXiv:2401.14887,\\n2024.\\n\\nZ. Zhang, X. Zhang, Y. Ren, S. Shi, M. Han, Y. Wu, R. Lai, and\\nZ. Cao, “Tag: Induction-augmented generation framework for answer-\\ning reasoning questions,” in Proceedings of the 2023 Conference on\\nEmpirical Methods in Natural Language Processing, 2023, pp. 1-14.\\nN. Thakur, L. Bonifacio, X. Zhang, O. Ogundepo, E. Kamalloo,\\nD. Alfonso-Hermelo, X. Li, Q. Liu, B. Chen, M. Rezagholizadeh et al.,\\n“Nomiracl: Knowing when you don’t know for robust multilingual\\nretrieval-augmented generation,” arXiv preprint arXiv:2312.11361,\\n2023.\\n\\nG. Kim, S. Kim, B. Jeon, J. Park, and J. Kang, “Tree of clarifica-\\ntions: Answering ambiguous questions with retrieval-augmented large\\nlanguage models,” arXiv preprint arXiv:2310.14696, 2023.\\n\\nY. Wang, P. Li, M. Sun, and Y. Liu, “Self-knowledge guided\\nretrieval augmentation for large language models,” arXiv preprint\\narXiv:2310.05002, 2023.\\n\\nZ. Feng, X. Feng, D. Zhao, M. Yang, and B. Qin, “Retrieval-\\ngeneration synergy augmented large language models,” arXiv preprint\\narXiv:2310.05149, 2023.\\n\\nP. Xu, W. Ping, X. Wu, L. McAfee, C. Zhu, Z. Liu, S. Subramanian,\\nE. Bakhturina, M. Shoeybi, and B. Catanzaro, “Retrieval meets long\\ncontext large language models,” arXiv preprint arXiv:2310.03025,\\n2023.\\n\\nH. Trivedi, N. Balasubramanian, T. Khot, and A. Sabharwal, “Interleav-\\ning retrieval with chain-of-thought reasoning for knowledge-intensive\\nmulti-step questions,” arXiv preprint arXiv:2212.10509, 2022.\\n\\nR. Ren, Y. Wang, Y. Qu, W. X. Zhao, J. Liu, H. Tian, H. Wu, J.-\\nR. Wen, and H. Wang, “Investigating the factual knowledge boundary\\nof large language models with retrieval augmentation,” arXiv preprint\\narXiv:2307.11019, 2023.\\n\\nP. Sarthi, S. Abdullah, A. Tuli, S. Khanna, A. Goldie, and C. D.\\nManning, “Raptor: Recursive abstractive processing for tree-organized\\nretrieval,” arXiv preprint arXiv:2401.18059, 2024.\\n\\nO. Ram, Y. Levine, I. Dalmedigos, D. Muhlgay, A. Shashua, K. Leyton-\\nBrown, and Y. Shoham, “In-context retrieval-augmented language\\nmodels,” arXiv preprint arXiv:2302.00083, 2023.\\n\\nY. Ren, Y. Cao, P. Guo, F. Fang, W. Ma, and Z. Lin, “Retrieve-and-\\nsample: Document-level event argument extraction via hybrid retrieval\\naugmentation,” in Proceedings of the 61st Annual Meeting of the\\nAssociation for Computational Linguistics (Volume 1: Long Papers),\\n2023, pp. 293-306.\\n\\n \\n\\n66\\n\\n67\\n\\n68\\n\\n69\\n\\n70)\\n\\n71\\n\\n72\\n\\n73\\n\\n74\\n\\n75\\n\\n76\\n\\n77\\n\\n78\\n\\n79\\n\\n80)\\n\\n81\\n\\n82\\n\\n83\\n\\n84)\\n\\n85\\n\\n86\\n\\n87\\n\\n88\\n\\n \\n\\n      \\n\\nZ. Wang, X. Pan, D. Yu, D. Yu, J. Chen, and H. Ji, “Zemi: Learning\\nzero-shot semi-parametric language models from multiple tasks,” arXiv\\npreprint arXiv:2210.00185, 2022.\\n\\nS.-Q. Yan, J.-C. Gu, Y. Zhu, and Z.-H. Ling, “Corrective retrieval\\naugmented generation,” arXiv preprint arXiv:2401.15884, 2024.\\n\\nP. Jain, L. B. Soares, and T. Kwiatkowski, “1-pager: One pass answer\\ngeneration and evidence retrieval,” arXiv preprint arXiv:2310.16568,\\n2023.\\n\\nH. Yang, Z. Li, Y. Zhang, J. Wang, N. Cheng, M. Li, and J. Xiao, “Prea:\\nFitting black-box large language models for retrieval question answer-\\ning via pluggable reward-driven contextual adapter,” arXiv preprint\\narXiv:2310.18347, 2023.\\n\\nS. Zhuang, B. Liu, B. Koopman, and G. Zuccon, “Open-source large\\nlanguage models are strong zero-shot query likelihood models for\\ndocument ranking,” arXiv preprint arXiv:2310.13243, 2023.\\n\\nF. Xu, W. Shi, and E. Choi, “Recomp: Improving retrieval-augmented\\nIms with compression and selective augmentation,” arXiv preprint\\narXiv:2310.04408, 2023.\\n\\nW. Shi, S. Min, M. Yasunaga, M. Seo, R. James, M. Lewis, L. Zettle-\\nmoyer, and W.-t. Yih, “Replug: Retrieval-augmented black-box lan-\\nguage models,” arXiv preprint arXiv:2301.12652, 2023.\\n\\nE. Melz, “Enhancing Im intelligence with arm-rag: Auxiliary ra-\\ntionale memory for retrieval augmented generation,” arXiv preprint\\narXiv:2311.04177, 2023.\\n\\nH. Wang, W. Huang, Y. Deng, R. Wang, Z. Wang, Y. Wang, F. Mi,\\nJ. Z. Pan, and K.-F. Wong, “Unims-rag: A unified multi-source\\nretrieval-augmented generation for personalized dialogue systems,”\\narXiv preprint arXiv:2401.13256, 2024.\\n\\nZ. Luo, C. Xu, P. Zhao, X. Geng, C. Tao, J. Ma, Q. Lin, and D. Jiang,\\n“Augmented large language models with parametric knowledge guid-\\ning,” arXiv preprint arXiv:2305.04757, 2023.\\n\\nX. Li, Z. Liu, C. Xiong, S. Yu, Y. Gu, Z. Liu, and G. Yu, “Structure-\\naware language model pretraining improves dense retrieval on struc-\\ntured data,” arXiv preprint arXiv:2305.19912, 2023.\\n\\nM. Kang, J. M. Kwak, J. Baek, and S. J. Hwang, “Knowledge\\ngraph-augmented language models for knowledge-grounded dialogue\\ngeneration,” arXiv preprint arXiv:2305.18846, 2023.\\n\\nW. Shen, Y. Gao, C. Huang, F. Wan, X. Quan, and W. Bi, “Retrieval-\\ngeneration alignment for end-to-end task-oriented dialogue system,”\\narXiv preprint arXiv:2310.08877, 2023.\\n\\nT. Shi, L. Li, Z. Lin, T. Yang, X. Quan, and Q. Wang, “Dual-feedback\\nknowledge retrieval for task-oriented dialogue systems,” arXiv preprint\\narXiv:2310.14528, 2023.\\n\\nP. Ranade and A. Joshi, “Fabula: Intelligence report generation\\nusing retrieval-augmented narrative construction,’ arXiv preprint\\narXiv:2310.13848, 2023.\\n\\nX. Jiang, R. Zhang, Y. Xu, R. Qiu, Y. Fang, Z. Wang, J. Tang,\\nH. Ding, X. Chu, J. Zhao et al., “Think and retrieval: A hypothesis\\nknowledge graph enhanced medical large language models,” arXiv\\npreprint arXiv:2312.15883, 2023.\\n\\nJ. Baek, S. Jeong, M. Kang, J. C. Park, and S. J. Hwang,\\n“Knowledge-augmented language model verification,” arXiv preprint\\narXiv:2310.12836, 2023.\\n\\nL. Luo, Y.-F. Li, G. Haffari, and S. Pan, “Reasoning on graphs: Faithful\\nand interpretable large language model reasoning,” arXiv preprint\\narXiv:2310.01061, 2023.\\n\\nX. He, Y. Tian, Y. Sun, N. V. Chawla, T. Laurent, Y. LeCun,\\nX. Bresson, and B. Hooi, “G-retriever: Retrieval-augmented generation\\nfor textual graph understanding and question answering,” arXiv preprint\\narXiv:2402.07630, 2024.\\n\\nL. Zha, J. Zhou, L. Li, R. Wang, Q. Huang, S. Yang, J. Yuan, C. Su,\\nX. Li, A. Su et al., “Tablegpt: Towards unifying tables, nature language\\nand commands into one gpt,” arXiv preprint arXiv:2307.08674, 2023.\\nM. Gaur, K. Gunaratna, V. Srinivasan, and H. Jin, “Iseeq: Information\\nseeking question generation using dynamic meta-information retrieval\\nand knowledge graphs,” in Proceedings of the AAAI Conference on\\nArtificial Intelligence, vol. 36, no. 10, 2022, pp. 10672-10680.\\n\\nF. Shi, X. Chen, K. Misra, N. Scales, D. Dohan, E. H. Chi, N. Schirli,\\nand D. Zhou, “Large language models can be easily distracted by\\nirrelevant context,” in International Conference on Machine Learning.\\nPMLR, 2023, pp. 31 210-31 227.\\n\\nR. Teja, “Evaluating the ideal chunk\\n\\nsize for a rag\\n\\n        \\n\\x0c89\\n\\n90)\\n\\n91\\n\\n92)\\n\\n93\\n\\n94.\\n\\n95\\n\\n96\\n\\n97\\n\\n98\\n\\n \\n\\n99)\\n\\n[100\\n\\n101\\n\\n102\\n\\n103\\n\\n104\\n\\n105\\n\\n106\\n\\n107\\n\\n108\\n\\n109\\n\\n110\\n\\n \\n\\n11\\n\\n \\n\\n \\n\\n  \\n\\nLangchain, “Recursively split by character,” /https://python.langchain.\\ncom/docs/modules/data_connection/document_transformers/recursive\\n\\ntext_splitter, 2023.\\n: ‘ang,\\n\\n \\n\\n   \\n\\n“Advanced rag Ol: Small-to-\\nbig retrieval,”\\n\\nhttps://towardsdatascience.com/\\n81639\\n\\nadvanced-rag-01-small-to-big-retrieval- b :\\nY. Wang, N. Lipka, R. A. Rossi, A. Siu, R. Zhang, and T. Derr,\\n“Knowledge graph prompting for multi-document question answering,”\\narXiv preprint arXiv:2308.11730, 2023.\\n\\nD. Zhou, N. Schirli, L. Hou, J. Wei, N. Scales, X. Wang, D. Schu-\\nurmans, C. Cui, O. Bousquet, Q. Le ef al., “Least-to-most prompting\\nenables complex reasoning in large language models,” arXiv preprint\\narXiv:2205.10625, 2022.\\n\\nS. Dhuliawala, M. Komeili, J. Xu, R. Raileanu, X. Li, A. Celikyilmaz,\\nand J. Weston, “Chain-of-verification reduces hallucination in large\\nlanguage models,” arXiv preprint arXiv:2309.11495, 2023.\\n\\nX. Li and J. Li, “Angle-optimized text embeddings,” arXiv preprint\\narXiv:2309.12871, 2023.\\n\\nVoyageAl, “Voyage’s embedding models,” |https://docs.voyageai.com/\\nembeddings/ 2023.\\nhttps://github.com/FlagOpen/\\n\\nBAAI, “Flagembedding,”\\n2023.\\nP. Zhang, S. Xiao, Z. Liu, Z. Dou, and J.-Y. Nie, “Retrieve anything\\nto augment large language models,” arXiv preprint arXiv:2310.07554,\\n2023.\\n\\nN. F. Liu, K. Lin, J. Hewitt, A. Paranjape, M. Bevilacqua, F. Petroni,\\nand P. Liang, “Lost in the middle: How language models use long\\ncontexts,” arXiv preprint arXiv:2307.03172, 2023.\\n\\nY. Gao, T. Sheng, Y. Xiang, Y. Xiong, H. Wang, and J. Zhang, “Chat-\\nrec: Towards interactive and explainable Ilms-augmented recommender\\nsystem,” arXiv preprint arXiv:2303.14524, 2023.\\n\\nN. Anderson, C. Wilson, and S. D. Richardson, “Lingua: Addressing\\nscenarios for live interpretation and automatic dubbing,” in Proceedings\\nof the I5th Biennial Conference of the Association for Machine\\nTranslation in the Americas (Volume 2: Users and Providers Track\\nand Government Track), J. Campbell, S. Larocca, J. Marciano,\\nK. Savenkov, and A. Yanishevsky, Eds. Orlando, USA: Association\\nfor Machine Translation in the Americas, Sep. 2022, pp. 202-209.\\n[Onlin]. Available: hips:/aclanihology rg/2022.amta-upe. 4\\n\\nH. Jiang, Q. Wu, X. Luo, D. Li, C.-Y. Lin, Y. Yang, and L. Qiu,\\n“Longllmlingua: Accelerating and enhancing Ilms in long context\\nscenarios via prompt compression,” arXiv preprint arXiv:2310.06839,\\n2023.\\n\\nV. Karpukhin, B. Oguz, S. Min, P. Lewis, L. Wu, S. Edunov, D. Chen,\\nand W.-t. Yih, “Dense passage retrieval for open-domain question\\nanswering,” arXiv preprint arXiv:2004.04906, 2020.\\n\\nY. Ma, Y. Cao, Y. Hong, and A. Sun, “Large language model is\\nnot a good few-shot information extractor, but a good reranker for\\nhard samples!” ArXiv, vol. abs/2303.08559, 2023. [Online]. Available:\\nhttps://api.semanticscholar.org/CorpusID:257532405,\\n\\nJ. Cui, Z. Li, Y. Yan, B. Chen, and L. Yuan, “Chatlaw: Open-source\\nlegal large language model with integrated external knowledge bases,”\\narXiv preprint arXiv:2306.16092, 2023.\\n\\nO. Yoran, T. Wolfson, O. Ram, and J. Berant, “Making retrieval-\\naugmented language models robust to irrelevant context,” arXiv\\npreprint arXiv:2310.01558, 2023.\\n\\nX. Li, R. Zhao, Y. K. Chia, B. Ding, L. Bing, S. Joty, and S. Poria,\\n“Chain of knowledge: A framework for grounding large language mod-\\nels with structured knowledge bases,” arXiv preprint arXiv:2305.13269,\\n2023.\\n\\nH. Yang, S. Yue, and Y. He, “Auto-gpt for online decision\\nmaking: Benchmarks and additional opinions,” arXiv preprint\\narXiv:2306.02224, 2023.\\n\\nT. Schick, J. Dwivedi-Yu, R. Dessi, R. Raileanu, M. Lomeli, L. Zettle-\\nmoyer, N. Cancedda, and T. Scialom, “Toolformer: Language models\\ncan teach themselves to use tools,” arXiv preprint arXiv:2302.04761,\\n2023.\\n\\nJ. Zhang, “Graph-toolformer: To empower lIlms with graph rea-\\nsoning ability via prompt augmented by chatgpt,’ arXiv preprint\\narXiv:2304.11116, 2023.\\n\\nR. Nakano, J. Hilton, S. Balaji, J. Wu, L. Ouyang, C. Kim,\\nC. Hesse, S. Jain, V. Kosaraju, W. Saunders et al., “Webgpt: Browser-\\nassisted question-answering with human feedback,” arXiv preprint\\narXiv:2112.09332, 2021.\\n\\nT. Kwiatkowski, J. Palomaki, O. Redfield, M. Collins, A. Parikh,\\nC. Alberti, D. Epstein, I. Polosukhin, J. Devlin, K. Lee er al., “Natural\\nquestions: a benchmark for question answering research,” Transactions\\n\\n \\n     \\n\\n \\n\\n \\n\\n \\n\\n \\n\\n112\\n\\n113\\n\\n114\\n\\n115\\n\\n116\\n\\n117\\n\\n118\\n\\n119\\n\\n120\\n\\n121\\n\\n122\\n\\n123\\n\\n124\\n\\n125\\n\\n126\\n\\n127\\n\\n128\\n\\n129\\n\\n130\\n\\n131\\n\\n132\\n\\n133\\n\\n134\\n\\n \\n\\nof the Association for Computational Linguistics, vol. 7, pp. 453-466,\\n2019.\\n\\nY. Liu, S. Yavuz, R. Meng, M. Moorthy, S. Joty, C. Xiong, and Y. Zhou,\\n“Exploring the integration strategies of retriever and large language\\nmodels,” arXiv preprint arXiv:2308.12574, 2023.\\n\\nM. Joshi, E. Choi, D. S. Weld, and L. Zettlemoyer, “Triviaqa: A large\\nscale distantly supervised challenge dataset for reading comprehen-\\nsion,” arXiv preprint arXiv:1705.03551, 2017.\\n\\nP. Rajpurkar, J. Zhang, K. Lopyrev, and P. Liang, “Squad: 100,000+\\nquestions for machine comprehension of text,’ arXiv preprint\\narXiv:1606.05250, 2016.\\n\\nJ. Berant, A. Chou, R. Frostig, and P. Liang, “Semantic parsing on\\nfreebase from question-answer pairs,” in Proceedings of the 2013\\nconference on empirical methods in natural language processing, 2013,\\npp. 1533-1544.\\n\\nA. Mallen, A. Asai, V. Zhong, R. Das, H. Hajishirzi, and D. Khashabi,\\n“When not to trust language models: Investigating effectiveness and\\nlimitations of parametric and non-parametric memories,” arXiv preprint\\narXiv:2212.10511, 2022.\\n\\nT. Nguyen, M. Rosenberg, X. Song, J. Gao, S. Tiwary, R. Majumder,\\nand L. Deng, “Ms marco: A human-generated machine reading com-\\nprehension dataset,” 2016.\\n\\nZ. Yang, P. Qi, S. Zhang, Y. Bengio, W. W. Cohen, R. Salakhutdi-\\nnov, and C. D. Manning, “Hotpotqa: A dataset for diverse, explain-\\nable multi-hop question answering,” arXiv preprint arXiv: 1809.09600,\\n2018.\\n\\nX. Ho, A.-K. D. Nguyen, S. Sugawara, and A. Aizawa, “Constructing a\\nmulti-hop ga dataset for comprehensive evaluation of reasoning steps,”\\narXiv preprint arXiv:2011.01060, 2020.\\n\\nH. Trivedi, N. Balasubramanian, T. Khot, and A. Sabharwal, “Musique:\\nMultihop questions via single-hop question composition,” Transactions\\nof the Association for Computational Linguistics, vol. 10, pp. 539-554,\\n2022.\\n\\nA. Fan, Y. Jernite, E. Perez, D. Grangier, J. Weston, and M. Auli, “EliS:\\nLong form question answering,” arXiv preprint arXiv:1907.09190,\\n2019.\\n\\nT. Koéisky, J. Schwarz, P. Blunsom, C. Dyer, K. M. Hermann, G. Melis,\\nand E. Grefenstette, “The narrativeqa reading comprehension chal-\\nlenge,” Transactions of the Association for Computational Linguistics,\\nvol. 6, pp. 317-328, 2018.\\n\\nK.-H. Lee, X. Chen, H. Furuta, J. Canny, and I. Fischer, “A human-\\ninspired reading agent with gist memory of very long contexts,” arXiv\\npreprint arXiv:2402.09727, 2024.\\n\\nI. Stelmakh, Y. Luan, B. Dhingra, and M.-W. Chang, “Asqa: Factoid\\nquestions meet long-form answers,” arXiv preprint arXiv:2204.06092,\\n2022.\\n\\nM. Zhong, D. Yin, T. Yu, A. Zaidi, M. Mutuma, R. Jha, A. H.\\nAwadallah, A. Celikyilmaz, Y. Liu, X. Qiu er al., “Qmsum: A new\\nbenchmark for query-based multi-domain meeting summarization,”\\narXiv preprint arXiv:2104.05938, 2021.\\n\\nP. Dasigi, K. Lo, I. Beltagy, A. Cohan, N. A. Smith, and M. Gardner,\\n“A dataset of information-seeking questions and answers anchored in\\nresearch papers,” arXiv preprint arXiv:2105.03011, 2021.\\n\\nT. Moller, A. Reina, R. Jayakumar, and M. Pietsch, “Covid-qa: A\\nquestion answering dataset for covid-19,” in ACL 2020 Workshop on\\nNatural Language Processing for COVID-19 (NLP-COVID), 2020.\\n\\nX. Wang, G. H. Chen, D. Song, Z. Zhang, Z. Chen, Q. Xiao, F. Jiang,\\nJ. Li, X. Wan, B. Wang et al., “Cmb: A comprehensive medical\\nbenchmark in chinese,” arXiv preprint arXiv:2308.08833, 2023.\\n\\nH. Zeng, “Measuring massive multitask chinese understanding,” arXiv\\npreprint arXiv:2304.12986, 2023.\\n\\nR. Y. Pang, A. Parrish, N. Joshi, N. Nangia, J. Phang, A. Chen, V. Pad-\\nmakumar, J. Ma, J. Thompson, H. He ef al., “Quality: Question an-\\nswering with long input texts, yes!” arXiv preprint arXiv:2112.08608,\\n2021.\\n\\nP. Clark, I. Cowhey, O. Etzioni, T. Khot, A. Sabharwal, C. Schoenick,\\nand O. Tafjord, “Think you have solved question answering? try arc,\\nthe ai2 reasoning challenge,” arXiv preprint arXiv: 1803.05457, 2018.\\nA. Talmor, J. Herzig, N. Lourie, and J. Berant, “Commonsenseqa:\\nA question answering challenge targeting commonsense knowledge,”\\narXiv preprint arXiv:1811.00937, 2018.\\n\\nE. Dinan, S. Roller, K. Shuster, A. Fan, M. Auli, and J. Weston,\\n“Wizard of wikipedia: Knowledge-powered conversational agents,”\\narXiv preprint arXiv:1811.01241, 2018.\\n\\nH. Wang, M. Hu, Y. Deng, R. Wang, F. Mi, W. Wang, Y. Wang, W.-\\nC. Kwan, I. King, and K.-F. Wong, “Large language models as source\\n\\x0c \\n\\n135\\n\\n136\\n\\n137\\n\\n138\\n\\n139\\n\\n140\\n\\n141\\n\\n142\\n\\n143\\n\\n144\\n\\n145\\n\\n146\\n\\n147\\n\\n148\\n\\n149\\n\\n150.\\n\\n151\\n\\n152\\n\\n153\\n\\n154\\n\\n155\\n\\n156\\n\\n \\n\\nplanner for personalized knowledge-grounded dialogue,” arXiv preprint\\narXiv:2310.08840, 2023.\\n\\n, “Large language models as source planner for personal-\\nized knowledge-grounded dialogue,” arXiv preprint arXiv:2310.08840,\\n2023.\\n\\nX. Xu, Z. Gou, W. Wu, Z.-Y. Niu, H. Wu, H. Wang, and S. Wang,\\n“Long time no see! open-domain conversation with long-term persona\\nmemory,” arXiv preprint arXiv:2203.05797, 2022.\\n\\nT.-H. Wen, M. Gasic, N. Mrksic, L. M. Rojas-Barahona, P.-H.\\nSu, S. Ultes, D. Vandyke, and S. Young, “Conditional generation\\nand snapshot learning in neural dialogue systems,’ arXiv preprint\\narXiv: 1606.03352, 2016.\\n\\nR. He and J. McAuley, “Ups and downs: Modeling the visual evolution\\nof fashion trends with one-class collaborative filtering,” in proceedings\\nof the 25th international conference on world wide web, 2016, pp.\\n507-517.\\n\\nS. Li, H. Ji, and J. Han, “Document-level event argument extraction\\nby conditional generation,” arXiv preprint arXiv:2104.05919, 2021.\\nS. Ebner, P. Xia, R. Culkin, K. Rawlins, and B. Van Durme, “Multi-\\nsentence argument linking,” arXiv preprint arXiv:1911.03766, 2019.\\nH. Elsahar, P. Vougiouklis, A. Remaci, C. Gravier, J. Hare, F. Laforest,\\nand E. Simperl, “T-rex: A large scale alignment of natural language\\nwith knowledge base triples,” in Proceedings of the Eleventh Inter-\\nnational Conference on Language Resources and Evaluation (LREC\\n2018), 2018.\\n\\nO. Levy, M. Seo, E. Choi, and L. Zettlemoyer, “Zero-shot relation ex-\\ntraction via reading comprehension,” arXiv preprint arXiv:1706.04115,\\n2017.\\n\\nR. Zellers, A. Holtzman, Y. Bisk, A. Farhadi, and Y. Choi, “Hel-\\nlaswag: Can a machine really finish your sentence?” arXiv preprint\\narXiv:1905.07830, 2019.\\n\\nS. Kim, S. J. Joo, D. Kim, J. Jang, S. Ye, J. Shin, and M. Seo,\\n“The cot collection: Improving zero-shot and few-shot learning of\\nlanguage models via chain-of-thought fine-tuning,” arXiv preprint\\narXiv:2305.14045, 2023.\\n\\nA. Saha, V. Pahuja, M. Khapra, K. Sankaranarayanan, and S. Chandar,\\n“Complex sequential question answering: Towards learning to converse\\nover linked question answer pairs with a knowledge graph,” in Proceed-\\nings of the AAAI conference on artificial intelligence, vol. 32, no. 1,\\n2018.\\n\\nD. Hendrycks, C. Burns, S. Basart, A. Zou, M. Mazeika, D. Song, and\\nJ. Steinhardt, “Measuring massive multitask language understanding,”\\narXiv preprint arXiv:2009.03300, 2020.\\n\\nS. Merity, C. Xiong, J. Bradbury, and R. Socher, “Pointer sentinel\\nmixture models,” arXiv preprint arXiv:1609.07843, 2016.\\n\\nM. Geva, D. Khashabi, E. Segal, T. Khot, D. Roth, and J. Berant,\\n“Did aristotle use a laptop? a question answering benchmark with\\nimplicit reasoning strategies,’ Transactions of the Association for\\nComputational Linguistics, vol. 9, pp. 346-361, 2021.\\n\\nJ. Thorne, A. Vlachos, C. Christodoulopoulos, and A. Mittal, “Fever: a\\nlarge-scale dataset for fact extraction and verification,” arXiv preprint\\narXiv: 1803.05355, 2018.\\n\\nN. Kotonya and F. Toni, “Explainable automated fact-checking for\\npublic health claims,” arXiv preprint arXiv:2010.09926, 2020.\\n\\nR. Lebret, D. Grangier, and M. Auli, “Neural text generation from\\nstructured data with application to the biography domain,” arXiv\\npreprint arXiv: 1603.07771, 2016.\\n\\nH. Hayashi, P. Budania, P. Wang, C. Ackerson, R. Neervannan,\\nand G. Neubig, “Wikiasp: A dataset for multi-domain aspect-based\\nsummarization,” Transactions of the Association for Computational\\nLinguistics, vol. 9, pp. 211-225, 2021.\\n\\nS. Narayan, S. B. Cohen, and M. Lapata, “Don’t give me the details,\\njust the summary! topic-aware convolutional neural networks for ex-\\ntreme summarization,” arXiv preprint arXiv: 1808.08745, 2018.\\n\\nS. Saha, J. A. Junaed, M. Saleki, A. S. Sharma, M. R. Rifat, M. Rahouti,\\nS. I. Ahmed, N. Mohammed, and M. R. Amin, “Vio-lens: A novel\\ndataset of annotated social network posts leading to different forms\\nof communal violence and its evaluation,” in Proceedings of the First\\nWorkshop on Bangla Language Processing (BLP-2023), 2023, pp. 72-\\n84.\\n\\nX. Li and D. Roth, “Learning question classifiers,” in COLING 2002:\\nThe 19th International Conference on Computational Linguistics, 2002.\\nR. Socher, A. Perelygin, J. Wu, J. Chuang, C. D. Manning, A. Y. Ng,\\nand C. Potts, “Recursive deep models for semantic compositionality\\nover a sentiment treebank,” in Proceedings of the 2013 conference on\\nempirical methods in natural language processing, 2013, pp. 1631-\\n1642.\\n\\n \\n\\n \\n\\n157\\n\\n158\\n\\n159\\n\\n160\\n\\n161\\n\\n162\\n\\n163.\\n\\n164\\n\\n165\\n\\n166\\n\\n167\\n\\n168\\n\\n169\\n\\n170\\n\\n171\\n\\n172\\n\\n173.\\n\\n174\\n\\n175\\n\\n176\\n\\n177\\n\\n178\\n\\n179\\n\\n180\\n\\n   \\n   \\n\\n \\n\\n20\\n\\nH. Husain, H.-H. Wu, T. Gazit, M. Allamanis, and M. Brockschmidt,\\n“Codesearchnet challenge: Evaluating the state of semantic code\\nsearch,” arXiv preprint arXiv: 1909.09436, 2019.\\n\\nK. Cobbe, V. Kosaraju, M. Bavarian, M. Chen, H. Jun, L. Kaiser,\\nM. Plappert, J. Tworek, J. Hilton, R. Nakano et al., “Training verifiers\\nto solve math word problems,” arXiv preprint arXiv:2110.14168, 2021.\\nR. Steinberger, B. Pouliquen, A. Widiger, C. Ignat, T. Erjavec, D. Tufis,\\nand D. Varga, “The jrc-acquis: A multilingual aligned parallel corpus\\nwith 20+ languages,” arXiv preprint cs/0609058, 2006.\\n\\nY. Hoshi, D. Miyashita, Y. Ng, K. Tatsuno, Y. Morioka, O. Torii,\\nand J. Deguchi, “Ralle: A framework for developing and eval-\\nuating retrieval-augmented large language models,” arXiv preprint\\narXiv:2308. 10633, 2023.\\n\\nJ. Liu, “Building production-ready rag applications,”\\nengineer/summit/schedule/building-production-ready-rag- applications\\n\\n   \\n\\nI. Nguyen, “Evaluating rag part i: How to evaluate document retrieval,”\\n\\n2023.\\nQ. Leng, K. Uhlenhuth, and A. Polyzotis, “Best practices for\\nIlm evaluation of rag applications,”\\n\\nS. Es, J. James, L. Espinosa-Anke, and S. Schockaert, “Ragas: Au-\\ntomated evaluation of retrieval augmented generation,” arXiv preprint\\narXiv:2309.15217, 2023.\\n\\nJ. Saad-Falcon, O. Khattab, C. Potts, and M. Zaharia, “Ares: An\\nautomated evaluation framework for retrieval-augmented generation\\nsystems,” arXiv preprint arXiv:2311.09476, 2023.\\n\\n \\n     \\n\\n \\n \\n\\nC. Jarvis and J. Allard, “A survey of techniques for\\nmaximizing Im performance,” https://community.openai.\\n\\n \\n\\ncom/t/openai-dev-day-2023-breakout-sessions/505213#\\n0\\n\\na-survey- of-techniques-for-maximizing-IIm-performance- .\\nJ. Chen, H. Lin, X. Han, and L. Sun, “Benchmarking large lan-\\n\\nguage models in retrieval-augmented generation,” arXiv preprint\\narXiv:2309.01431, 2023.\\n\\nY. Liu, L. Huang, S. Li, S. Chen, H. Zhou, F. Meng, J. Zhou, and\\nX. Sun, “Recall: A benchmark for llms robustness against external\\ncounterfactual knowledge,” arXiv preprint arXiv:2311.08147, 2023.\\nY. Lyu, Z. Li, S. Niu, F. Xiong, B. Tang, W. Wang, H. Wu, H. Liu,\\nT. Xu, and E. Chen, “Crud-rag: A comprehensive chinese benchmark\\nfor retrieval-augmented generation of large language models,” arXiv\\npreprint arXiv:2401.17043, 2024.\\n\\nP. Xu, W. Ping, X. Wu, L. McAfee, C. Zhu, Z. Liu, S. Subramanian,\\nE. Bakhturina, M. Shoeybi, and B. Catanzaro, “Retrieval meets long\\ncontext large language models,” arXiv preprint arXiv:2310.03025,\\n2023.\\n\\nC. Packer, V. Fang, S. G. Patil, K. Lin, S. Wooders, and J. E. Gon-\\nzalez, “Memgpt: Towards Ilms as operating systems,” arXiv preprint\\narXiv:2310.08560, 2023.\\n\\nG. Xiao, Y. Tian, B. Chen, S. Han, and M. Lewis, “Efficient\\nstreaming language models with attention sinks,’ arXiv preprint\\narXiv:2309.17453, 2023.\\n\\nT. Zhang, S. G. Patil, N. Jain, S. Shen, M. Zaharia, I. Stoica, and J. E.\\nGonzalez, “Raft: Adapting language model to domain specific rag,”\\narXiv preprint arXiv:2403.10131, 2024.\\n\\nJ. Kaplan, S. McCandlish, T. Henighan, T. B. Brown, B. Chess,\\nR. Child, S. Gray, A. Radford, J. Wu, and D. Amodei, “Scaling laws\\nfor neural language models,” arXiv preprint arXiv:2001.08361, 2020.\\nU. Alon, F. Xu, J. He, S. Sengupta, D. Roth, and G. Neubig, “Neuro-\\nsymbolic language modeling with automaton-augmented retrieval,” in\\nInternational Conference on Machine Learning. PMLR, 2022, pp.\\n468-485.\\n\\nM. Yasunaga, A. Aghajanyan, W. Shi, R. James, J. Leskovec, P. Liang,\\nM. Lewis, L. Zettlemoyer, and W.-t. Yih, “Retrieval-augmented multi-\\nmodal language modeling,” arXiv preprint arXiv:2211.12561, 2022.\\nJ. Li, D. Li, S. Savarese, and S. Hoi, “Blip-2: Bootstrapping language-\\nimage pre-training with frozen image encoders and large language\\nmodels,” arXiv preprint arXiv:2301.12597, 2023.\\n\\nW. Zhu, A. Yan, Y. Lu, W. Xu, X. E. Wang, M. Eckstein, and W. Y.\\nWang, “Visualize before you write: Imagination-guided open-ended\\ntext generation,” arXiv preprint arXiv:2210.03765, 2022.\\n\\nJ. Zhao, G. Haffar, and E. Shareghi, “Generating synthetic speech from\\nspokenvocab for speech translation,” arXiv preprint arXiv:2210.08174,\\n2022.\\n\\nD. M. Chan, S. Ghosh, A. Rastrow, and B. Hoffmeister, “Using external\\noff-policy speech-to-text mappings in contextual end-to-end automated\\nspeech recognition,” arXiv preprint arXiv:2301.02736, 2023.\\n\\x0c[181]\\n\\n[182]\\n\\nA. Yang, A. Nagrani, P. H. Seo, A. Miech, J. Pont-Tuset, I. Laptev,\\nJ. Sivic, and C. Schmid, “Vid2seq: Large-scale pretraining of a visual\\nlanguage model for dense video captioning,” in Proceedings of the\\nIEEE/CVF Conference on Computer Vision and Pattern Recognition,\\n2023, pp. 10714-10726.\\n\\nN. Nashid, M. Sintaha, and A. Mesbah, “Retrieval-based prompt\\nselection for code-related few-shot learning,” in 2023 IEEE/ACM 45th\\nInternational Conference on Software Engineering (ICSE), 2023, pp.\\n2450-2462.\\n\\n21\\n\\x0c'"
            ],
            "application/vnd.google.colaboratory.intrinsic+json": {
              "type": "string"
            }
          },
          "metadata": {},
          "execution_count": 55
        }
      ]
    },
    {
      "cell_type": "markdown",
      "source": [
        "## **Handling Complex PDFs (Images, Tables, etc.)**"
      ],
      "metadata": {
        "id": "U9Gy7TpqNEmX"
      }
    },
    {
      "cell_type": "code",
      "source": [
        "from unstructured.partition.pdf import partition_pdf"
      ],
      "metadata": {
        "collapsed": true,
        "id": "A3tY39BJMSyW"
      },
      "execution_count": 23,
      "outputs": []
    },
    {
      "cell_type": "code",
      "source": [
        "raw_pdf_elements= partition_pdf(\n",
        "    filename=ragllm,\n",
        "    strategy= \"hi_res\",\n",
        "    extract_images_in_pdf=True,\n",
        "    extract_image_block_types= [\"Image\", \"Table\"],\n",
        "    extract_image_block_to_payload=False,\n",
        "    extract_image_block_output_dir=\"extracted_data2\"\n",
        "    )"
      ],
      "metadata": {
        "id": "B8foVs2eNT7C"
      },
      "execution_count": 24,
      "outputs": []
    },
    {
      "cell_type": "code",
      "source": [
        "raw_pdf_elements"
      ],
      "metadata": {
        "collapsed": true,
        "id": "zUu84pblNUIf",
        "outputId": "9bddb39a-b7ea-4e90-d5ed-d7fc69d877a5",
        "colab": {
          "base_uri": "https://localhost:8080/"
        }
      },
      "execution_count": 25,
      "outputs": [
        {
          "output_type": "execute_result",
          "data": {
            "text/plain": [
              "[<unstructured.documents.elements.Text at 0x7852971b7e80>,\n",
              " <unstructured.documents.elements.Header at 0x7851e5b2f160>,\n",
              " <unstructured.documents.elements.Title at 0x7851e5b2cc70>,\n",
              " <unstructured.documents.elements.NarrativeText at 0x7851e5b2cd00>,\n",
              " <unstructured.documents.elements.NarrativeText at 0x7851e5b2fc40>,\n",
              " <unstructured.documents.elements.NarrativeText at 0x7851e5b2f460>,\n",
              " <unstructured.documents.elements.NarrativeText at 0x7851e5b2d750>,\n",
              " <unstructured.documents.elements.Title at 0x7851e83f4df0>,\n",
              " <unstructured.documents.elements.NarrativeText at 0x7851e5b2d0f0>,\n",
              " <unstructured.documents.elements.NarrativeText at 0x7851e5b2ea70>,\n",
              " <unstructured.documents.elements.NarrativeText at 0x7851e5b2d060>,\n",
              " <unstructured.documents.elements.NarrativeText at 0x7851e5e9c4c0>,\n",
              " <unstructured.documents.elements.Title at 0x7851e83f52a0>,\n",
              " <unstructured.documents.elements.NarrativeText at 0x7851e83f5210>,\n",
              " <unstructured.documents.elements.Title at 0x7851e3a945b0>,\n",
              " <unstructured.documents.elements.Title at 0x7851e3a94580>,\n",
              " <unstructured.documents.elements.Title at 0x7851e5d49ba0>,\n",
              " <unstructured.documents.elements.NarrativeText at 0x7851e5d49930>,\n",
              " <unstructured.documents.elements.Header at 0x7851e5b2f3d0>,\n",
              " <unstructured.documents.elements.Image at 0x7851e5e9e260>,\n",
              " <unstructured.documents.elements.FigureCaption at 0x7851e5e9c310>,\n",
              " <unstructured.documents.elements.NarrativeText at 0x7851e5e9c6a0>,\n",
              " <unstructured.documents.elements.NarrativeText at 0x7851e5e9c640>,\n",
              " <unstructured.documents.elements.ListItem at 0x7851e5e9c2b0>,\n",
              " <unstructured.documents.elements.ListItem at 0x7851e5e9e080>,\n",
              " <unstructured.documents.elements.Title at 0x7851e5d4b0d0>,\n",
              " <unstructured.documents.elements.NarrativeText at 0x7851e5e9ea10>,\n",
              " <unstructured.documents.elements.NarrativeText at 0x7851e5e9eb30>,\n",
              " <unstructured.documents.elements.NarrativeText at 0x7851e5e9ec20>,\n",
              " <unstructured.documents.elements.Title at 0x7851e5e9e6b0>,\n",
              " <unstructured.documents.elements.NarrativeText at 0x7851e5e9e320>,\n",
              " <unstructured.documents.elements.Header at 0x7851e5e9dab0>,\n",
              " <unstructured.documents.elements.Image at 0x7851e352b1f0>,\n",
              " <unstructured.documents.elements.FigureCaption at 0x7851e352ae00>,\n",
              " <unstructured.documents.elements.NarrativeText at 0x7851e352b6d0>,\n",
              " <unstructured.documents.elements.NarrativeText at 0x7851e5d4abc0>,\n",
              " <unstructured.documents.elements.NarrativeText at 0x7851e5d4a980>,\n",
              " <unstructured.documents.elements.NarrativeText at 0x7851e5d48310>,\n",
              " <unstructured.documents.elements.NarrativeText at 0x7851e352ba60>,\n",
              " <unstructured.documents.elements.NarrativeText at 0x7851e5d49ed0>,\n",
              " <unstructured.documents.elements.Title at 0x7851e352bd60>,\n",
              " <unstructured.documents.elements.NarrativeText at 0x7851e352bbb0>,\n",
              " <unstructured.documents.elements.Header at 0x7851e35286d0>,\n",
              " <unstructured.documents.elements.Image at 0x7851e352b370>,\n",
              " <unstructured.documents.elements.FigureCaption at 0x7851e352a7a0>,\n",
              " <unstructured.documents.elements.NarrativeText at 0x7851e352a890>,\n",
              " <unstructured.documents.elements.NarrativeText at 0x7851e352b9a0>,\n",
              " <unstructured.documents.elements.NarrativeText at 0x7851e352a620>,\n",
              " <unstructured.documents.elements.NarrativeText at 0x7851e3528f10>,\n",
              " <unstructured.documents.elements.NarrativeText at 0x7851e352bcd0>,\n",
              " <unstructured.documents.elements.NarrativeText at 0x7851e3528400>,\n",
              " <unstructured.documents.elements.Header at 0x7851e352a5f0>,\n",
              " <unstructured.documents.elements.NarrativeText at 0x7851e5b2e800>,\n",
              " <unstructured.documents.elements.NarrativeText at 0x7851e352afe0>,\n",
              " <unstructured.documents.elements.NarrativeText at 0x7851e352b2b0>,\n",
              " <unstructured.documents.elements.NarrativeText at 0x7851e352a380>,\n",
              " <unstructured.documents.elements.Title at 0x7851e389cf10>,\n",
              " <unstructured.documents.elements.NarrativeText at 0x7851e389f2b0>,\n",
              " <unstructured.documents.elements.NarrativeText at 0x7851e5b2cf70>,\n",
              " <unstructured.documents.elements.NarrativeText at 0x7851e5b2d0c0>,\n",
              " <unstructured.documents.elements.NarrativeText at 0x7851e352aec0>,\n",
              " <unstructured.documents.elements.Title at 0x7851e5d486d0>,\n",
              " <unstructured.documents.elements.NarrativeText at 0x7851e389cb80>,\n",
              " <unstructured.documents.elements.Title at 0x7851e389cc70>,\n",
              " <unstructured.documents.elements.NarrativeText at 0x7851e389ca00>,\n",
              " <unstructured.documents.elements.NarrativeText at 0x7851e389cf40>,\n",
              " <unstructured.documents.elements.Header at 0x7851e5b2e620>,\n",
              " <unstructured.documents.elements.FigureCaption at 0x7851e389c670>,\n",
              " <unstructured.documents.elements.Table at 0x7851e389d120>,\n",
              " <unstructured.documents.elements.Title at 0x7851e5d49000>,\n",
              " <unstructured.documents.elements.Text at 0x7851e5d49480>,\n",
              " <unstructured.documents.elements.Text at 0x7851e5d49c30>,\n",
              " <unstructured.documents.elements.Text at 0x7851e5d4be50>,\n",
              " <unstructured.documents.elements.Text at 0x7851e5d490c0>,\n",
              " <unstructured.documents.elements.Text at 0x7851e5d49090>,\n",
              " <unstructured.documents.elements.Title at 0x7851e5d4a110>,\n",
              " <unstructured.documents.elements.Text at 0x7851e5d4a800>,\n",
              " <unstructured.documents.elements.Header at 0x7851e389d240>,\n",
              " <unstructured.documents.elements.Image at 0x7851e36c9ed0>,\n",
              " <unstructured.documents.elements.FigureCaption at 0x7851e36ca200>,\n",
              " <unstructured.documents.elements.NarrativeText at 0x7851e36c9ff0>,\n",
              " <unstructured.documents.elements.NarrativeText at 0x7851e36c89a0>,\n",
              " <unstructured.documents.elements.NarrativeText at 0x7851e36ca950>,\n",
              " <unstructured.documents.elements.NarrativeText at 0x7851e36cabf0>,\n",
              " <unstructured.documents.elements.NarrativeText at 0x7851e36caaa0>,\n",
              " <unstructured.documents.elements.NarrativeText at 0x7851e36c8c40>,\n",
              " <unstructured.documents.elements.NarrativeText at 0x7851e36ca350>,\n",
              " <unstructured.documents.elements.Header at 0x7851e36c9fc0>,\n",
              " <unstructured.documents.elements.NarrativeText at 0x7851e36c9c00>,\n",
              " <unstructured.documents.elements.NarrativeText at 0x7851e36c9e10>,\n",
              " <unstructured.documents.elements.NarrativeText at 0x7851e36cbac0>,\n",
              " <unstructured.documents.elements.NarrativeText at 0x7851e36caa40>,\n",
              " <unstructured.documents.elements.NarrativeText at 0x7851e36cbee0>,\n",
              " <unstructured.documents.elements.NarrativeText at 0x7851e36cbb50>,\n",
              " <unstructured.documents.elements.NarrativeText at 0x7851e36c92a0>,\n",
              " <unstructured.documents.elements.NarrativeText at 0x7851e36cbf40>,\n",
              " <unstructured.documents.elements.NarrativeText at 0x7851e36cb730>,\n",
              " <unstructured.documents.elements.NarrativeText at 0x7851e36c9570>,\n",
              " <unstructured.documents.elements.NarrativeText at 0x7851e36cbf70>,\n",
              " <unstructured.documents.elements.NarrativeText at 0x7851e36cbfa0>,\n",
              " <unstructured.documents.elements.NarrativeText at 0x7851e36c9240>,\n",
              " <unstructured.documents.elements.NarrativeText at 0x7851e36cb610>,\n",
              " <unstructured.documents.elements.NarrativeText at 0x7851e36cb5b0>,\n",
              " <unstructured.documents.elements.NarrativeText at 0x7851e36cb310>,\n",
              " <unstructured.documents.elements.Header at 0x7851e36c8f70>,\n",
              " <unstructured.documents.elements.NarrativeText at 0x7851e36c8cd0>,\n",
              " <unstructured.documents.elements.NarrativeText at 0x7851e36c8b20>,\n",
              " <unstructured.documents.elements.NarrativeText at 0x7851e36c8880>,\n",
              " <unstructured.documents.elements.NarrativeText at 0x7851e36caf50>,\n",
              " <unstructured.documents.elements.NarrativeText at 0x7851e36cada0>,\n",
              " <unstructured.documents.elements.NarrativeText at 0x7851e36caf80>,\n",
              " <unstructured.documents.elements.Title at 0x7851e36c9a20>,\n",
              " <unstructured.documents.elements.NarrativeText at 0x7851e36c99f0>,\n",
              " <unstructured.documents.elements.NarrativeText at 0x7851e38de650>,\n",
              " <unstructured.documents.elements.NarrativeText at 0x7851e38dc040>,\n",
              " <unstructured.documents.elements.NarrativeText at 0x7851e36c80d0>,\n",
              " <unstructured.documents.elements.NarrativeText at 0x7851e36c8af0>,\n",
              " <unstructured.documents.elements.NarrativeText at 0x7851e36cb700>,\n",
              " <unstructured.documents.elements.Title at 0x7851e36c9900>,\n",
              " <unstructured.documents.elements.NarrativeText at 0x7851e3856050>,\n",
              " <unstructured.documents.elements.NarrativeText at 0x7851ed9bb310>,\n",
              " <unstructured.documents.elements.Header at 0x7851e36c9390>,\n",
              " <unstructured.documents.elements.NarrativeText at 0x7851e38dd4b0>,\n",
              " <unstructured.documents.elements.Title at 0x7851e38dfa90>,\n",
              " <unstructured.documents.elements.NarrativeText at 0x7851e38dc220>,\n",
              " <unstructured.documents.elements.Title at 0x7851e38dc1c0>,\n",
              " <unstructured.documents.elements.NarrativeText at 0x7851e38dda80>,\n",
              " <unstructured.documents.elements.NarrativeText at 0x7851e38dff40>,\n",
              " <unstructured.documents.elements.NarrativeText at 0x7851e38de0b0>,\n",
              " <unstructured.documents.elements.NarrativeText at 0x7851e38df7f0>,\n",
              " <unstructured.documents.elements.NarrativeText at 0x7851e38ded40>,\n",
              " <unstructured.documents.elements.NarrativeText at 0x7851e38dc0d0>,\n",
              " <unstructured.documents.elements.Title at 0x7851e38dc190>,\n",
              " <unstructured.documents.elements.NarrativeText at 0x7851e38dc3d0>,\n",
              " <unstructured.documents.elements.NarrativeText at 0x7851e38deec0>,\n",
              " <unstructured.documents.elements.NarrativeText at 0x7851e38dd600>,\n",
              " <unstructured.documents.elements.Title at 0x7851e5d48f70>,\n",
              " <unstructured.documents.elements.NarrativeText at 0x7851e38dd480>,\n",
              " <unstructured.documents.elements.Title at 0x7851e38df790>,\n",
              " <unstructured.documents.elements.NarrativeText at 0x7851e38deb60>,\n",
              " <unstructured.documents.elements.Header at 0x7851e38dc610>,\n",
              " <unstructured.documents.elements.Image at 0x7851e38dc880>,\n",
              " <unstructured.documents.elements.FigureCaption at 0x7851e38dc5e0>,\n",
              " <unstructured.documents.elements.NarrativeText at 0x7851e38dfdf0>,\n",
              " <unstructured.documents.elements.Title at 0x7851e38ddb70>,\n",
              " <unstructured.documents.elements.NarrativeText at 0x7851e38de530>,\n",
              " <unstructured.documents.elements.NarrativeText at 0x7851e38df130>,\n",
              " <unstructured.documents.elements.NarrativeText at 0x7851e38dccd0>,\n",
              " <unstructured.documents.elements.Title at 0x7851e38df1f0>,\n",
              " <unstructured.documents.elements.NarrativeText at 0x7851e38dd3f0>,\n",
              " <unstructured.documents.elements.NarrativeText at 0x7851e38de920>,\n",
              " <unstructured.documents.elements.NarrativeText at 0x7851e38de080>,\n",
              " <unstructured.documents.elements.Header at 0x7851e38df580>,\n",
              " <unstructured.documents.elements.NarrativeText at 0x7851e38dfb20>,\n",
              " <unstructured.documents.elements.Title at 0x7851e38dca60>,\n",
              " <unstructured.documents.elements.NarrativeText at 0x7851e38dd5a0>,\n",
              " <unstructured.documents.elements.Title at 0x7851e38ddba0>,\n",
              " <unstructured.documents.elements.NarrativeText at 0x7851e38de770>,\n",
              " <unstructured.documents.elements.Title at 0x7851e38dec80>,\n",
              " <unstructured.documents.elements.NarrativeText at 0x7851e37ce6b0>,\n",
              " <unstructured.documents.elements.NarrativeText at 0x7851e37ce890>,\n",
              " <unstructured.documents.elements.NarrativeText at 0x7851e5d49180>,\n",
              " <unstructured.documents.elements.NarrativeText at 0x7851e38dea40>,\n",
              " <unstructured.documents.elements.NarrativeText at 0x7851e38dceb0>,\n",
              " <unstructured.documents.elements.NarrativeText at 0x7851e38defb0>,\n",
              " <unstructured.documents.elements.NarrativeText at 0x7851e38dd960>,\n",
              " <unstructured.documents.elements.NarrativeText at 0x7851e38dffa0>,\n",
              " <unstructured.documents.elements.NarrativeText at 0x7851e38df880>,\n",
              " <unstructured.documents.elements.NarrativeText at 0x7851e38dca90>,\n",
              " <unstructured.documents.elements.NarrativeText at 0x7851e37cde40>,\n",
              " <unstructured.documents.elements.NarrativeText at 0x7851e37cdf00>,\n",
              " <unstructured.documents.elements.NarrativeText at 0x7851e37cdb70>,\n",
              " <unstructured.documents.elements.NarrativeText at 0x7851e37cdf30>,\n",
              " <unstructured.documents.elements.NarrativeText at 0x7851e37ce8c0>,\n",
              " <unstructured.documents.elements.Header at 0x7851e38dc130>,\n",
              " <unstructured.documents.elements.FigureCaption at 0x7851e37cee90>,\n",
              " <unstructured.documents.elements.Title at 0x7851e5d48160>,\n",
              " <unstructured.documents.elements.Title at 0x7851e5d49ea0>,\n",
              " <unstructured.documents.elements.Title at 0x7851e5d49f30>,\n",
              " <unstructured.documents.elements.Title at 0x7851e5d4be20>,\n",
              " <unstructured.documents.elements.Title at 0x7851e5d4b100>,\n",
              " <unstructured.documents.elements.Table at 0x7851e37cf970>,\n",
              " <unstructured.documents.elements.Title at 0x7851e5d487c0>,\n",
              " <unstructured.documents.elements.Title at 0x7851e5d48040>,\n",
              " <unstructured.documents.elements.Title at 0x7851e5d4b910>,\n",
              " <unstructured.documents.elements.Title at 0x7851e5d4b6a0>,\n",
              " <unstructured.documents.elements.Title at 0x7851e5d48790>,\n",
              " <unstructured.documents.elements.Title at 0x7851e5d484f0>,\n",
              " <unstructured.documents.elements.Title at 0x7851e5d49720>,\n",
              " <unstructured.documents.elements.NarrativeText at 0x7851e5d48cd0>,\n",
              " <unstructured.documents.elements.Text at 0x7851e5d4a320>,\n",
              " <unstructured.documents.elements.Title at 0x7851e5d4b9d0>,\n",
              " <unstructured.documents.elements.Title at 0x7851e5d4b640>,\n",
              " <unstructured.documents.elements.Title at 0x7851e5d4afb0>,\n",
              " <unstructured.documents.elements.Header at 0x7851e37ced10>,\n",
              " <unstructured.documents.elements.FigureCaption at 0x7851e37cfb50>,\n",
              " <unstructured.documents.elements.Table at 0x7851e37cdcf0>,\n",
              " <unstructured.documents.elements.NarrativeText at 0x7851e37cf5e0>,\n",
              " <unstructured.documents.elements.Title at 0x7851e37cd660>,\n",
              " <unstructured.documents.elements.NarrativeText at 0x7851e37cce50>,\n",
              " <unstructured.documents.elements.Title at 0x7851e37cd240>,\n",
              " <unstructured.documents.elements.NarrativeText at 0x7851e37cd2d0>,\n",
              " <unstructured.documents.elements.Title at 0x7851e5e05510>,\n",
              " <unstructured.documents.elements.NarrativeText at 0x7851e5e053f0>,\n",
              " <unstructured.documents.elements.Footer at 0x7851e5e05ba0>,\n",
              " <unstructured.documents.elements.NarrativeText at 0x7851e37cf4c0>,\n",
              " <unstructured.documents.elements.Title at 0x7851e37cd480>,\n",
              " <unstructured.documents.elements.NarrativeText at 0x7851e37cd060>,\n",
              " <unstructured.documents.elements.Title at 0x7851e5e055d0>,\n",
              " <unstructured.documents.elements.NarrativeText at 0x7851e5e059c0>,\n",
              " <unstructured.documents.elements.Header at 0x7851e37cfc40>,\n",
              " <unstructured.documents.elements.FigureCaption at 0x7851e5e062f0>,\n",
              " <unstructured.documents.elements.Table at 0x7851e5e05fc0>,\n",
              " <unstructured.documents.elements.NarrativeText at 0x7851e5e06320>,\n",
              " <unstructured.documents.elements.NarrativeText at 0x7851e5e06620>,\n",
              " <unstructured.documents.elements.Title at 0x7851e5e06770>,\n",
              " <unstructured.documents.elements.NarrativeText at 0x7851e5e06920>,\n",
              " <unstructured.documents.elements.Title at 0x7851e5e06a40>,\n",
              " <unstructured.documents.elements.NarrativeText at 0x7851e5e06b90>,\n",
              " <unstructured.documents.elements.NarrativeText at 0x7851e5e06650>,\n",
              " <unstructured.documents.elements.NarrativeText at 0x7851e5d49210>,\n",
              " <unstructured.documents.elements.Title at 0x7851e5d4b4f0>,\n",
              " <unstructured.documents.elements.Title at 0x7851e5d4ae30>,\n",
              " <unstructured.documents.elements.Header at 0x7851e5e05ed0>,\n",
              " <unstructured.documents.elements.Image at 0x7851e5e07400>,\n",
              " <unstructured.documents.elements.FigureCaption at 0x7851e5e074c0>,\n",
              " <unstructured.documents.elements.NarrativeText at 0x7851e5e075e0>,\n",
              " <unstructured.documents.elements.NarrativeText at 0x7851e5e076d0>,\n",
              " <unstructured.documents.elements.NarrativeText at 0x7851e5e05900>,\n",
              " <unstructured.documents.elements.NarrativeText at 0x7851e5e05810>,\n",
              " <unstructured.documents.elements.Title at 0x7851e5e079d0>,\n",
              " <unstructured.documents.elements.NarrativeText at 0x7851e5e07b50>,\n",
              " <unstructured.documents.elements.NarrativeText at 0x7851e5e05720>,\n",
              " <unstructured.documents.elements.NarrativeText at 0x7851e5e07130>,\n",
              " <unstructured.documents.elements.Title at 0x7851e5d48d60>,\n",
              " <unstructured.documents.elements.NarrativeText at 0x7851e5e07b20>,\n",
              " <unstructured.documents.elements.Header at 0x7851e5e06ec0>,\n",
              " <unstructured.documents.elements.NarrativeText at 0x7851e5e062c0>,\n",
              " <unstructured.documents.elements.Title at 0x7851e5d495a0>,\n",
              " <unstructured.documents.elements.ListItem at 0x7851e365fd60>,\n",
              " <unstructured.documents.elements.ListItem at 0x7851e365ece0>,\n",
              " <unstructured.documents.elements.ListItem at 0x7851e365e170>,\n",
              " <unstructured.documents.elements.NarrativeText at 0x7851e5d49240>,\n",
              " <unstructured.documents.elements.ListItem at 0x7851e365ffa0>,\n",
              " <unstructured.documents.elements.ListItem at 0x7851e365d8d0>,\n",
              " <unstructured.documents.elements.ListItem at 0x7851e365efe0>,\n",
              " <unstructured.documents.elements.ListItem at 0x7851e365ea10>,\n",
              " <unstructured.documents.elements.NarrativeText at 0x7851e5d4b2b0>,\n",
              " <unstructured.documents.elements.Title at 0x7851e5d48220>,\n",
              " <unstructured.documents.elements.NarrativeText at 0x7851e5d4b070>,\n",
              " <unstructured.documents.elements.ListItem at 0x7851e38d1b40>,\n",
              " <unstructured.documents.elements.ListItem at 0x7851e38d2140>,\n",
              " <unstructured.documents.elements.ListItem at 0x7851e38d0400>,\n",
              " <unstructured.documents.elements.ListItem at 0x7851e5e06200>,\n",
              " <unstructured.documents.elements.ListItem at 0x7851e5e052a0>,\n",
              " <unstructured.documents.elements.ListItem at 0x7851e5e04700>,\n",
              " <unstructured.documents.elements.ListItem at 0x7851e365fdf0>,\n",
              " <unstructured.documents.elements.ListItem at 0x7851e365f670>,\n",
              " <unstructured.documents.elements.ListItem at 0x7851e365ffd0>,\n",
              " <unstructured.documents.elements.ListItem at 0x7851e365f790>,\n",
              " <unstructured.documents.elements.ListItem at 0x7851e365f760>,\n",
              " <unstructured.documents.elements.ListItem at 0x7851e365db40>,\n",
              " <unstructured.documents.elements.ListItem at 0x7851e365db70>,\n",
              " <unstructured.documents.elements.ListItem at 0x7851e365e890>,\n",
              " <unstructured.documents.elements.ListItem at 0x7851e365f5e0>,\n",
              " <unstructured.documents.elements.NarrativeText at 0x7851e5d48970>,\n",
              " <unstructured.documents.elements.ListItem at 0x7851e365e9b0>,\n",
              " <unstructured.documents.elements.ListItem at 0x7851e365e8f0>,\n",
              " <unstructured.documents.elements.ListItem at 0x7851e365eef0>,\n",
              " <unstructured.documents.elements.ListItem at 0x7851e38d0490>,\n",
              " <unstructured.documents.elements.NarrativeText at 0x7851e5d488e0>,\n",
              " <unstructured.documents.elements.NarrativeText at 0x7851e5d4b1c0>,\n",
              " <unstructured.documents.elements.ListItem at 0x7851e38d1900>,\n",
              " <unstructured.documents.elements.ListItem at 0x7851e38d1cf0>,\n",
              " <unstructured.documents.elements.ListItem at 0x7851e38d20e0>,\n",
              " <unstructured.documents.elements.Header at 0x7851e5e061a0>,\n",
              " <unstructured.documents.elements.ListItem at 0x7851e38d2050>,\n",
              " <unstructured.documents.elements.ListItem at 0x7851e38d0160>,\n",
              " <unstructured.documents.elements.ListItem at 0x7851e38d21a0>,\n",
              " <unstructured.documents.elements.ListItem at 0x7851e38d22f0>,\n",
              " <unstructured.documents.elements.ListItem at 0x7851e38d0700>,\n",
              " <unstructured.documents.elements.ListItem at 0x7851e38d0a90>,\n",
              " <unstructured.documents.elements.ListItem at 0x7851e38d0d00>,\n",
              " <unstructured.documents.elements.NarrativeText at 0x7851e5d48190>,\n",
              " <unstructured.documents.elements.ListItem at 0x7851e38d3f10>,\n",
              " <unstructured.documents.elements.ListItem at 0x7851e5d486a0>,\n",
              " <unstructured.documents.elements.NarrativeText at 0x7851e5d4bca0>,\n",
              " <unstructured.documents.elements.ListItem at 0x7851e5d4aec0>,\n",
              " <unstructured.documents.elements.ListItem at 0x7851e5d4a530>,\n",
              " <unstructured.documents.elements.ListItem at 0x7851e5d4bd90>,\n",
              " <unstructured.documents.elements.ListItem at 0x7851e5d4a680>,\n",
              " <unstructured.documents.elements.NarrativeText at 0x7851e5d48a30>,\n",
              " <unstructured.documents.elements.ListItem at 0x7851e5d493c0>,\n",
              " <unstructured.documents.elements.ListItem at 0x7851e5d49420>,\n",
              " <unstructured.documents.elements.ListItem at 0x7851e5d48df0>,\n",
              " <unstructured.documents.elements.Header at 0x7851e38d1a20>,\n",
              " <unstructured.documents.elements.ListItem at 0x7851e38d0070>,\n",
              " <unstructured.documents.elements.NarrativeText at 0x7851e5d4baf0>,\n",
              " <unstructured.documents.elements.ListItem at 0x7851e38d0100>,\n",
              " <unstructured.documents.elements.ListItem at 0x7851e38d08e0>,\n",
              " <unstructured.documents.elements.ListItem at 0x7851e38d0910>,\n",
              " <unstructured.documents.elements.ListItem at 0x7851e38d2230>,\n",
              " <unstructured.documents.elements.ListItem at 0x7851e38d0be0>,\n",
              " <unstructured.documents.elements.ListItem at 0x7851e38d3df0>,\n",
              " <unstructured.documents.elements.ListItem at 0x7851e38d3cd0>,\n",
              " <unstructured.documents.elements.ListItem at 0x7851e38d3b20>,\n",
              " <unstructured.documents.elements.ListItem at 0x7851e5d4b8b0>,\n",
              " <unstructured.documents.elements.ListItem at 0x7851e5d49690>,\n",
              " <unstructured.documents.elements.ListItem at 0x7851e5d4a1a0>,\n",
              " <unstructured.documents.elements.ListItem at 0x7851e5d4bfa0>,\n",
              " <unstructured.documents.elements.ListItem at 0x7851e5d48700>,\n",
              " <unstructured.documents.elements.ListItem at 0x7851e5d49cf0>,\n",
              " <unstructured.documents.elements.ListItem at 0x7851e5d48760>,\n",
              " <unstructured.documents.elements.ListItem at 0x7851e5d4b280>,\n",
              " <unstructured.documents.elements.NarrativeText at 0x7851e5d489a0>,\n",
              " <unstructured.documents.elements.ListItem at 0x7851e5d4a620>,\n",
              " <unstructured.documents.elements.ListItem at 0x7851e5d4b940>,\n",
              " <unstructured.documents.elements.ListItem at 0x7851e5d4af80>,\n",
              " <unstructured.documents.elements.ListItem at 0x7851e5d4b460>,\n",
              " <unstructured.documents.elements.ListItem at 0x7851e5d4ac50>,\n",
              " <unstructured.documents.elements.ListItem at 0x7851e5d4b670>,\n",
              " <unstructured.documents.elements.ListItem at 0x7851e3a94820>,\n",
              " <unstructured.documents.elements.ListItem at 0x7851e3a94c40>,\n",
              " <unstructured.documents.elements.ListItem at 0x7851e3a95c30>,\n",
              " <unstructured.documents.elements.ListItem at 0x7851e3a972b0>,\n",
              " <unstructured.documents.elements.ListItem at 0x7851e3a97100>,\n",
              " <unstructured.documents.elements.ListItem at 0x7851e3a94550>,\n",
              " <unstructured.documents.elements.NarrativeText at 0x7851e5d48820>,\n",
              " <unstructured.documents.elements.ListItem at 0x7851e3a97be0>,\n",
              " <unstructured.documents.elements.ListItem at 0x7851e3a949d0>,\n",
              " <unstructured.documents.elements.ListItem at 0x7851e3a94640>,\n",
              " <unstructured.documents.elements.ListItem at 0x7851e3a968c0>,\n",
              " <unstructured.documents.elements.ListItem at 0x7851e3a95e70>,\n",
              " <unstructured.documents.elements.ListItem at 0x7851e3a96590>,\n",
              " <unstructured.documents.elements.ListItem at 0x7851e3a95420>,\n",
              " <unstructured.documents.elements.ListItem at 0x7851e3a96890>,\n",
              " <unstructured.documents.elements.ListItem at 0x7851e3a940d0>,\n",
              " <unstructured.documents.elements.ListItem at 0x7851e3a97880>,\n",
              " <unstructured.documents.elements.NarrativeText at 0x7851e5d49b40>,\n",
              " <unstructured.documents.elements.ListItem at 0x7851e5d4a380>,\n",
              " <unstructured.documents.elements.ListItem at 0x7851e5d49780>,\n",
              " <unstructured.documents.elements.ListItem at 0x7851e5d48a60>,\n",
              " <unstructured.documents.elements.ListItem at 0x7851e5d4bc70>,\n",
              " <unstructured.documents.elements.ListItem at 0x7851e5d4a1d0>,\n",
              " <unstructured.documents.elements.ListItem at 0x7851e3a96440>,\n",
              " <unstructured.documents.elements.ListItem at 0x7851e3a94a30>,\n",
              " <unstructured.documents.elements.ListItem at 0x7851e3a97430>,\n",
              " <unstructured.documents.elements.ListItem at 0x7851e3a97640>,\n",
              " <unstructured.documents.elements.ListItem at 0x7851e3a973a0>,\n",
              " <unstructured.documents.elements.ListItem at 0x7851e3a94670>,\n",
              " <unstructured.documents.elements.ListItem at 0x7851e3a95840>,\n",
              " <unstructured.documents.elements.ListItem at 0x7851e3a977f0>,\n",
              " <unstructured.documents.elements.ListItem at 0x7851e3a975b0>,\n",
              " <unstructured.documents.elements.ListItem at 0x7851e3a979a0>,\n",
              " <unstructured.documents.elements.ListItem at 0x7851e3a96050>,\n",
              " <unstructured.documents.elements.NarrativeText at 0x7851e365e740>,\n",
              " <unstructured.documents.elements.ListItem at 0x7851e3a94280>,\n",
              " <unstructured.documents.elements.ListItem at 0x7851e3a95c60>,\n",
              " <unstructured.documents.elements.NarrativeText at 0x7851e5d48850>,\n",
              " <unstructured.documents.elements.ListItem at 0x7851e3a970a0>,\n",
              " <unstructured.documents.elements.ListItem at 0x7851e3a96e30>,\n",
              " <unstructured.documents.elements.Header at 0x7851e5d48af0>,\n",
              " <unstructured.documents.elements.NarrativeText at 0x7851e3a95270>,\n",
              " <unstructured.documents.elements.ListItem at 0x7851e3a94400>,\n",
              " <unstructured.documents.elements.ListItem at 0x7851e3a94d90>,\n",
              " <unstructured.documents.elements.ListItem at 0x7851e3a948b0>,\n",
              " <unstructured.documents.elements.ListItem at 0x7851e3a96530>,\n",
              " <unstructured.documents.elements.ListItem at 0x7851e381d300>,\n",
              " <unstructured.documents.elements.ListItem at 0x7851e381d240>,\n",
              " <unstructured.documents.elements.ListItem at 0x7851e381cbb0>,\n",
              " <unstructured.documents.elements.ListItem at 0x7851e381ceb0>,\n",
              " <unstructured.documents.elements.ListItem at 0x7851e381d570>,\n",
              " <unstructured.documents.elements.ListItem at 0x7851e381fcd0>,\n",
              " <unstructured.documents.elements.ListItem at 0x7851e381eda0>,\n",
              " <unstructured.documents.elements.ListItem at 0x7851e381eb90>,\n",
              " <unstructured.documents.elements.ListItem at 0x7851e381ca00>,\n",
              " <unstructured.documents.elements.ListItem at 0x7851e381eb60>,\n",
              " <unstructured.documents.elements.ListItem at 0x7851e381d2d0>,\n",
              " <unstructured.documents.elements.NarrativeText at 0x7851e5d48250>,\n",
              " <unstructured.documents.elements.ListItem at 0x7851e381ea10>,\n",
              " <unstructured.documents.elements.NarrativeText at 0x7851e5d48910>,\n",
              " <unstructured.documents.elements.NarrativeText at 0x7851e365df90>,\n",
              " <unstructured.documents.elements.ListItem at 0x7851e3a96980>,\n",
              " <unstructured.documents.elements.NarrativeText at 0x7851e365e710>,\n",
              " <unstructured.documents.elements.ListItem at 0x7851e3a97550>,\n",
              " <unstructured.documents.elements.ListItem at 0x7851e381dff0>,\n",
              " <unstructured.documents.elements.ListItem at 0x7851e381dc90>,\n",
              " <unstructured.documents.elements.ListItem at 0x7851e381c280>,\n",
              " <unstructured.documents.elements.ListItem at 0x7851e381c4f0>,\n",
              " <unstructured.documents.elements.Text at 0x7851e365e3b0>,\n",
              " <unstructured.documents.elements.ListItem at 0x7851e381cd60>,\n",
              " <unstructured.documents.elements.ListItem at 0x7851e381d480>,\n",
              " <unstructured.documents.elements.ListItem at 0x7851e381d720>,\n",
              " <unstructured.documents.elements.ListItem at 0x7851e381c340>,\n",
              " <unstructured.documents.elements.ListItem at 0x7851e381d270>,\n",
              " <unstructured.documents.elements.ListItem at 0x7851e381d9c0>,\n",
              " <unstructured.documents.elements.ListItem at 0x7851e381d750>,\n",
              " <unstructured.documents.elements.ListItem at 0x7851e381d840>,\n",
              " <unstructured.documents.elements.NarrativeText at 0x7851e365e2f0>,\n",
              " <unstructured.documents.elements.ListItem at 0x7851e381f430>,\n",
              " <unstructured.documents.elements.ListItem at 0x7851e381f460>,\n",
              " <unstructured.documents.elements.ListItem at 0x7851e381f160>,\n",
              " <unstructured.documents.elements.ListItem at 0x7851e381efb0>,\n",
              " <unstructured.documents.elements.ListItem at 0x7851e381f8e0>,\n",
              " <unstructured.documents.elements.Header at 0x7851e3a96140>,\n",
              " <unstructured.documents.elements.ListItem at 0x7851e381fb80>,\n",
              " <unstructured.documents.elements.ListItem at 0x7851e381f370>,\n",
              " <unstructured.documents.elements.Header at 0x7851e381fd00>]"
            ]
          },
          "metadata": {},
          "execution_count": 25
        }
      ]
    },
    {
      "cell_type": "code",
      "source": [
        "Header=[]\n",
        "Footer=[]\n",
        "Title=[]\n",
        "NarrativeText=[]\n",
        "Text=[]\n",
        "ListItem=[]\n",
        "\n",
        "\n",
        "for element in raw_pdf_elements:\n",
        "  if \"unstructured.documents.elements.Header\" in str(type(element)):\n",
        "            Header.append(str(element))\n",
        "  elif \"unstructured.documents.elements.Footer\" in str(type(element)):\n",
        "            Footer.append(str(element))\n",
        "  elif \"unstructured.documents.elements.Title\" in str(type(element)):\n",
        "            Title.append(str(element))\n",
        "  elif \"unstructured.documents.elements.NarrativeText\" in str(type(element)):\n",
        "            NarrativeText.append(str(element))\n",
        "  elif \"unstructured.documents.elements.Text\" in str(type(element)):\n",
        "            Text.append(str(element))\n",
        "  elif \"unstructured.documents.elements.ListItem\" in str(type(element)):\n",
        "            ListItem.append(str(element))"
      ],
      "metadata": {
        "id": "Sr-Vz68VQAOx"
      },
      "execution_count": 26,
      "outputs": []
    },
    {
      "cell_type": "code",
      "source": [],
      "metadata": {
        "id": "FvhmHa2l-CG-"
      },
      "execution_count": null,
      "outputs": []
    },
    {
      "cell_type": "code",
      "source": [],
      "metadata": {
        "id": "Uy3V2s8aGye4"
      },
      "execution_count": null,
      "outputs": []
    },
    {
      "cell_type": "markdown",
      "source": [
        "## **Extracting Data From HTML Files**"
      ],
      "metadata": {
        "id": "T4l1zqWeGzB7"
      }
    },
    {
      "cell_type": "code",
      "source": [
        "!pip install beautifulsoup4 requests lxml\n"
      ],
      "metadata": {
        "collapsed": true,
        "id": "wBg3IsS8WVx0",
        "outputId": "2e5aca5a-1068-4007-9605-6a6100a2c039",
        "colab": {
          "base_uri": "https://localhost:8080/"
        }
      },
      "execution_count": 27,
      "outputs": [
        {
          "output_type": "stream",
          "name": "stdout",
          "text": [
            "Requirement already satisfied: beautifulsoup4 in /usr/local/lib/python3.10/dist-packages (4.12.3)\n",
            "Requirement already satisfied: requests in /usr/local/lib/python3.10/dist-packages (2.32.3)\n",
            "Requirement already satisfied: lxml in /usr/local/lib/python3.10/dist-packages (4.9.4)\n",
            "Requirement already satisfied: soupsieve>1.2 in /usr/local/lib/python3.10/dist-packages (from beautifulsoup4) (2.6)\n",
            "Requirement already satisfied: charset-normalizer<4,>=2 in /usr/local/lib/python3.10/dist-packages (from requests) (3.3.2)\n",
            "Requirement already satisfied: idna<4,>=2.5 in /usr/local/lib/python3.10/dist-packages (from requests) (3.8)\n",
            "Requirement already satisfied: urllib3<3,>=1.21.1 in /usr/local/lib/python3.10/dist-packages (from requests) (2.0.7)\n",
            "Requirement already satisfied: certifi>=2017.4.17 in /usr/local/lib/python3.10/dist-packages (from requests) (2024.8.30)\n"
          ]
        }
      ]
    },
    {
      "cell_type": "code",
      "source": [
        "from bs4 import BeautifulSoup\n",
        "\n",
        "def load_html_file(file_path):\n",
        "    with open(file_path, 'r', encoding='utf-8') as file:\n",
        "        html_content = file.read()\n",
        "    return html_content\n",
        "\n",
        "html_file_path = \"/content/wild_life.html\"\n",
        "html_content = load_html_file(html_file_path)\n"
      ],
      "metadata": {
        "id": "Z3rew-VY-HbP"
      },
      "execution_count": 28,
      "outputs": []
    },
    {
      "cell_type": "code",
      "source": [
        "soup = BeautifulSoup(html_content, 'lxml')"
      ],
      "metadata": {
        "id": "JHFEvKa8-HeY"
      },
      "execution_count": 29,
      "outputs": []
    },
    {
      "cell_type": "code",
      "source": [
        "# Extract all text content from the HTML\n",
        "text = soup.get_text()\n",
        "print(text)\n"
      ],
      "metadata": {
        "collapsed": true,
        "id": "q1vrTa4U-Hhv",
        "outputId": "da29f0c5-35b2-4539-d049-c4688da51ddd",
        "colab": {
          "base_uri": "https://localhost:8080/"
        }
      },
      "execution_count": 30,
      "outputs": [
        {
          "output_type": "stream",
          "name": "stdout",
          "text": [
            "\n",
            "\n",
            "\n",
            "\n",
            "Wildlife Explorer\n",
            "\n",
            "\n",
            "\n",
            "\n",
            "\n",
            "\n",
            "Wildlife Explorer\n",
            "Discover the beauty of the wild\n",
            "\n",
            "\n",
            "\n",
            "\n",
            "\n",
            "\n",
            "\n",
            "\n",
            "\n",
            "\n",
            "\n",
            "\n",
            "\n",
            "\n",
            "\n",
            "\n",
            "\n",
            "\n",
            "\n",
            "\n",
            "\n",
            "Home\n",
            "Animals\n",
            "Habitats\n",
            "Conservation\n",
            "Contact\n",
            "\n",
            "\n",
            "\n",
            "\n",
            "\n",
            "\n",
            "\n",
            "\n",
            "\n",
            "\n",
            "\n",
            "\n",
            "\n",
            "\n",
            "Welcome to Wildlife Explorer!\n",
            "Explore the diverse and fascinating world of wildlife.\n",
            "\n",
            "Featured Animals / Birds / Snake Species\n",
            "\n",
            "\n",
            "\n",
            "\n",
            "\n",
            "Lion\n",
            "The king of the jungle, known for its majestic mane and powerful roar ... \n",
            "                                Lions, boasting distinctive manes, powerful roars, and cooperative hunting tactics,\n",
            "                                symbolizing strength and royalty while facing conservation challenges.\n",
            "\n",
            "Read more\n",
            "\n",
            "\n",
            "\n",
            "\n",
            "\n",
            "Elephant\n",
            "One of the largest land mammals, with impressive tusks and a gentle demeanor.\n",
            "Read more\n",
            "\n",
            "\n",
            "\n",
            "\n",
            "\n",
            "Giant Panda\n",
            "An endangered species known for its distinctive black-and-white fur.\n",
            "Read more\n",
            "\n",
            "\n",
            "❮\n",
            "❯\n",
            "\n",
            "\n",
            "\n",
            "\n",
            "\n",
            "Resplendent quetzal\n",
            "The resplendent quetzal, revered by ancient civilizations in Central America, is known for\n",
            "                            its stunning iridescent plumage and long, trailing tail feathers. It plays a significant\n",
            "                            role in the ecosystems of cloud forests, where it helps disperse seeds and maintains the\n",
            "                            diversity of plant life.\n",
            "Read more\n",
            "\n",
            "\n",
            "\n",
            "\n",
            "\n",
            "Greater bird-of-paradise\n",
            "The greater bird-of-paradise, native to New Guinea, is famed for its vibrant plumage and\n",
            "                            intricate courtship displays, involving dramatic dances and vocalizations, showcasing its\n",
            "                            beauty\n",
            "                            and prowess to attract mates.\n",
            "Read more\n",
            "\n",
            "\n",
            "\n",
            "\n",
            "\n",
            "Bohemian Waxwing\n",
            "Bohemian waxwings are nomadic, forming large flocks during winter migrations. They feed\n",
            "                            primarily\n",
            "                            on berries and exhibit social behavior, communicating through soft calls.\n",
            "Read more\n",
            "\n",
            "\n",
            "❮\n",
            "❯\n",
            "\n",
            "\n",
            "\n",
            "\n",
            "\n",
            "Inland Taipan\n",
            "The inland taipan is considered the most venomous snake in the world. Its venom is incredibly\n",
            "                            potent, containing neurotoxins that can cause paralysis and death within minutes if left\n",
            "                            untreated.\n",
            "Read more\n",
            "\n",
            "\n",
            "\n",
            "\n",
            "\n",
            "Aipysurus Duboisii\n",
            "Aipysurus duboisii, commonly known as the Dubois' sea snake, is a highly venomous species\n",
            "                            found\n",
            "                            in the waters of northern Australia and Papua New Guinea.\n",
            "Read more\n",
            "\n",
            "\n",
            "\n",
            "\n",
            "\n",
            "Eastern Brown Snake\n",
            " The eastern brown snake, a highly venomous species native to Australia, is responsible for\n",
            "                            the\n",
            "                            majority of snakebite deaths in the country. With its variable coloration ranging from brown\n",
            "                            to\n",
            "                            orange or even black, it's often found in urban areas, farmland, and woodlands, posing a\n",
            "                            significant risk to humans due to its potent venom and defensive behavior when threatened.\n",
            "                        \n",
            "Read more\n",
            "\n",
            "\n",
            "❮\n",
            "❯\n",
            "\n",
            "\n",
            "Natural Habitats\n",
            "Discover the different habitats that support a variety of wildlife species.\n",
            "\n",
            "\n",
            "\n",
            "Forest\n",
            "Home to a diverse range of animals, birds, and plant species.\n",
            "\n",
            "\n",
            "\n",
            "Ocean\n",
            "Teeming with marine life, from colorful fish to majestic whales.\n",
            "\n",
            "\n",
            "\n",
            "Savannah\n",
            "A vast grassland where you can find iconic animals like lions and giraffes.\n",
            "\n",
            "\n",
            "\n",
            "\n",
            "Conservation Efforts\n",
            "Learn about ongoing conservation initiatives to protect endangered species.\n",
            "\n",
            "\n",
            "Our organization is committed to preserving natural habitats and supporting wildlife conservation\n",
            "                    projects worldwide.\n",
            "\n",
            "\n",
            "\n",
            "\n",
            "\n",
            "\n",
            "© 2024 Wildlife Explorer. All rights reserved.\n",
            "\n",
            "\n",
            "\n"
          ]
        }
      ]
    },
    {
      "cell_type": "code",
      "source": [
        "def extract_table_data(soup):\n",
        "    table_data = []\n",
        "    tables = soup.find_all('table')\n",
        "\n",
        "    for table in tables:\n",
        "        rows = table.find_all('tr')  # Find all rows in the table\n",
        "        for row in rows:\n",
        "            cells = row.find_all(['td', 'th'])  # Find all cells in the row\n",
        "            cell_data = [cell.get_text(strip=True) for cell in cells]  # Extract text from each cell\n",
        "            table_data.append(cell_data)\n",
        "\n",
        "    return table_data\n",
        "\n",
        "table_data = extract_table_data(soup)\n",
        "for row in table_data:\n",
        "    print(row)\n"
      ],
      "metadata": {
        "id": "Mx6odoxD-eRj"
      },
      "execution_count": 31,
      "outputs": []
    },
    {
      "cell_type": "code",
      "source": [
        "def extract_links(soup):\n",
        "    links = []\n",
        "    for a_tag in soup.find_all('a', href=True):\n",
        "        links.append(a_tag['href'])\n",
        "    return links\n",
        "\n",
        "# Example usage\n",
        "links = extract_links(soup)\n",
        "print(links)\n"
      ],
      "metadata": {
        "id": "_SNTYGbq-tOi",
        "outputId": "e84171f8-ebe0-4105-c46c-fe826fc04c9c",
        "colab": {
          "base_uri": "https://localhost:8080/"
        }
      },
      "execution_count": 32,
      "outputs": [
        {
          "output_type": "stream",
          "name": "stdout",
          "text": [
            "['#home', '#animals', '#habitats', '#conservation', '#contact']\n"
          ]
        }
      ]
    },
    {
      "cell_type": "code",
      "source": [
        "def extract_images(soup):\n",
        "    image_sources = []\n",
        "    for img_tag in soup.find_all('img', src=True):\n",
        "        image_sources.append(img_tag['src'])\n",
        "    return image_sources"
      ],
      "metadata": {
        "id": "Xl8txZHM-2ca"
      },
      "execution_count": 33,
      "outputs": []
    },
    {
      "cell_type": "code",
      "source": [
        "images = extract_images(soup)\n",
        "print(images)"
      ],
      "metadata": {
        "id": "dPOUAFde-8BA",
        "outputId": "376484e1-249c-404b-aeba-89293c941b07",
        "colab": {
          "base_uri": "https://localhost:8080/"
        }
      },
      "execution_count": 36,
      "outputs": [
        {
          "output_type": "stream",
          "name": "stdout",
          "text": [
            "['https://miro.medium.com/v2/resize:fit:640/format:webp/0*U5W4ghnlzPFl1fIx.jpg', 'https://img.freepik.com/premium-photo/most-beautiful-hummingbird-world-small-colorful-hummingbird-flight_597321-635.jpg', 'https://qph.cf2.quoracdn.net/main-qimg-ea1b382b9b6dc3ccca7dcb5129976c16-lq', 'https://miro.medium.com/v2/resize:fit:640/format:webp/0*k5LYzW1osI106Xz5.jpg', 'https://miro.medium.com/v2/resize:fit:720/format:webp/0*b8FY_lTv9IhD6rDX.jpg', 'https://miro.medium.com/v2/resize:fit:720/format:webp/0*9d_64r5WTCTzkHMn.', 'https://miro.medium.com/v2/resize:fit:1400/format:webp/0*CWFIlODqVm7oq3uK.', 'https://img.huffingtonpost.com/asset/5b9e91ee250000320036ea9d.png?ops=scalefit_630_400_noupscale', 'https://miro.medium.com/v2/resize:fit:720/format:webp/0*JWocE8Ntnk0hKQHT.jpg', 'https://miro.medium.com/v2/resize:fit:1400/format:webp/0*lNZX04dL8zeuQBlN.jpg', 'https://r4.wallpaperflare.com/wallpaper/870/405/200/lion-nature-animals-baby-animals-wallpaper-3251b2907d667e9b1a48b2d5f0783902.jpg', 'https://wallpapercave.com/wp/wp9234056.jpg', 'https://images5.alphacoders.com/998/998726.jpg', 'https://r4.wallpaperflare.com/wallpaper/649/357/114/bird-male-costa-rica-quetzal-wallpaper-99f018fd21da4d0b1697288fe011d61d.jpg', 'https://r4.wallpaperflare.com/wallpaper/201/716/43/4k-bird-of-paradise-bird-wallpaper-78860d1870606c38d09c41ced852c40a.jpg', 'https://r4.wallpaperflare.com/wallpaper/116/663/784/nature-birds-animals-waxwings-wallpaper-a990c8adf14aadfb5627d89fa06136ed.jpg', 'https://content.eol.org/data/media/59/17/8b/18.16a1d544c35de1c504d8e662c13cd76f.jpg', 'https://live.staticflickr.com/3740/8758527500_2dbe15e71c_b.jpg', 'https://inaturalist-open-data.s3.amazonaws.com/photos/67880076/original.jpg', 'forest.jpg', 'ocean.jpg', 'savannah.jpg', 'conservation.jpg']\n"
          ]
        }
      ]
    },
    {
      "cell_type": "code",
      "source": [
        "# Extract elements using CSS selectors\n",
        "titles = soup.select('.title-class')  # Select elements with the class 'title-class'\n",
        "for title in titles:\n",
        "    print(title.get_text(strip=True))\n"
      ],
      "metadata": {
        "id": "p7hrwhU7AAGJ"
      },
      "execution_count": 39,
      "outputs": []
    },
    {
      "cell_type": "code",
      "source": [
        "# Find specific elements by navigating through parents, children, and siblings\n",
        "first_div = soup.find('div')\n",
        "for child in first_div.children:\n",
        "    print(child)\n"
      ],
      "metadata": {
        "collapsed": true,
        "id": "7kfou_M6AFSK",
        "outputId": "eeecbeed-a9a0-4078-f090-ec60041c1f9b",
        "colab": {
          "base_uri": "https://localhost:8080/"
        }
      },
      "execution_count": 40,
      "outputs": [
        {
          "output_type": "stream",
          "name": "stdout",
          "text": [
            "\n",
            "\n",
            "<h1 id=\"h_h1\">Wildlife Explorer</h1>\n",
            "\n",
            "\n",
            "<p id=\"h_p\">Discover the beauty of the wild</p>\n",
            "\n",
            "\n",
            "<div class=\"box\">\n",
            "<span style=\"--i:0\"><img src=\"https://miro.medium.com/v2/resize:fit:640/format:webp/0*U5W4ghnlzPFl1fIx.jpg\"/></span>\n",
            "<span style=\"--i:1\"><img src=\"https://img.freepik.com/premium-photo/most-beautiful-hummingbird-world-small-colorful-hummingbird-flight_597321-635.jpg\"/></span>\n",
            "<span style=\"--i:2\"><img src=\"https://qph.cf2.quoracdn.net/main-qimg-ea1b382b9b6dc3ccca7dcb5129976c16-lq\"/></span>\n",
            "<span style=\"--i:3\"><img src=\"https://miro.medium.com/v2/resize:fit:640/format:webp/0*k5LYzW1osI106Xz5.jpg\"/></span>\n",
            "<span style=\"--i:4\"><img src=\"https://miro.medium.com/v2/resize:fit:720/format:webp/0*b8FY_lTv9IhD6rDX.jpg\"/></span>\n",
            "<span style=\"--i:5\"><img src=\"https://miro.medium.com/v2/resize:fit:720/format:webp/0*9d_64r5WTCTzkHMn.\"/></span>\n",
            "<span style=\"--i:6\"><img src=\"https://miro.medium.com/v2/resize:fit:1400/format:webp/0*CWFIlODqVm7oq3uK.\"/></span>\n",
            "<span style=\"--i:7\"><img src=\"https://img.huffingtonpost.com/asset/5b9e91ee250000320036ea9d.png?ops=scalefit_630_400_noupscale\"/></span>\n",
            "<span style=\"--i:8\"><img src=\"https://miro.medium.com/v2/resize:fit:720/format:webp/0*JWocE8Ntnk0hKQHT.jpg\"/></span>\n",
            "<span style=\"--i:9\"><img src=\"https://miro.medium.com/v2/resize:fit:1400/format:webp/0*lNZX04dL8zeuQBlN.jpg\"/></span>\n",
            "</div>\n",
            "\n",
            "\n"
          ]
        }
      ]
    },
    {
      "cell_type": "code",
      "source": [
        "import csv\n",
        "\n",
        "def save_to_csv(data, output_file):\n",
        "    with open(output_file, mode='w', newline='', encoding='utf-8') as file:\n",
        "        writer = csv.writer(file)\n",
        "        writer.writerows(data)\n",
        "\n",
        "# Example usage\n",
        "save_to_csv(table_data, 'output.csv')\n"
      ],
      "metadata": {
        "id": "4xRLhc5xALMg"
      },
      "execution_count": 41,
      "outputs": []
    },
    {
      "cell_type": "code",
      "source": [
        "from bs4 import BeautifulSoup\n",
        "\n",
        "# Load the HTML file from disk\n",
        "def load_html_file(file_path):\n",
        "    with open(file_path, 'r', encoding='utf-8') as file:\n",
        "        html_content = file.read()\n",
        "    return html_content\n",
        "\n",
        "# Parse the HTML content\n",
        "html_file_path = \"index.html\"\n",
        "html_content = load_html_file(html_file_path)\n",
        "soup = BeautifulSoup(html_content, 'lxml')\n",
        "\n",
        "# Check for text content\n",
        "text_content = soup.get_text(strip=True)\n",
        "print(\"Text content found:\", len(text_content) > 0)\n",
        "\n",
        "# Check for tables\n",
        "tables = soup.find_all('table')\n",
        "print(\"Number of tables found:\", len(tables))\n",
        "\n",
        "# Check for images\n",
        "images = soup.find_all('img')\n",
        "print(\"Number of images found:\", len(images))\n",
        "\n",
        "# Check for links\n",
        "links = soup.find_all('a', href=True)\n",
        "print(\"Number of links found:\", len(links))\n",
        "\n",
        "# Check for forms\n",
        "forms = soup.find_all('form')\n",
        "print(\"Number of forms found:\", len(forms))\n",
        "\n",
        "# Check for lists\n",
        "unordered_lists = soup.find_all('ul')\n",
        "ordered_lists = soup.find_all('ol')\n",
        "print(\"Number of unordered lists found:\", len(unordered_lists))\n",
        "print(\"Number of ordered lists found:\", len(ordered_lists))\n",
        "\n",
        "# Check for scripts\n",
        "scripts = soup.find_all('script')\n",
        "print(\"Number of scripts found:\", len(scripts))\n",
        "\n",
        "# Check for embedded content\n",
        "iframes = soup.find_all('iframe')\n",
        "audio_files = soup.find_all('audio')\n",
        "video_files = soup.find_all('video')\n",
        "print(\"Number of iframes found:\", len(iframes))\n",
        "print(\"Number of audio files found:\", len(audio_files))\n",
        "print(\"Number of video files found:\", len(video_files))\n"
      ],
      "metadata": {
        "id": "7KJZab1bGha4",
        "outputId": "cf1de225-490f-4823-ef02-3686d94c6364",
        "colab": {
          "base_uri": "https://localhost:8080/"
        }
      },
      "execution_count": 42,
      "outputs": [
        {
          "output_type": "stream",
          "name": "stdout",
          "text": [
            "Text content found: True\n",
            "Number of tables found: 1\n",
            "Number of images found: 0\n",
            "Number of links found: 13\n",
            "Number of forms found: 0\n",
            "Number of unordered lists found: 6\n",
            "Number of ordered lists found: 0\n",
            "Number of scripts found: 0\n",
            "Number of iframes found: 0\n",
            "Number of audio files found: 0\n",
            "Number of video files found: 0\n"
          ]
        }
      ]
    },
    {
      "cell_type": "code",
      "source": [],
      "metadata": {
        "id": "p0S92KcxHAjn"
      },
      "execution_count": null,
      "outputs": []
    },
    {
      "cell_type": "code",
      "source": [],
      "metadata": {
        "id": "I2ascUFTHAnR"
      },
      "execution_count": null,
      "outputs": []
    }
  ],
  "metadata": {
    "colab": {
      "name": "Welcome To Colab",
      "provenance": [],
      "include_colab_link": true
    },
    "kernelspec": {
      "display_name": "Python 3",
      "name": "python3"
    }
  },
  "nbformat": 4,
  "nbformat_minor": 0
}